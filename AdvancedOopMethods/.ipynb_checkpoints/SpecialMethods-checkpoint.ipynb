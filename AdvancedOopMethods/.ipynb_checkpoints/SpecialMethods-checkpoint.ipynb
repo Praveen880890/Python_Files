{
 "cells": [
  {
   "cell_type": "code",
   "execution_count": 15,
   "id": "3a853e56-07ca-4b1c-81e5-c588d58c6fcd",
   "metadata": {},
   "outputs": [],
   "source": [
    "class competition:\n",
    "    def __init__(self,name,price):\n",
    "        self.__name  = name\n",
    "        self.__price = price\n",
    "    def __repr__(self):\n",
    "        return \"Competition is {} and the price associated with it is {}\".format(self.__name,self.__price)\n",
    "    def __str__(self):\n",
    "        return \"{} , {}\".format(self.__name,self.__price)"
   ]
  },
  {
   "cell_type": "code",
   "execution_count": 16,
   "id": "8314c2d4-855f-4484-b7af-3b7dbc15f258",
   "metadata": {},
   "outputs": [],
   "source": [
    "c = competition(\"Rowing\",1299)"
   ]
  },
  {
   "cell_type": "code",
   "execution_count": 17,
   "id": "ac4a5e10-face-4b4c-82a5-c1014529c1b9",
   "metadata": {},
   "outputs": [
    {
     "data": {
      "text/plain": [
       "Competition is Rowing and the price associated with it is 1299"
      ]
     },
     "execution_count": 17,
     "metadata": {},
     "output_type": "execute_result"
    }
   ],
   "source": [
    "c"
   ]
  },
  {
   "cell_type": "code",
   "execution_count": 18,
   "id": "fefa18a9-5db5-42c0-8ae0-5cec57cc078e",
   "metadata": {},
   "outputs": [
    {
     "name": "stdout",
     "output_type": "stream",
     "text": [
      "Rowing , 1299\n"
     ]
    }
   ],
   "source": [
    "print(c)"
   ]
  },
  {
   "cell_type": "code",
   "execution_count": 19,
   "id": "7c6ec211-a989-4bd6-a446-a4ad93a24806",
   "metadata": {},
   "outputs": [
    {
     "data": {
      "text/plain": [
       "'Rowing , 1299'"
      ]
     },
     "execution_count": 19,
     "metadata": {},
     "output_type": "execute_result"
    }
   ],
   "source": [
    "str(c)"
   ]
  },
  {
   "cell_type": "code",
   "execution_count": 20,
   "id": "8cf28005-9622-4995-9fd6-d97857997cd5",
   "metadata": {},
   "outputs": [
    {
     "name": "stdout",
     "output_type": "stream",
     "text": [
      "Competition is Rowing and the price associated with it is 1299\n"
     ]
    }
   ],
   "source": [
    "print(repr(c))"
   ]
  },
  {
   "cell_type": "code",
   "execution_count": 21,
   "id": "e982da9e-9694-422b-8e41-5908afa5ae36",
   "metadata": {},
   "outputs": [
    {
     "name": "stdout",
     "output_type": "stream",
     "text": [
      "Rowing , 1299\n"
     ]
    }
   ],
   "source": [
    "print(str(c))"
   ]
  },
  {
   "cell_type": "code",
   "execution_count": 22,
   "id": "cf27975f-5edd-449a-8304-20480e00c612",
   "metadata": {},
   "outputs": [
    {
     "data": {
      "text/plain": [
       "'Competition is Rowing and the price associated with it is 1299'"
      ]
     },
     "execution_count": 22,
     "metadata": {},
     "output_type": "execute_result"
    }
   ],
   "source": [
    "c.__repr__()"
   ]
  },
  {
   "cell_type": "code",
   "execution_count": 23,
   "id": "c47f7de6-adea-44cb-8be9-899a03a6a1ef",
   "metadata": {},
   "outputs": [
    {
     "data": {
      "text/plain": [
       "'Rowing , 1299'"
      ]
     },
     "execution_count": 23,
     "metadata": {},
     "output_type": "execute_result"
    }
   ],
   "source": [
    "c.__str__()"
   ]
  },
  {
   "cell_type": "code",
   "execution_count": 31,
   "id": "2bca198f-9597-48b5-9f70-d5f5e92f4615",
   "metadata": {},
   "outputs": [],
   "source": [
    "class savings:\n",
    "    def __init__(self,amnt):\n",
    "        self.__amnt = amnt\n",
    "    def __add__(self,other):\n",
    "        return self.__amnt + other.__amnt\n",
    "    def __sub__(self,other):\n",
    "        return self.__amnt - other.__amnt"
   ]
  },
  {
   "cell_type": "code",
   "execution_count": 32,
   "id": "67d080fb-f85e-4800-9228-fd1e69431d78",
   "metadata": {},
   "outputs": [],
   "source": [
    "s1 = savings(100)\n",
    "s2 = savings(220)"
   ]
  },
  {
   "cell_type": "code",
   "execution_count": 33,
   "id": "6f676f70-69cb-4c72-a466-92e834b538cf",
   "metadata": {},
   "outputs": [
    {
     "data": {
      "text/plain": [
       "320"
      ]
     },
     "execution_count": 33,
     "metadata": {},
     "output_type": "execute_result"
    }
   ],
   "source": [
    "s1 + s2"
   ]
  },
  {
   "cell_type": "code",
   "execution_count": 34,
   "id": "a0bd0c70-77c7-4a42-b3c8-d90495a78219",
   "metadata": {},
   "outputs": [
    {
     "data": {
      "text/plain": [
       "320"
      ]
     },
     "execution_count": 34,
     "metadata": {},
     "output_type": "execute_result"
    }
   ],
   "source": [
    "s1.__add__(s2)"
   ]
  },
  {
   "cell_type": "markdown",
   "id": "ed89411c-a778-4d6b-b5d5-3e1c92cc1c8e",
   "metadata": {},
   "source": []
  }
 ],
 "metadata": {
  "kernelspec": {
   "display_name": "Python 3 (ipykernel)",
   "language": "python",
   "name": "python3"
  },
  "language_info": {
   "codemirror_mode": {
    "name": "ipython",
    "version": 3
   },
   "file_extension": ".py",
   "mimetype": "text/x-python",
   "name": "python",
   "nbconvert_exporter": "python",
   "pygments_lexer": "ipython3",
   "version": "3.8.10"
  }
 },
 "nbformat": 4,
 "nbformat_minor": 5
}
