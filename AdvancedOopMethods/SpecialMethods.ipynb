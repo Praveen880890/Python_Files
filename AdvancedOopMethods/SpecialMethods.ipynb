{
 "cells": [
  {
   "cell_type": "code",
   "execution_count": 15,
   "id": "3a853e56-07ca-4b1c-81e5-c588d58c6fcd",
   "metadata": {},
   "outputs": [],
   "source": [
    "class competition:\n",
    "    def __init__(self,name,price):\n",
    "        self.__name  = name\n",
    "        self.__price = price\n",
    "    def __repr__(self):\n",
    "        return \"Competition is {} and the price associated with it is {}\".format(self.__name,self.__price)\n",
    "    def __str__(self):\n",
    "        return \"{} , {}\".format(self.__name,self.__price)"
   ]
  },
  {
   "cell_type": "code",
   "execution_count": 16,
   "id": "8314c2d4-855f-4484-b7af-3b7dbc15f258",
   "metadata": {},
   "outputs": [],
   "source": [
    "c = competition(\"Rowing\",1299)"
   ]
  },
  {
   "cell_type": "code",
   "execution_count": 17,
   "id": "ac4a5e10-face-4b4c-82a5-c1014529c1b9",
   "metadata": {},
   "outputs": [
    {
     "data": {
      "text/plain": [
       "Competition is Rowing and the price associated with it is 1299"
      ]
     },
     "execution_count": 17,
     "metadata": {},
     "output_type": "execute_result"
    }
   ],
   "source": [
    "c"
   ]
  },
  {
   "cell_type": "code",
   "execution_count": 18,
   "id": "fefa18a9-5db5-42c0-8ae0-5cec57cc078e",
   "metadata": {},
   "outputs": [
    {
     "name": "stdout",
     "output_type": "stream",
     "text": [
      "Rowing , 1299\n"
     ]
    }
   ],
   "source": [
    "print(c)"
   ]
  },
  {
   "cell_type": "code",
   "execution_count": 19,
   "id": "7c6ec211-a989-4bd6-a446-a4ad93a24806",
   "metadata": {},
   "outputs": [
    {
     "data": {
      "text/plain": [
       "'Rowing , 1299'"
      ]
     },
     "execution_count": 19,
     "metadata": {},
     "output_type": "execute_result"
    }
   ],
   "source": [
    "str(c)"
   ]
  },
  {
   "cell_type": "code",
   "execution_count": 20,
   "id": "8cf28005-9622-4995-9fd6-d97857997cd5",
   "metadata": {},
   "outputs": [
    {
     "name": "stdout",
     "output_type": "stream",
     "text": [
      "Competition is Rowing and the price associated with it is 1299\n"
     ]
    }
   ],
   "source": [
    "print(repr(c))"
   ]
  },
  {
   "cell_type": "code",
   "execution_count": 21,
   "id": "e982da9e-9694-422b-8e41-5908afa5ae36",
   "metadata": {},
   "outputs": [
    {
     "name": "stdout",
     "output_type": "stream",
     "text": [
      "Rowing , 1299\n"
     ]
    }
   ],
   "source": [
    "print(str(c))"
   ]
  },
  {
   "cell_type": "code",
   "execution_count": 22,
   "id": "cf27975f-5edd-449a-8304-20480e00c612",
   "metadata": {},
   "outputs": [
    {
     "data": {
      "text/plain": [
       "'Competition is Rowing and the price associated with it is 1299'"
      ]
     },
     "execution_count": 22,
     "metadata": {},
     "output_type": "execute_result"
    }
   ],
   "source": [
    "c.__repr__()"
   ]
  },
  {
   "cell_type": "code",
   "execution_count": 23,
   "id": "c47f7de6-adea-44cb-8be9-899a03a6a1ef",
   "metadata": {},
   "outputs": [
    {
     "data": {
      "text/plain": [
       "'Rowing , 1299'"
      ]
     },
     "execution_count": 23,
     "metadata": {},
     "output_type": "execute_result"
    }
   ],
   "source": [
    "c.__str__()"
   ]
  },
  {
   "cell_type": "code",
   "execution_count": 111,
   "id": "2bca198f-9597-48b5-9f70-d5f5e92f4615",
   "metadata": {},
   "outputs": [],
   "source": [
    "class savings:\n",
    "    def __init__(self,amnt):\n",
    "        self.__amnt = amnt\n",
    "    def __add__(self,other):\n",
    "        return self.__amnt + other.__amnt\n",
    "    def __sub__(self,other):\n",
    "        return self.__amnt - other.__amnt\n",
    "    def __mul__(self,other):\n",
    "        if type(other.__amnt) == int or type(other.__amnt)== float:\n",
    "            return self.__amnt * other.__amnt\n",
    "        else:\n",
    "            raise valueError(\"Can only multiply by int or float\")\n",
    "    def __floordiv__(self,other):\n",
    "        return self.__amnt // other.__amnt\n",
    "    def __mod__(self,other):\n",
    "        return self.__amnt % other.__amnt\n",
    "    def __pow__(self,other):\n",
    "        return self.__amnt ** other.__amnt"
   ]
  },
  {
   "cell_type": "code",
   "execution_count": 112,
   "id": "67d080fb-f85e-4800-9228-fd1e69431d78",
   "metadata": {},
   "outputs": [],
   "source": [
    "s1 = savings(100)\n",
    "s2 = savings(23)"
   ]
  },
  {
   "cell_type": "code",
   "execution_count": 113,
   "id": "6f676f70-69cb-4c72-a466-92e834b538cf",
   "metadata": {},
   "outputs": [
    {
     "data": {
      "text/plain": [
       "123"
      ]
     },
     "execution_count": 113,
     "metadata": {},
     "output_type": "execute_result"
    }
   ],
   "source": [
    "s1 + s2"
   ]
  },
  {
   "cell_type": "code",
   "execution_count": 114,
   "id": "a0bd0c70-77c7-4a42-b3c8-d90495a78219",
   "metadata": {},
   "outputs": [
    {
     "data": {
      "text/plain": [
       "123"
      ]
     },
     "execution_count": 114,
     "metadata": {},
     "output_type": "execute_result"
    }
   ],
   "source": [
    "s1.__add__(s2)"
   ]
  },
  {
   "cell_type": "code",
   "execution_count": 115,
   "id": "ba235682-e448-41fb-9bfd-b00555be5a52",
   "metadata": {},
   "outputs": [
    {
     "data": {
      "text/plain": [
       "-77"
      ]
     },
     "execution_count": 115,
     "metadata": {},
     "output_type": "execute_result"
    }
   ],
   "source": [
    "s2-s1\n"
   ]
  },
  {
   "cell_type": "code",
   "execution_count": 116,
   "id": "d0c797cd-262f-4ff8-933a-a7cbfc04edac",
   "metadata": {},
   "outputs": [
    {
     "data": {
      "text/plain": [
       "-77"
      ]
     },
     "execution_count": 116,
     "metadata": {},
     "output_type": "execute_result"
    }
   ],
   "source": [
    "s2.__sub__(s1)"
   ]
  },
  {
   "cell_type": "code",
   "execution_count": 117,
   "id": "f28e8a5a-f674-4302-979c-3b513f319513",
   "metadata": {},
   "outputs": [
    {
     "data": {
      "text/plain": [
       "2300"
      ]
     },
     "execution_count": 117,
     "metadata": {},
     "output_type": "execute_result"
    }
   ],
   "source": [
    "s1*s2"
   ]
  },
  {
   "cell_type": "code",
   "execution_count": 118,
   "id": "a0608024-6672-4620-b6a4-664add80f90a",
   "metadata": {},
   "outputs": [
    {
     "data": {
      "text/plain": [
       "4"
      ]
     },
     "execution_count": 118,
     "metadata": {},
     "output_type": "execute_result"
    }
   ],
   "source": [
    "s1//s2"
   ]
  },
  {
   "cell_type": "code",
   "execution_count": 119,
   "id": "50448dde-93d1-4a14-be2c-a45c92b202c9",
   "metadata": {},
   "outputs": [
    {
     "data": {
      "text/plain": [
       "8"
      ]
     },
     "execution_count": 119,
     "metadata": {},
     "output_type": "execute_result"
    }
   ],
   "source": [
    "s1%s2"
   ]
  },
  {
   "cell_type": "code",
   "execution_count": 120,
   "id": "76ab0243-748e-4619-86b8-f0a2bb05b583",
   "metadata": {},
   "outputs": [
    {
     "data": {
      "text/plain": [
       "10000000000000000000000000000000000000000000000"
      ]
     },
     "execution_count": 120,
     "metadata": {},
     "output_type": "execute_result"
    }
   ],
   "source": [
    "s1 ** s2"
   ]
  },
  {
   "cell_type": "code",
   "execution_count": 122,
   "id": "88564596-3926-4ef0-bcd5-ee3747a22bb5",
   "metadata": {},
   "outputs": [],
   "source": [
    "class participants:\n",
    "    def __init__(self):\n",
    "        self.__p = []\n",
    "    def add_p(self,name):\n",
    "        self.__p.append(name)\n",
    "    def __len__(self):\n",
    "        return len(self.__p)"
   ]
  },
  {
   "cell_type": "code",
   "execution_count": 123,
   "id": "2d05f895-b868-44a2-b3eb-0b7e49fc7266",
   "metadata": {},
   "outputs": [],
   "source": [
    "p = participants()"
   ]
  },
  {
   "cell_type": "code",
   "execution_count": 124,
   "id": "28cc532e-ea1b-4a5a-8056-ef4e7be7d381",
   "metadata": {},
   "outputs": [],
   "source": [
    "p.add_p(\"adarsh\")"
   ]
  },
  {
   "cell_type": "code",
   "execution_count": 125,
   "id": "7f947aed-c659-4d3a-aee3-c3e6c039bffe",
   "metadata": {},
   "outputs": [],
   "source": [
    "p.add_p(\"ramya\")"
   ]
  },
  {
   "cell_type": "code",
   "execution_count": 126,
   "id": "3a79730e-71f7-4fdd-8c3f-0f3588a9b1ed",
   "metadata": {},
   "outputs": [
    {
     "data": {
      "text/plain": [
       "2"
      ]
     },
     "execution_count": 126,
     "metadata": {},
     "output_type": "execute_result"
    }
   ],
   "source": [
    "len(p)"
   ]
  },
  {
   "cell_type": "code",
   "execution_count": 128,
   "id": "52c45101-e22d-4a27-a8ac-5a090baf3370",
   "metadata": {},
   "outputs": [],
   "source": [
    "l = [1,2,3,4,5,6]"
   ]
  },
  {
   "cell_type": "code",
   "execution_count": 139,
   "id": "3b857c8c-e5d2-4bf4-84cc-d4ce459badbf",
   "metadata": {},
   "outputs": [],
   "source": [
    "class participants:\n",
    "    def __init__(self):\n",
    "        self.__p = []\n",
    "        self.__index = 0\n",
    "    def add_p(self,name):\n",
    "        self.__p.append(name)\n",
    "    def __len__(self):\n",
    "        return len(self.__p)\n",
    "    def __iter__(self):\n",
    "        self.__index = 0\n",
    "        return self\n",
    "    def __next__(self):\n",
    "        if self.__index == len(self.__p):\n",
    "            raise StopIteration\n",
    "        p = self.__p[self.__index]\n",
    "        self.__index+=1\n",
    "        return p"
   ]
  },
  {
   "cell_type": "code",
   "execution_count": 140,
   "id": "b9c8c8fc-4ad9-4752-99cc-4d76e474c04c",
   "metadata": {},
   "outputs": [],
   "source": [
    "p = participants()\n",
    "p.add_p(\"adarsh\")\n",
    "p.add_p(\"raju\")\n",
    "p.add_p(\"ramesh\")\n",
    "p.add_p(\"rahul\")\n",
    "p.add_p(\"rakesh\")\n",
    "p.add_p(\"ramu\")"
   ]
  },
  {
   "cell_type": "code",
   "execution_count": 141,
   "id": "9e17c2a6-04ef-45c5-8386-34dac19686e7",
   "metadata": {},
   "outputs": [
    {
     "name": "stdout",
     "output_type": "stream",
     "text": [
      "adarsh\n",
      "raju\n",
      "ramesh\n",
      "rahul\n",
      "rakesh\n",
      "ramu\n"
     ]
    }
   ],
   "source": [
    "for i in p:\n",
    "    print(i)"
   ]
  },
  {
   "cell_type": "code",
   "execution_count": 142,
   "id": "f1269aa6-9a50-4b50-b5ad-fb5961d822bc",
   "metadata": {},
   "outputs": [],
   "source": [
    "p.add_p(\"adani\")"
   ]
  },
  {
   "cell_type": "code",
   "execution_count": 143,
   "id": "602b48e4-18a6-432b-bf82-a0d4dc9e936e",
   "metadata": {},
   "outputs": [
    {
     "name": "stdout",
     "output_type": "stream",
     "text": [
      "adarsh\n",
      "raju\n",
      "ramesh\n",
      "rahul\n",
      "rakesh\n",
      "ramu\n",
      "adani\n"
     ]
    }
   ],
   "source": [
    "for i in p:\n",
    "    print(i)"
   ]
  },
  {
   "cell_type": "code",
   "execution_count": 153,
   "id": "7cbf1a9e-627c-4c43-81d6-c5f2803fae10",
   "metadata": {},
   "outputs": [
    {
     "data": {
      "text/plain": [
       "<__main__.participants at 0x293548cc640>"
      ]
     },
     "execution_count": 153,
     "metadata": {},
     "output_type": "execute_result"
    }
   ],
   "source": [
    "iter(p)"
   ]
  },
  {
   "cell_type": "code",
   "execution_count": 154,
   "id": "3a61853f-d7af-474f-8816-ce25bbe807c9",
   "metadata": {},
   "outputs": [
    {
     "data": {
      "text/plain": [
       "'adarsh'"
      ]
     },
     "execution_count": 154,
     "metadata": {},
     "output_type": "execute_result"
    }
   ],
   "source": [
    "next(p)"
   ]
  },
  {
   "cell_type": "code",
   "execution_count": 155,
   "id": "8f0cc12c-5c53-442f-b1c8-d3df229e3a95",
   "metadata": {},
   "outputs": [
    {
     "data": {
      "text/plain": [
       "'raju'"
      ]
     },
     "execution_count": 155,
     "metadata": {},
     "output_type": "execute_result"
    }
   ],
   "source": [
    "next(p)"
   ]
  },
  {
   "cell_type": "code",
   "execution_count": 156,
   "id": "fedc98f1-dcbe-4a7f-976c-ac2aaa63acbc",
   "metadata": {},
   "outputs": [
    {
     "data": {
      "text/plain": [
       "'ramesh'"
      ]
     },
     "execution_count": 156,
     "metadata": {},
     "output_type": "execute_result"
    }
   ],
   "source": [
    "next(p)"
   ]
  },
  {
   "cell_type": "code",
   "execution_count": null,
   "id": "b1a15a74-b6b9-4cdc-9909-cc2b4af81a57",
   "metadata": {},
   "outputs": [],
   "source": []
  }
 ],
 "metadata": {
  "kernelspec": {
   "display_name": "Python 3 (ipykernel)",
   "language": "python",
   "name": "python3"
  },
  "language_info": {
   "codemirror_mode": {
    "name": "ipython",
    "version": 3
   },
   "file_extension": ".py",
   "mimetype": "text/x-python",
   "name": "python",
   "nbconvert_exporter": "python",
   "pygments_lexer": "ipython3",
   "version": "3.8.10"
  }
 },
 "nbformat": 4,
 "nbformat_minor": 5
}
