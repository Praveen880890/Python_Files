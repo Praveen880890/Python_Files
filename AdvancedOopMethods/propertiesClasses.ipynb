{
 "cells": [
  {
   "cell_type": "code",
   "execution_count": 7,
   "id": "eb2d278b-4847-4759-aea4-a742a11e6d5c",
   "metadata": {},
   "outputs": [],
   "source": [
    "class wrestler:\n",
    "    def __init__(self):\n",
    "        self.__name= \"\"\n",
    "    def set_name(self,name):\n",
    "        print(\"setter method called\")\n",
    "        self.__name = name\n",
    "    def get_name(self):\n",
    "        print(\"getter method called\")\n",
    "        return self.__name\n",
    "    def del_name(self):\n",
    "        print(\"delete method called\")\n",
    "        del self.__name\n",
    "    name = property(get_name,set_name,del_name)"
   ]
  },
  {
   "cell_type": "code",
   "execution_count": 8,
   "id": "ee674b33-3cdb-4a31-9026-4e5b66ec3d37",
   "metadata": {},
   "outputs": [],
   "source": [
    "w = wrestler()\n"
   ]
  },
  {
   "cell_type": "code",
   "execution_count": 9,
   "id": "0894ab24-7118-4536-89e7-34ad33b6062f",
   "metadata": {},
   "outputs": [
    {
     "name": "stdout",
     "output_type": "stream",
     "text": [
      "setter method called\n"
     ]
    }
   ],
   "source": [
    "w.name = \"Kart\"\n"
   ]
  },
  {
   "cell_type": "code",
   "execution_count": 10,
   "id": "8a9b5766-9ba9-4f63-b7ca-a08dd1960761",
   "metadata": {},
   "outputs": [
    {
     "name": "stdout",
     "output_type": "stream",
     "text": [
      "getter method called\n"
     ]
    },
    {
     "data": {
      "text/plain": [
       "'Kart'"
      ]
     },
     "execution_count": 10,
     "metadata": {},
     "output_type": "execute_result"
    }
   ],
   "source": [
    "w.name"
   ]
  },
  {
   "cell_type": "code",
   "execution_count": 11,
   "id": "5957e2bc-0391-42dd-8d26-c65ee518ac8c",
   "metadata": {},
   "outputs": [
    {
     "name": "stdout",
     "output_type": "stream",
     "text": [
      "delete method called\n"
     ]
    }
   ],
   "source": [
    "del w.name\n"
   ]
  },
  {
   "cell_type": "code",
   "execution_count": 12,
   "id": "5eccc472-f6f5-46c4-b94d-2408676a2648",
   "metadata": {},
   "outputs": [
    {
     "data": {
      "text/plain": [
       "<__main__.wrestler at 0x1f9a903a1c0>"
      ]
     },
     "execution_count": 12,
     "metadata": {},
     "output_type": "execute_result"
    }
   ],
   "source": [
    "w"
   ]
  },
  {
   "cell_type": "code",
   "execution_count": 24,
   "id": "729c182e-1351-4ae6-bc7b-a2ee89074a75",
   "metadata": {},
   "outputs": [],
   "source": [
    "class wrestler:\n",
    "    def __init__(self):\n",
    "        self.__name= \"\"\n",
    "    \n",
    "    @property\n",
    "    def name(self):\n",
    "        print(\"getter method called\")\n",
    "        return self.__name\n",
    "    @name.setter\n",
    "    def name(self,name):\n",
    "        print(\"setter method called\")\n",
    "        self.__name = name\n",
    "    \n",
    "    @name.deleter\n",
    "    def name(self):\n",
    "        print(\"delete method called\")\n",
    "        del self.__name\n",
    "    # name = property(get_name,set_name,del_name)"
   ]
  },
  {
   "cell_type": "code",
   "execution_count": 25,
   "id": "7187c664-add1-446a-bbbc-6f13ca1a0b40",
   "metadata": {},
   "outputs": [],
   "source": [
    "w = wrestler()"
   ]
  },
  {
   "cell_type": "code",
   "execution_count": 26,
   "id": "b73f7c5c-1afe-4c92-bf93-4f6b2c0950da",
   "metadata": {},
   "outputs": [
    {
     "name": "stdout",
     "output_type": "stream",
     "text": [
      "setter method called\n"
     ]
    }
   ],
   "source": [
    "w.name = \"Rocky\""
   ]
  },
  {
   "cell_type": "code",
   "execution_count": 27,
   "id": "8e7df425-7485-4972-9253-8b6e0695e46f",
   "metadata": {},
   "outputs": [
    {
     "name": "stdout",
     "output_type": "stream",
     "text": [
      "getter method called\n"
     ]
    },
    {
     "data": {
      "text/plain": [
       "'Rocky'"
      ]
     },
     "execution_count": 27,
     "metadata": {},
     "output_type": "execute_result"
    }
   ],
   "source": [
    "w.name"
   ]
  },
  {
   "cell_type": "code",
   "execution_count": 28,
   "id": "71157ba9-fc20-4320-ab9e-cf1d6ce9fea9",
   "metadata": {},
   "outputs": [
    {
     "name": "stdout",
     "output_type": "stream",
     "text": [
      "delete method called\n"
     ]
    }
   ],
   "source": [
    "del w.name"
   ]
  },
  {
   "cell_type": "code",
   "execution_count": null,
   "id": "530e5b64-4548-4503-b950-a69da4a6df0b",
   "metadata": {},
   "outputs": [],
   "source": []
  },
  {
   "cell_type": "code",
   "execution_count": 45,
   "id": "2434f811-8c66-4b45-be5f-a948ca8b9427",
   "metadata": {},
   "outputs": [],
   "source": [
    "class competition:\n",
    "    __raise_amount = 1.04\n",
    "    def __init__(self,name,prize):\n",
    "        self.__name = name\n",
    "        self.__prize = prize\n",
    "    def raise_prize(self):\n",
    "        self.__prize = self.__prize * self.__raise_amount\n",
    "    def print_details(self):\n",
    "        print(\"Name: {}, Prize: {}\".format(self.__name,self.__prize))\n",
    "    @classmethod\n",
    "    def get_raise_amount(cls):\n",
    "        return cls.__raise_amount\n",
    "    @classmethod\n",
    "    def set_raise_amount(cls,amount):\n",
    "        cls.__raise_amount = amount\n",
    "    @classmethod\n",
    "    def from_str(cls,stg):\n",
    "        name,prize = stg.split(\"-\")\n",
    "        return cls(name,prize)"
   ]
  },
  {
   "cell_type": "code",
   "execution_count": 46,
   "id": "fe4ef91f-03cf-4df4-b0d1-71e8a5723d09",
   "metadata": {},
   "outputs": [],
   "source": [
    "sprint = competition(\"Sprint\",2399)\n"
   ]
  },
  {
   "cell_type": "code",
   "execution_count": 47,
   "id": "3087fcb5-da1b-4760-9334-d8f8ab6d30dc",
   "metadata": {},
   "outputs": [
    {
     "data": {
      "text/plain": [
       "1.04"
      ]
     },
     "execution_count": 47,
     "metadata": {},
     "output_type": "execute_result"
    }
   ],
   "source": [
    "competition.get_raise_amount()"
   ]
  },
  {
   "cell_type": "code",
   "execution_count": 48,
   "id": "38f4ce69-64c4-4c1c-b776-5c2f60c9f0c6",
   "metadata": {},
   "outputs": [],
   "source": [
    "sprint.set_raise_amount(1.06)"
   ]
  },
  {
   "cell_type": "code",
   "execution_count": 51,
   "id": "f9769755-18db-498a-9f9b-0630f8fe5ce5",
   "metadata": {},
   "outputs": [],
   "source": [
    "swim = \"Swiming-20000\"\n",
    "swim = competition.from_str(swim)"
   ]
  },
  {
   "cell_type": "code",
   "execution_count": 52,
   "id": "80ed1eb9-1604-4768-96df-7cc466a37f28",
   "metadata": {},
   "outputs": [
    {
     "name": "stdout",
     "output_type": "stream",
     "text": [
      "Name: Swiming, Prize: 20000\n"
     ]
    }
   ],
   "source": [
    "swim.print_details()"
   ]
  },
  {
   "cell_type": "code",
   "execution_count": 105,
   "id": "03d5d88d-91b8-483f-aaf9-dd2d57b38686",
   "metadata": {},
   "outputs": [],
   "source": [
    "class rectangle:\n",
    "    __ram=10\n",
    "    @staticmethod\n",
    "    def area(x,y):\n",
    "        x=x+rectangle.__ram\n",
    "        return x*y\n",
    "        "
   ]
  },
  {
   "cell_type": "code",
   "execution_count": 96,
   "id": "251684fe-7c8f-4bf6-af34-0c9896dd4036",
   "metadata": {},
   "outputs": [],
   "source": [
    "# rectangle.area = staticmethod(rectangle.area)"
   ]
  },
  {
   "cell_type": "code",
   "execution_count": 106,
   "id": "b2bea7fe-38bb-4bac-92b2-863546197f67",
   "metadata": {},
   "outputs": [],
   "source": [
    "r = rectangle()"
   ]
  },
  {
   "cell_type": "code",
   "execution_count": 107,
   "id": "7ebac5a6-5467-411f-bd47-05edaa0f9a40",
   "metadata": {},
   "outputs": [
    {
     "name": "stdout",
     "output_type": "stream",
     "text": [
      "area of rectangle is 48\n"
     ]
    }
   ],
   "source": [
    "print(\"area of rectangle is\", rectangle.area(2,4))"
   ]
  },
  {
   "cell_type": "code",
   "execution_count": 108,
   "id": "f72cde84-af41-4663-bad5-ea391a0de26f",
   "metadata": {},
   "outputs": [
    {
     "data": {
      "text/plain": [
       "36"
      ]
     },
     "execution_count": 108,
     "metadata": {},
     "output_type": "execute_result"
    }
   ],
   "source": [
    "r.area(2,3)"
   ]
  },
  {
   "cell_type": "code",
   "execution_count": 109,
   "id": "8964abcc-e80b-4b4f-9c14-95c9b28fed9f",
   "metadata": {},
   "outputs": [],
   "source": [
    "from abc import ABC, abstractmethod"
   ]
  },
  {
   "cell_type": "code",
   "execution_count": 116,
   "id": "edd7cbcb-fbc5-495d-816a-bd72f2f9edcf",
   "metadata": {},
   "outputs": [],
   "source": [
    "class hominide(ABC):\n",
    "    @abstractmethod\n",
    "    def diet(self):\n",
    "        pass\n",
    "    def walk(self):\n",
    "        pass\n",
    "    def behavior(self):\n",
    "        print(\"they show complex facial expression and social behaviour\")"
   ]
  },
  {
   "cell_type": "code",
   "execution_count": 117,
   "id": "1800b00a-71c4-4fb1-af10-30a553457b0b",
   "metadata": {},
   "outputs": [
    {
     "ename": "TypeError",
     "evalue": "Can't instantiate abstract class hominide with abstract methods diet",
     "output_type": "error",
     "traceback": [
      "\u001b[1;31m---------------------------------------------------------------------------\u001b[0m",
      "\u001b[1;31mTypeError\u001b[0m                                 Traceback (most recent call last)",
      "Cell \u001b[1;32mIn[117], line 1\u001b[0m\n\u001b[1;32m----> 1\u001b[0m chimp \u001b[38;5;241m=\u001b[39m \u001b[43mhominide\u001b[49m\u001b[43m(\u001b[49m\u001b[43m)\u001b[49m\n\u001b[0;32m      2\u001b[0m chimp\u001b[38;5;241m.\u001b[39mbehavior()\n",
      "\u001b[1;31mTypeError\u001b[0m: Can't instantiate abstract class hominide with abstract methods diet"
     ]
    }
   ],
   "source": [
    "chimp = hominide()\n",
    "chimp.behavior()"
   ]
  },
  {
   "cell_type": "code",
   "execution_count": 115,
   "id": "7081d808-6ead-42e7-af99-082b86d7e050",
   "metadata": {},
   "outputs": [],
   "source": [
    "chimp.walk()"
   ]
  },
  {
   "cell_type": "code",
   "execution_count": 118,
   "id": "efe312fa-6b30-4c98-909b-32b004a0e4a2",
   "metadata": {},
   "outputs": [],
   "source": [
    "class human(hominide):\n",
    "    def diet(self):\n",
    "        print(\"human are cornivorous\")"
   ]
  },
  {
   "cell_type": "code",
   "execution_count": 119,
   "id": "78e37478-a3ef-4745-a1e8-4e8a5d29459d",
   "metadata": {},
   "outputs": [],
   "source": [
    "h= human()"
   ]
  },
  {
   "cell_type": "code",
   "execution_count": null,
   "id": "c007a4e7-a5e8-4b0c-93df-c597d7b05592",
   "metadata": {},
   "outputs": [],
   "source": []
  }
 ],
 "metadata": {
  "kernelspec": {
   "display_name": "Python 3 (ipykernel)",
   "language": "python",
   "name": "python3"
  },
  "language_info": {
   "codemirror_mode": {
    "name": "ipython",
    "version": 3
   },
   "file_extension": ".py",
   "mimetype": "text/x-python",
   "name": "python",
   "nbconvert_exporter": "python",
   "pygments_lexer": "ipython3",
   "version": "3.8.10"
  }
 },
 "nbformat": 4,
 "nbformat_minor": 5
}
