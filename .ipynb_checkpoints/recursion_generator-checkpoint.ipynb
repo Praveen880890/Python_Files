{
 "cells": [
  {
   "cell_type": "code",
   "execution_count": 1,
   "id": "be72560c-2e02-4d25-ae8e-3d08b50d398a",
   "metadata": {},
   "outputs": [],
   "source": [
    "def decr(num):\n",
    "    if num==0:\n",
    "        return 0\n",
    "    result = num + decr(num-1)\n",
    "    return result\n",
    "    "
   ]
  },
  {
   "cell_type": "code",
   "execution_count": 3,
   "id": "adb84ac2-ca58-4c04-9fc0-65da49479d66",
   "metadata": {},
   "outputs": [
    {
     "data": {
      "text/plain": [
       "15"
      ]
     },
     "execution_count": 3,
     "metadata": {},
     "output_type": "execute_result"
    }
   ],
   "source": [
    "decr(5)\n"
   ]
  },
  {
   "cell_type": "code",
   "execution_count": 2,
   "id": "21317c57-4796-44ef-b525-ac7f88f820c2",
   "metadata": {},
   "outputs": [],
   "source": [
    "def fact(num):\n",
    "    if num <0:\n",
    "        print(\"nn\")\n",
    "        return \n",
    "    if num == 0 :\n",
    "        return 1\n",
    "    return num * fact(num-1)"
   ]
  },
  {
   "cell_type": "code",
   "execution_count": null,
   "id": "8f10d547-f261-4ba6-90ce-4691744eebc0",
   "metadata": {},
   "outputs": [],
   "source": [
    "fact (3000)\n"
   ]
  },
  {
   "cell_type": "code",
   "execution_count": 26,
   "id": "3b067942-0474-488f-abe9-665871306404",
   "metadata": {},
   "outputs": [],
   "source": [
    "def fib(num,fib_series):\n",
    "    if num<3:\n",
    "        return \n",
    "    l = len(fib_series)\n",
    "    new_num = fib_series[l-1]+fib_series[l-2]\n",
    "    fib_series.append(new_num)\n",
    "    fib(num-1,fib_series)\n",
    "    "
   ]
  },
  {
   "cell_type": "code",
   "execution_count": 27,
   "id": "9b29f567-4993-401f-b164-238771672fff",
   "metadata": {},
   "outputs": [
    {
     "data": {
      "text/plain": [
       "[0, 1, 1, 2]"
      ]
     },
     "execution_count": 27,
     "metadata": {},
     "output_type": "execute_result"
    }
   ],
   "source": [
    "fib_series=[0,1]\n",
    "fib(4,fib_series)\n",
    "fib_series"
   ]
  },
  {
   "cell_type": "code",
   "execution_count": 28,
   "id": "770b61f2-43d9-4cd2-aee1-4545a1aedc6a",
   "metadata": {},
   "outputs": [],
   "source": [
    "## Generator"
   ]
  },
  {
   "cell_type": "code",
   "execution_count": 30,
   "id": "b8ccbd52-cac2-4bb8-abe5-b65d39d7f7cd",
   "metadata": {},
   "outputs": [],
   "source": [
    "def generator():\n",
    "    print(\"one!\")\n",
    "    yield 1\n",
    "    print(\"TWO\")\n",
    "    yield 2 \n",
    "    print(\"THREE\")\n",
    "    yield 3\n",
    "    print(\"four\")\n",
    "    yield 4\n",
    "    "
   ]
  },
  {
   "cell_type": "code",
   "execution_count": 31,
   "id": "8826ec0b-b82e-412a-95ec-b886465d0b83",
   "metadata": {},
   "outputs": [
    {
     "data": {
      "text/plain": [
       "<generator object generator at 0x000001DF1589CBA0>"
      ]
     },
     "execution_count": 31,
     "metadata": {},
     "output_type": "execute_result"
    }
   ],
   "source": [
    "g= generator()\n",
    "g"
   ]
  },
  {
   "cell_type": "code",
   "execution_count": 32,
   "id": "acbdd107-7305-4adc-9345-529bbe7aa14c",
   "metadata": {},
   "outputs": [
    {
     "name": "stdout",
     "output_type": "stream",
     "text": [
      "one!\n"
     ]
    },
    {
     "data": {
      "text/plain": [
       "1"
      ]
     },
     "execution_count": 32,
     "metadata": {},
     "output_type": "execute_result"
    }
   ],
   "source": [
    "next(g)"
   ]
  },
  {
   "cell_type": "code",
   "execution_count": 33,
   "id": "be6d13b9-f23a-4a4a-86a3-ac0b3a9e87ef",
   "metadata": {},
   "outputs": [
    {
     "name": "stdout",
     "output_type": "stream",
     "text": [
      "TWO\n"
     ]
    },
    {
     "data": {
      "text/plain": [
       "2"
      ]
     },
     "execution_count": 33,
     "metadata": {},
     "output_type": "execute_result"
    }
   ],
   "source": [
    "next(g)"
   ]
  },
  {
   "cell_type": "code",
   "execution_count": 34,
   "id": "0dc35331-2438-4fdf-a7ba-538f24356bc3",
   "metadata": {},
   "outputs": [
    {
     "name": "stdout",
     "output_type": "stream",
     "text": [
      "THREE\n"
     ]
    },
    {
     "data": {
      "text/plain": [
       "3"
      ]
     },
     "execution_count": 34,
     "metadata": {},
     "output_type": "execute_result"
    }
   ],
   "source": [
    "next(g)"
   ]
  },
  {
   "cell_type": "code",
   "execution_count": 35,
   "id": "16b43559-b20a-4da5-a812-f1dcb538d3ab",
   "metadata": {},
   "outputs": [
    {
     "name": "stdout",
     "output_type": "stream",
     "text": [
      "four\n"
     ]
    },
    {
     "data": {
      "text/plain": [
       "4"
      ]
     },
     "execution_count": 35,
     "metadata": {},
     "output_type": "execute_result"
    }
   ],
   "source": [
    "next(g)"
   ]
  },
  {
   "cell_type": "code",
   "execution_count": 36,
   "id": "969ebe46-abc9-41c0-9275-7ff40cecdd8b",
   "metadata": {},
   "outputs": [
    {
     "ename": "StopIteration",
     "evalue": "",
     "output_type": "error",
     "traceback": [
      "\u001b[1;31m---------------------------------------------------------------------------\u001b[0m",
      "\u001b[1;31mStopIteration\u001b[0m                             Traceback (most recent call last)",
      "Cell \u001b[1;32mIn[36], line 1\u001b[0m\n\u001b[1;32m----> 1\u001b[0m \u001b[38;5;28;43mnext\u001b[39;49m\u001b[43m(\u001b[49m\u001b[43mg\u001b[49m\u001b[43m)\u001b[49m\n",
      "\u001b[1;31mStopIteration\u001b[0m: "
     ]
    }
   ],
   "source": [
    "next(g)"
   ]
  },
  {
   "cell_type": "code",
   "execution_count": 37,
   "id": "10772238-face-4ecf-a204-fc0113a99744",
   "metadata": {},
   "outputs": [],
   "source": [
    "g= generator()"
   ]
  },
  {
   "cell_type": "code",
   "execution_count": 38,
   "id": "16de0ec7-8a98-4633-88af-e29daca22bd6",
   "metadata": {},
   "outputs": [
    {
     "data": {
      "text/plain": [
       "<generator object generator at 0x000001DF1589CF90>"
      ]
     },
     "execution_count": 38,
     "metadata": {},
     "output_type": "execute_result"
    }
   ],
   "source": [
    "g\n"
   ]
  },
  {
   "cell_type": "code",
   "execution_count": 39,
   "id": "a4325183-9d4a-4c94-916e-d5ad9c48bd7f",
   "metadata": {},
   "outputs": [],
   "source": [
    "k= generator()"
   ]
  },
  {
   "cell_type": "code",
   "execution_count": 40,
   "id": "ea036b60-db04-4937-8e4f-27723713f27f",
   "metadata": {},
   "outputs": [
    {
     "data": {
      "text/plain": [
       "<generator object generator at 0x000001DF158B9190>"
      ]
     },
     "execution_count": 40,
     "metadata": {},
     "output_type": "execute_result"
    }
   ],
   "source": [
    "k"
   ]
  },
  {
   "cell_type": "code",
   "execution_count": 41,
   "id": "5bf06a37-ec34-4b80-ac98-387f14128ac9",
   "metadata": {},
   "outputs": [
    {
     "name": "stdout",
     "output_type": "stream",
     "text": [
      "one!\n"
     ]
    },
    {
     "data": {
      "text/plain": [
       "1"
      ]
     },
     "execution_count": 41,
     "metadata": {},
     "output_type": "execute_result"
    }
   ],
   "source": [
    "next(g)"
   ]
  },
  {
   "cell_type": "code",
   "execution_count": 42,
   "id": "42823849-45b1-40cb-8d3f-b8ca028c8848",
   "metadata": {},
   "outputs": [
    {
     "name": "stdout",
     "output_type": "stream",
     "text": [
      "one!\n"
     ]
    },
    {
     "data": {
      "text/plain": [
       "1"
      ]
     },
     "execution_count": 42,
     "metadata": {},
     "output_type": "execute_result"
    }
   ],
   "source": [
    "next(k)"
   ]
  },
  {
   "cell_type": "code",
   "execution_count": 43,
   "id": "2b199769-a95c-4e6c-bed7-f0438f1c4c2c",
   "metadata": {},
   "outputs": [
    {
     "name": "stdout",
     "output_type": "stream",
     "text": [
      "TWO\n",
      "THREE\n"
     ]
    },
    {
     "data": {
      "text/plain": [
       "3"
      ]
     },
     "execution_count": 43,
     "metadata": {},
     "output_type": "execute_result"
    }
   ],
   "source": [
    "next(g)\n",
    "next(g)"
   ]
  },
  {
   "cell_type": "code",
   "execution_count": 44,
   "id": "5974f0e7-750d-4e5e-a5ad-290e7eaf87fd",
   "metadata": {},
   "outputs": [
    {
     "name": "stdout",
     "output_type": "stream",
     "text": [
      "TWO\n",
      "THREE\n",
      "four\n"
     ]
    },
    {
     "data": {
      "text/plain": [
       "4"
      ]
     },
     "execution_count": 44,
     "metadata": {},
     "output_type": "execute_result"
    }
   ],
   "source": [
    "next(k)\n",
    "next(k)\n",
    "next(k)"
   ]
  },
  {
   "cell_type": "code",
   "execution_count": 45,
   "id": "3206a4ba-6c6b-4215-a868-932c8a401a41",
   "metadata": {},
   "outputs": [],
   "source": [
    "def generator():\n",
    "    n=1\n",
    "    print(\"one!\")\n",
    "    yield n\n",
    "\n",
    "    n+=1\n",
    "    print(\"TWO\")\n",
    "    yield n\n",
    "\n",
    "    n+=1\n",
    "    print(\"THREE\")\n",
    "    yield n\n",
    "\n",
    "    n+=1\n",
    "    print(\"four\")\n",
    "    yield n\n",
    "    "
   ]
  },
  {
   "cell_type": "code",
   "execution_count": 46,
   "id": "977889aa-ae31-4004-8ca5-70b35ea033b1",
   "metadata": {},
   "outputs": [
    {
     "name": "stdout",
     "output_type": "stream",
     "text": [
      "one!\n"
     ]
    },
    {
     "data": {
      "text/plain": [
       "1"
      ]
     },
     "execution_count": 46,
     "metadata": {},
     "output_type": "execute_result"
    }
   ],
   "source": [
    "g=generator()\n",
    "next(g)"
   ]
  },
  {
   "cell_type": "code",
   "execution_count": 47,
   "id": "c080df08-b3fe-46ec-8d29-c9792447c6ce",
   "metadata": {},
   "outputs": [
    {
     "name": "stdout",
     "output_type": "stream",
     "text": [
      "TWO\n"
     ]
    },
    {
     "data": {
      "text/plain": [
       "2"
      ]
     },
     "execution_count": 47,
     "metadata": {},
     "output_type": "execute_result"
    }
   ],
   "source": [
    "next(g)"
   ]
  },
  {
   "cell_type": "code",
   "execution_count": 57,
   "id": "fd0661ed-03d5-4ccc-8614-23eb59662cb7",
   "metadata": {},
   "outputs": [],
   "source": [
    "def gen_even(limit):\n",
    "    for i in range(0,limit,2):\n",
    "        yield i**2"
   ]
  },
  {
   "cell_type": "code",
   "execution_count": 58,
   "id": "420d0c77-30d7-4c9a-b992-0b29daa8c8aa",
   "metadata": {},
   "outputs": [],
   "source": [
    "g= gen_even(7)"
   ]
  },
  {
   "cell_type": "code",
   "execution_count": 59,
   "id": "b57c96f8-20bd-4fb8-95f2-fd0ac7d53e04",
   "metadata": {},
   "outputs": [
    {
     "data": {
      "text/plain": [
       "0"
      ]
     },
     "execution_count": 59,
     "metadata": {},
     "output_type": "execute_result"
    }
   ],
   "source": [
    "next(g)"
   ]
  },
  {
   "cell_type": "code",
   "execution_count": 60,
   "id": "5c69ae3e-c272-47c4-8393-4567b9b9d8a5",
   "metadata": {},
   "outputs": [
    {
     "data": {
      "text/plain": [
       "4"
      ]
     },
     "execution_count": 60,
     "metadata": {},
     "output_type": "execute_result"
    }
   ],
   "source": [
    "next(g)"
   ]
  },
  {
   "cell_type": "code",
   "execution_count": 61,
   "id": "69691eac-9401-439f-a3ac-3b4f60772439",
   "metadata": {},
   "outputs": [
    {
     "data": {
      "text/plain": [
       "16"
      ]
     },
     "execution_count": 61,
     "metadata": {},
     "output_type": "execute_result"
    }
   ],
   "source": [
    "next(g)"
   ]
  },
  {
   "cell_type": "code",
   "execution_count": 62,
   "id": "c933b483-34ee-411a-9326-ec54d0338f9e",
   "metadata": {},
   "outputs": [],
   "source": [
    "g= list(gen_even(344))"
   ]
  },
  {
   "cell_type": "code",
   "execution_count": 63,
   "id": "00768678-96f7-4edd-bd80-ce634e98a3b5",
   "metadata": {},
   "outputs": [
    {
     "data": {
      "text/plain": [
       "[0,\n",
       " 4,\n",
       " 16,\n",
       " 36,\n",
       " 64,\n",
       " 100,\n",
       " 144,\n",
       " 196,\n",
       " 256,\n",
       " 324,\n",
       " 400,\n",
       " 484,\n",
       " 576,\n",
       " 676,\n",
       " 784,\n",
       " 900,\n",
       " 1024,\n",
       " 1156,\n",
       " 1296,\n",
       " 1444,\n",
       " 1600,\n",
       " 1764,\n",
       " 1936,\n",
       " 2116,\n",
       " 2304,\n",
       " 2500,\n",
       " 2704,\n",
       " 2916,\n",
       " 3136,\n",
       " 3364,\n",
       " 3600,\n",
       " 3844,\n",
       " 4096,\n",
       " 4356,\n",
       " 4624,\n",
       " 4900,\n",
       " 5184,\n",
       " 5476,\n",
       " 5776,\n",
       " 6084,\n",
       " 6400,\n",
       " 6724,\n",
       " 7056,\n",
       " 7396,\n",
       " 7744,\n",
       " 8100,\n",
       " 8464,\n",
       " 8836,\n",
       " 9216,\n",
       " 9604,\n",
       " 10000,\n",
       " 10404,\n",
       " 10816,\n",
       " 11236,\n",
       " 11664,\n",
       " 12100,\n",
       " 12544,\n",
       " 12996,\n",
       " 13456,\n",
       " 13924,\n",
       " 14400,\n",
       " 14884,\n",
       " 15376,\n",
       " 15876,\n",
       " 16384,\n",
       " 16900,\n",
       " 17424,\n",
       " 17956,\n",
       " 18496,\n",
       " 19044,\n",
       " 19600,\n",
       " 20164,\n",
       " 20736,\n",
       " 21316,\n",
       " 21904,\n",
       " 22500,\n",
       " 23104,\n",
       " 23716,\n",
       " 24336,\n",
       " 24964,\n",
       " 25600,\n",
       " 26244,\n",
       " 26896,\n",
       " 27556,\n",
       " 28224,\n",
       " 28900,\n",
       " 29584,\n",
       " 30276,\n",
       " 30976,\n",
       " 31684,\n",
       " 32400,\n",
       " 33124,\n",
       " 33856,\n",
       " 34596,\n",
       " 35344,\n",
       " 36100,\n",
       " 36864,\n",
       " 37636,\n",
       " 38416,\n",
       " 39204,\n",
       " 40000,\n",
       " 40804,\n",
       " 41616,\n",
       " 42436,\n",
       " 43264,\n",
       " 44100,\n",
       " 44944,\n",
       " 45796,\n",
       " 46656,\n",
       " 47524,\n",
       " 48400,\n",
       " 49284,\n",
       " 50176,\n",
       " 51076,\n",
       " 51984,\n",
       " 52900,\n",
       " 53824,\n",
       " 54756,\n",
       " 55696,\n",
       " 56644,\n",
       " 57600,\n",
       " 58564,\n",
       " 59536,\n",
       " 60516,\n",
       " 61504,\n",
       " 62500,\n",
       " 63504,\n",
       " 64516,\n",
       " 65536,\n",
       " 66564,\n",
       " 67600,\n",
       " 68644,\n",
       " 69696,\n",
       " 70756,\n",
       " 71824,\n",
       " 72900,\n",
       " 73984,\n",
       " 75076,\n",
       " 76176,\n",
       " 77284,\n",
       " 78400,\n",
       " 79524,\n",
       " 80656,\n",
       " 81796,\n",
       " 82944,\n",
       " 84100,\n",
       " 85264,\n",
       " 86436,\n",
       " 87616,\n",
       " 88804,\n",
       " 90000,\n",
       " 91204,\n",
       " 92416,\n",
       " 93636,\n",
       " 94864,\n",
       " 96100,\n",
       " 97344,\n",
       " 98596,\n",
       " 99856,\n",
       " 101124,\n",
       " 102400,\n",
       " 103684,\n",
       " 104976,\n",
       " 106276,\n",
       " 107584,\n",
       " 108900,\n",
       " 110224,\n",
       " 111556,\n",
       " 112896,\n",
       " 114244,\n",
       " 115600,\n",
       " 116964]"
      ]
     },
     "execution_count": 63,
     "metadata": {},
     "output_type": "execute_result"
    }
   ],
   "source": [
    "g"
   ]
  },
  {
   "cell_type": "code",
   "execution_count": 64,
   "id": "04bdda56-dc69-4e01-9124-9ba29577eafb",
   "metadata": {},
   "outputs": [],
   "source": [
    "def gen_pow():\n",
    "    num = 0\n",
    "    while True:\n",
    "        num = num +1\n",
    "        yield 2**num\n",
    "        "
   ]
  },
  {
   "cell_type": "code",
   "execution_count": 65,
   "id": "de681fa3-619b-4364-a1c3-f6fde90ebbef",
   "metadata": {},
   "outputs": [],
   "source": [
    "gen= gen_pow()"
   ]
  },
  {
   "cell_type": "code",
   "execution_count": 66,
   "id": "87269110-53ed-451c-b256-90b3e1695f40",
   "metadata": {},
   "outputs": [
    {
     "data": {
      "text/plain": [
       "2"
      ]
     },
     "execution_count": 66,
     "metadata": {},
     "output_type": "execute_result"
    }
   ],
   "source": [
    "next(gen)"
   ]
  },
  {
   "cell_type": "code",
   "execution_count": 67,
   "id": "5c40ecd7-7266-423f-b86f-a2d19af12b2b",
   "metadata": {},
   "outputs": [
    {
     "data": {
      "text/plain": [
       "4"
      ]
     },
     "execution_count": 67,
     "metadata": {},
     "output_type": "execute_result"
    }
   ],
   "source": [
    "next(gen)"
   ]
  },
  {
   "cell_type": "code",
   "execution_count": 87,
   "id": "21dce05c-a797-4074-9ecb-9189f0cbb330",
   "metadata": {},
   "outputs": [
    {
     "name": "stdout",
     "output_type": "stream",
     "text": [
      "21267647932558653966460912964485513216\n",
      "42535295865117307932921825928971026432\n",
      "85070591730234615865843651857942052864\n",
      "170141183460469231731687303715884105728\n",
      "340282366920938463463374607431768211456\n",
      "680564733841876926926749214863536422912\n",
      "1361129467683753853853498429727072845824\n",
      "2722258935367507707706996859454145691648\n",
      "5444517870735015415413993718908291383296\n",
      "10889035741470030830827987437816582766592\n",
      "21778071482940061661655974875633165533184\n"
     ]
    }
   ],
   "source": [
    "count = 0 \n",
    "for p in gen:\n",
    "    print(p)\n",
    "    count+=1\n",
    "    if count >10:\n",
    "        break"
   ]
  },
  {
   "cell_type": "code",
   "execution_count": null,
   "id": "4b5a2a03-90de-4247-a048-5366fb4fab81",
   "metadata": {},
   "outputs": [],
   "source": []
  },
  {
   "cell_type": "code",
   "execution_count": null,
   "id": "d8172c58-e601-4081-ba29-ad4c5dea5d52",
   "metadata": {},
   "outputs": [],
   "source": []
  }
 ],
 "metadata": {
  "kernelspec": {
   "display_name": "Python 3 (ipykernel)",
   "language": "python",
   "name": "python3"
  },
  "language_info": {
   "codemirror_mode": {
    "name": "ipython",
    "version": 3
   },
   "file_extension": ".py",
   "mimetype": "text/x-python",
   "name": "python",
   "nbconvert_exporter": "python",
   "pygments_lexer": "ipython3",
   "version": "3.8.10"
  }
 },
 "nbformat": 4,
 "nbformat_minor": 5
}
