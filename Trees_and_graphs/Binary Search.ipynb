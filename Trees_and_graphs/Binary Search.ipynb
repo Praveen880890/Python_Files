{
 "cells": [
  {
   "cell_type": "code",
   "execution_count": 1,
   "id": "5f7cdc4f-e397-4262-9019-8c7ceeb36d47",
   "metadata": {},
   "outputs": [],
   "source": [
    "def binary_search(sorted_list,key):\n",
    "    min_index = 0\n",
    "    max_index = len(sorted_list) -1 \n",
    "    while (min_index<= max_index):\n",
    "        mid = (min_index+max_index)//2\n",
    "        if sorted_list[mid]==key:\n",
    "            return mid\n",
    "        elif sorted_list[mid]>key:\n",
    "            max_index = mid -1\n",
    "        else :\n",
    "            min_index = mid +1\n",
    "    return -1\n",
    "    "
   ]
  },
  {
   "cell_type": "code",
   "execution_count": 2,
   "id": "7a481770-5cfb-4697-a963-2c12174c3f25",
   "metadata": {},
   "outputs": [],
   "source": [
    "num_list = [1,2,5,23,26,27,71,76,433,43334,556666,100000]"
   ]
  },
  {
   "cell_type": "code",
   "execution_count": 3,
   "id": "911c1202-03a9-48e2-910b-b21073c1cdfa",
   "metadata": {},
   "outputs": [
    {
     "data": {
      "text/plain": [
       "7"
      ]
     },
     "execution_count": 3,
     "metadata": {},
     "output_type": "execute_result"
    }
   ],
   "source": [
    "binary_search(num_list,76)"
   ]
  },
  {
   "cell_type": "code",
   "execution_count": 4,
   "id": "4f355519-a9f9-43d6-b84d-4ed62598b000",
   "metadata": {},
   "outputs": [
    {
     "data": {
      "text/plain": [
       "-1"
      ]
     },
     "execution_count": 4,
     "metadata": {},
     "output_type": "execute_result"
    }
   ],
   "source": [
    "binary_search(num_list,45)\n"
   ]
  },
  {
   "cell_type": "code",
   "execution_count": null,
   "id": "b9aabf73-baa7-406d-8765-abbfc456e565",
   "metadata": {},
   "outputs": [],
   "source": []
  }
 ],
 "metadata": {
  "kernelspec": {
   "display_name": "Python 3 (ipykernel)",
   "language": "python",
   "name": "python3"
  },
  "language_info": {
   "codemirror_mode": {
    "name": "ipython",
    "version": 3
   },
   "file_extension": ".py",
   "mimetype": "text/x-python",
   "name": "python",
   "nbconvert_exporter": "python",
   "pygments_lexer": "ipython3",
   "version": "3.8.10"
  }
 },
 "nbformat": 4,
 "nbformat_minor": 5
}
