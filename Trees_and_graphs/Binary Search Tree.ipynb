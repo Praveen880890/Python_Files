{
 "cells": [
  {
   "cell_type": "code",
   "execution_count": 1,
   "id": "deea2029-ccb8-429e-97c5-43b8586b1d01",
   "metadata": {},
   "outputs": [],
   "source": [
    "class Node:\n",
    "    def __init__(self,data):\n",
    "        self.left = None\n",
    "        self.right = None\n",
    "\n",
    "        self.data = data\n",
    "    def get_left_child(self):\n",
    "        return self.left\n",
    "    def set_left_child(self,left):\n",
    "        self.left = left\n",
    "    def get_right_child(self):\n",
    "        return self.right\n",
    "    def set_right_child(self,right):\n",
    "        self.right = right\n",
    "    def get_value(self):\n",
    "        return self.data\n",
    "    def set_value(self,value):\n",
    "        self.data = value\n",
    "    def print_tree(self):\n",
    "        if self.left:\n",
    "            self.left.print_tree()\n",
    "        print(self.data)\n",
    "        if self.right:\n",
    "            self.right.print_tree()\n",
    "            "
   ]
  },
  {
   "cell_type": "code",
   "execution_count": 2,
   "id": "bf1200cc-7275-4b0c-9c03-4717d2661ea1",
   "metadata": {},
   "outputs": [],
   "source": [
    "def insert(head,node):\n",
    "    if head == None:\n",
    "        return node\n",
    "    if node.get_value() <= head.get_value():\n",
    "        head.set_left_child(insert(head.get_left_child(),node))\n",
    "    else:\n",
    "        head.set_right_child(insert(head.get_right_child(),node))\n",
    "    return head\n",
    "\n",
    "        "
   ]
  },
  {
   "cell_type": "code",
   "execution_count": 3,
   "id": "c7363fb5-2e0f-4a23-bd70-6b1e20993ac5",
   "metadata": {},
   "outputs": [],
   "source": [
    "A = Node(45)\n",
    "B = Node(2)\n",
    "C = Node(33)\n",
    "D = Node(54)\n",
    "E = Node(25)\n",
    "F = Node(68)\n",
    "G = Node(72)\n",
    "H = Node(81)\n",
    "I = Node(23)"
   ]
  },
  {
   "cell_type": "code",
   "execution_count": 4,
   "id": "597a28e7-3362-4a39-9172-19f5cd8ea62c",
   "metadata": {},
   "outputs": [],
   "source": [
    "head = insert(None,E)"
   ]
  },
  {
   "cell_type": "code",
   "execution_count": 5,
   "id": "b7af1cbe-5069-4137-b8f6-8a9a2e3643dc",
   "metadata": {},
   "outputs": [
    {
     "name": "stdout",
     "output_type": "stream",
     "text": [
      "25\n"
     ]
    }
   ],
   "source": [
    "head.print_tree()"
   ]
  },
  {
   "cell_type": "code",
   "execution_count": 6,
   "id": "ae43c057-33df-42ab-b1b4-e10a1e0db8aa",
   "metadata": {},
   "outputs": [
    {
     "data": {
      "text/plain": [
       "<__main__.Node at 0x24830091610>"
      ]
     },
     "execution_count": 6,
     "metadata": {},
     "output_type": "execute_result"
    }
   ],
   "source": [
    "insert(head,B)\n"
   ]
  },
  {
   "cell_type": "code",
   "execution_count": 7,
   "id": "da039e15-fa22-4737-be67-65cea709343f",
   "metadata": {},
   "outputs": [
    {
     "data": {
      "text/plain": [
       "<__main__.Node at 0x24830091610>"
      ]
     },
     "execution_count": 7,
     "metadata": {},
     "output_type": "execute_result"
    }
   ],
   "source": [
    "insert(head,C)"
   ]
  },
  {
   "cell_type": "code",
   "execution_count": 8,
   "id": "1b100f8d-4900-46f9-8761-41cd22ba8bb1",
   "metadata": {},
   "outputs": [
    {
     "name": "stdout",
     "output_type": "stream",
     "text": [
      "2\n",
      "23\n",
      "25\n",
      "33\n",
      "45\n"
     ]
    }
   ],
   "source": [
    "insert(head,I)\n",
    "insert(head,A)\n",
    "head.print_tree()"
   ]
  },
  {
   "cell_type": "code",
   "execution_count": 9,
   "id": "90167fa3-0c03-4d6a-9b4c-640c1a38ee65",
   "metadata": {},
   "outputs": [
    {
     "data": {
      "text/plain": [
       "<__main__.Node at 0x24830091610>"
      ]
     },
     "execution_count": 9,
     "metadata": {},
     "output_type": "execute_result"
    }
   ],
   "source": [
    "insert(head,D)\n",
    "insert(head,F)\n",
    "insert(head,G)\n",
    "insert(head,H)"
   ]
  },
  {
   "cell_type": "code",
   "execution_count": 10,
   "id": "dda3f578-f58b-4c59-b0c4-5a985ebff1fb",
   "metadata": {},
   "outputs": [
    {
     "name": "stdout",
     "output_type": "stream",
     "text": [
      "2\n",
      "23\n",
      "25\n",
      "33\n",
      "45\n",
      "54\n",
      "68\n",
      "72\n",
      "81\n"
     ]
    }
   ],
   "source": [
    "head.print_tree()"
   ]
  },
  {
   "cell_type": "code",
   "execution_count": 11,
   "id": "17f96969-0683-4300-9dd3-0241981f96df",
   "metadata": {},
   "outputs": [],
   "source": [
    "def lookup(head,data):\n",
    "    if head == None:\n",
    "        return print(\"Value not found\")\n",
    "    if head.get_value() == data:\n",
    "        return head\n",
    "    if data <= head.get_value():\n",
    "        return lookup(head.get_left_child(),data)\n",
    "    else :\n",
    "        return lookup(head.get_right_child(),data)\n",
    "        "
   ]
  },
  {
   "cell_type": "code",
   "execution_count": 12,
   "id": "b1aed890-6b14-4d7d-bb35-85e2050c53a0",
   "metadata": {},
   "outputs": [],
   "source": [
    "def print_node(node):\n",
    "    if (node ==None):\n",
    "        print(\"Not Found\")\n",
    "    \n",
    "    else:print(node.get_value())"
   ]
  },
  {
   "cell_type": "code",
   "execution_count": 13,
   "id": "fde56892-b4e7-4301-8d85-31b98043ad5e",
   "metadata": {},
   "outputs": [
    {
     "name": "stdout",
     "output_type": "stream",
     "text": [
      "Value not found\n",
      "Not Found\n"
     ]
    }
   ],
   "source": [
    "print_node(lookup(head,6))"
   ]
  },
  {
   "cell_type": "code",
   "execution_count": 14,
   "id": "025c92f2-8db0-428a-afa7-a0356fa97372",
   "metadata": {},
   "outputs": [],
   "source": [
    "def min_value(head):\n",
    "    curr = head\n",
    "    while curr.left!=None:\n",
    "        curr = curr.left\n",
    "    return curr.data"
   ]
  },
  {
   "cell_type": "code",
   "execution_count": 15,
   "id": "023a7a78-1762-4c0b-867a-b127c98afa15",
   "metadata": {},
   "outputs": [
    {
     "data": {
      "text/plain": [
       "2"
      ]
     },
     "execution_count": 15,
     "metadata": {},
     "output_type": "execute_result"
    }
   ],
   "source": [
    "min_value(head)"
   ]
  },
  {
   "cell_type": "code",
   "execution_count": 16,
   "id": "864d41c3-143e-4147-a719-eaa2cfcc744a",
   "metadata": {},
   "outputs": [
    {
     "data": {
      "text/plain": [
       "<__main__.Node at 0x24830091610>"
      ]
     },
     "execution_count": 16,
     "metadata": {},
     "output_type": "execute_result"
    }
   ],
   "source": [
    "insert(head,Node(1))"
   ]
  },
  {
   "cell_type": "code",
   "execution_count": 17,
   "id": "08d02147-b8d5-4b46-ae0e-f454ec99c074",
   "metadata": {},
   "outputs": [
    {
     "data": {
      "text/plain": [
       "1"
      ]
     },
     "execution_count": 17,
     "metadata": {},
     "output_type": "execute_result"
    }
   ],
   "source": [
    "min_value(head)"
   ]
  },
  {
   "cell_type": "code",
   "execution_count": 18,
   "id": "8b6d23fc-f906-4ee0-a94d-ed4412dfca3a",
   "metadata": {},
   "outputs": [],
   "source": [
    "def max_value(head):\n",
    "    curr = head\n",
    "    while curr.right != None:\n",
    "        curr = curr.right\n",
    "    return curr.data"
   ]
  },
  {
   "cell_type": "code",
   "execution_count": 19,
   "id": "4c09fcb2-a3b2-434f-9d82-32e29563ef37",
   "metadata": {},
   "outputs": [
    {
     "data": {
      "text/plain": [
       "81"
      ]
     },
     "execution_count": 19,
     "metadata": {},
     "output_type": "execute_result"
    }
   ],
   "source": [
    "max_value(head)"
   ]
  },
  {
   "cell_type": "code",
   "execution_count": 20,
   "id": "ab2522b2-9463-49c4-8f42-0ef3c50a541f",
   "metadata": {},
   "outputs": [
    {
     "data": {
      "text/plain": [
       "<__main__.Node at 0x24830091610>"
      ]
     },
     "execution_count": 20,
     "metadata": {},
     "output_type": "execute_result"
    }
   ],
   "source": [
    "insert(head,Node(100))"
   ]
  },
  {
   "cell_type": "code",
   "execution_count": 21,
   "id": "e5e737e5-e0b5-4819-9a6e-32ca29bb86f5",
   "metadata": {},
   "outputs": [
    {
     "data": {
      "text/plain": [
       "100"
      ]
     },
     "execution_count": 21,
     "metadata": {},
     "output_type": "execute_result"
    }
   ],
   "source": [
    "max_value(head)"
   ]
  },
  {
   "cell_type": "code",
   "execution_count": 22,
   "id": "8ea94956-9bd0-41c4-81ab-dd5aae284726",
   "metadata": {},
   "outputs": [],
   "source": [
    "class MyQueue:\n",
    "    def __init__(self):\n",
    "        self.items = []\n",
    "    def is_empty(self):\n",
    "        return len(self.items) == 0\n",
    "    def enqueue(self,item):\n",
    "        self.items.append(item)\n",
    "    def dequeue(self):\n",
    "        return self.items.pop(0)\n",
    "    def size(self):\n",
    "        return len(self.items)\n",
    "    def peek(self):\n",
    "        if self.is_empty():\n",
    "            raise Exception(\"Nothing to peek here\")\n",
    "        return self.items[0]"
   ]
  },
  {
   "cell_type": "code",
   "execution_count": 23,
   "id": "7397f9f3-083d-4294-94b4-a7f1680ee0b3",
   "metadata": {},
   "outputs": [],
   "source": [
    "def breadth_first(node):\n",
    "    if node == None:\n",
    "        raise Exception(\"No root found!\")\n",
    "    path =[]\n",
    "    queue = MyQueue()\n",
    "    queue.enqueue(node)\n",
    "    while queue.size()>0:\n",
    "        current = queue.dequeue()\n",
    "        path.append(current.data)\n",
    "        if current.get_left_child() != None:\n",
    "            queue.enqueue(current.get_left_child())\n",
    "        if current.get_right_child() != None:\n",
    "            queue.enqueue(current.get_right_child())\n",
    "\n",
    "    return path"
   ]
  },
  {
   "cell_type": "code",
   "execution_count": 24,
   "id": "deafd7ac-bbf8-4268-b9fb-368410df2ca0",
   "metadata": {},
   "outputs": [
    {
     "data": {
      "text/plain": [
       "[25, 2, 33, 1, 23, 45, 54, 68, 72, 81, 100]"
      ]
     },
     "execution_count": 24,
     "metadata": {},
     "output_type": "execute_result"
    }
   ],
   "source": [
    "breadth_first(E)\n"
   ]
  },
  {
   "cell_type": "code",
   "execution_count": 25,
   "id": "7f5a9815-bfcd-4509-9024-5e88b4ef9ec2",
   "metadata": {},
   "outputs": [],
   "source": [
    "def pre_order(node):\n",
    "    path = []\n",
    "    if node:\n",
    "        path.append(node.data)\n",
    "\n",
    "        path = path + pre_order(node.get_left_child())\n",
    "        path = path + pre_order(node.get_right_child())\n",
    "    return path "
   ]
  },
  {
   "cell_type": "code",
   "execution_count": 26,
   "id": "9a3ee46d-f65e-443c-9ac9-ebfcb476b3e8",
   "metadata": {},
   "outputs": [
    {
     "data": {
      "text/plain": [
       "[25, 2, 1, 23, 33, 45, 54, 68, 72, 81, 100]"
      ]
     },
     "execution_count": 26,
     "metadata": {},
     "output_type": "execute_result"
    }
   ],
   "source": [
    "pre_order(E)"
   ]
  },
  {
   "cell_type": "code",
   "execution_count": 27,
   "id": "f954d9e4-0b44-47e1-b2ac-333f4c46e345",
   "metadata": {},
   "outputs": [],
   "source": [
    "def in_order(node):\n",
    "    path = []\n",
    "    if node:\n",
    "        path = path + in_order(node.get_left_child())\n",
    "        path.append(node.data)\n",
    "        path = path + in_order(node.get_right_child())\n",
    "    return path"
   ]
  },
  {
   "cell_type": "code",
   "execution_count": 28,
   "id": "45879a00-789d-4e37-8e67-9da2aecb421d",
   "metadata": {},
   "outputs": [
    {
     "data": {
      "text/plain": [
       "[1, 2, 23, 25, 33, 45, 54, 68, 72, 81, 100]"
      ]
     },
     "execution_count": 28,
     "metadata": {},
     "output_type": "execute_result"
    }
   ],
   "source": [
    "in_order(E)"
   ]
  },
  {
   "cell_type": "code",
   "execution_count": 29,
   "id": "e4ddd879-a92e-41a7-87ab-965e39dcdc78",
   "metadata": {},
   "outputs": [],
   "source": [
    "def post_order(node):\n",
    "    path = []\n",
    "    if node:\n",
    "        path = path + post_order(node.get_left_child())\n",
    "        path = path + post_order(node.get_right_child())\n",
    "        path.append(node.data)\n",
    "    return path"
   ]
  },
  {
   "cell_type": "code",
   "execution_count": 30,
   "id": "7d876857-aeb9-4da2-b5ff-def760563274",
   "metadata": {},
   "outputs": [
    {
     "data": {
      "text/plain": [
       "[1, 23, 2, 100, 81, 72, 68, 54, 45, 33, 25]"
      ]
     },
     "execution_count": 30,
     "metadata": {},
     "output_type": "execute_result"
    }
   ],
   "source": [
    "post_order(E)"
   ]
  },
  {
   "cell_type": "code",
   "execution_count": null,
   "id": "7e0b20a8-8598-4cfe-bfd7-677bba14b4cc",
   "metadata": {},
   "outputs": [],
   "source": []
  }
 ],
 "metadata": {
  "kernelspec": {
   "display_name": "Python 3 (ipykernel)",
   "language": "python",
   "name": "python3"
  },
  "language_info": {
   "codemirror_mode": {
    "name": "ipython",
    "version": 3
   },
   "file_extension": ".py",
   "mimetype": "text/x-python",
   "name": "python",
   "nbconvert_exporter": "python",
   "pygments_lexer": "ipython3",
   "version": "3.8.10"
  }
 },
 "nbformat": 4,
 "nbformat_minor": 5
}
