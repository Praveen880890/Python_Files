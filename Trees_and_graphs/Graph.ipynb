{
 "cells": [
  {
   "cell_type": "code",
   "execution_count": 4,
   "id": "52ae282f-f4a3-45d5-b62f-6feec3394e7a",
   "metadata": {},
   "outputs": [],
   "source": [
    "import abc\n",
    "import numpy as np\n"
   ]
  },
  {
   "cell_type": "code",
   "execution_count": 21,
   "id": "fc08e48f-f016-4a00-ba3c-a9bb3fdb4bd3",
   "metadata": {},
   "outputs": [],
   "source": [
    "class Graph(abc.ABC):\n",
    "    def __init__(self,num_vertices,directed = False):\n",
    "        self.num_vertices = num_vertices\n",
    "        self.directed = directed\n",
    "    @abc.abstractmethod\n",
    "    def add_edge(self,v1,v2,weight):\n",
    "        pass\n",
    "    @abc.abstractmethod\n",
    "    def remove_edge(self,v1,v2,weight):\n",
    "        pass\n",
    "    @abc.abstractmethod\n",
    "    def get_adjacent_vertices(self,v):\n",
    "        pass\n",
    "    @abc.abstractmethod\n",
    "    def is_adjacent(self,v1,v2):\n",
    "        pass\n",
    "    @abc.abstractmethod\n",
    "    def get_indegree(self,v):\n",
    "        pass\n",
    "    @abc.abstractmethod\n",
    "    def get_edge_weight(self,v1,v2):\n",
    "        pass\n",
    "    @abc.abstractmethod\n",
    "    def show(self):\n",
    "        pass\n",
    "\n"
   ]
  },
  {
   "cell_type": "code",
   "execution_count": 22,
   "id": "4516555c-cfb1-4d37-b329-4ac33b4491f8",
   "metadata": {},
   "outputs": [],
   "source": [
    "class Vertex:\n",
    "    def __init__(self,id):\n",
    "        self.id = id\n",
    "        self.adjacency_set = set()\n",
    "    def add_edge(self,v):\n",
    "        if self.id ==v:\n",
    "            raise ValueError(\"The vertex cannot be adjacent to itself\")\n",
    "        self.adjacency_set.add(v)\n",
    "    def remove_edge(self, v):\n",
    "        if self.id == v:\n",
    "            raise ValueError(\"The vertex cannot be adjacent to itself\")\n",
    "        self.adjacency_set.remove(v)\n",
    "    def get_adjacent_vertices(self):\n",
    "        return sorted(self.adjacency_set)\n",
    "    def is_adjacent(self,v):\n",
    "        return v in self.adjacency_set\n",
    "        "
   ]
  },
  {
   "cell_type": "code",
   "execution_count": 23,
   "id": "205bbd97-a690-4a22-9ace-b12c085aac57",
   "metadata": {},
   "outputs": [],
   "source": [
    "class AdjacencySetGraph(Graph):\n",
    "    def __init__(self,num_vertices,directed=False):\n",
    "        super(AdjacencySetGraph,self).__init__(num_vertices,directed)\n",
    "        self.vertex_list = []\n",
    "        for i in range(num_vertices):\n",
    "            v = Vertex(i)\n",
    "            self.vertex_list.append(v)\n",
    "    def add_edge(self,v1,v2,weight=1):\n",
    "        if v1>=self.num_vertices or v2 >= self.num_vertices or v1<0 or v2<0:\n",
    "            raise ValueError(\"Vertices {} and {} are out of bounds\".format(v1,v2))\n",
    "        if weight != 1:\n",
    "            raise ValueError(\"An adjacency set cannot represent edge weights > 1\")\n",
    "        self.vertex_list[v1].add_edge(v2)\n",
    "        if self.directed == False:\n",
    "            self.vertex_list[v2].add_edge(v1)\n",
    "    def remove_edge(self,v1,v2):\n",
    "        if v1 >= self.num_vertices or v2 >= self.num_vertices or v1<0 or v2<0:\n",
    "            raise ValueError(\"Vertices {} and {} are out of bounds\".format(v1,v2))\n",
    "        self.vertex_list[v1].remove_edge(v2)\n",
    "        if self.directed == False:\n",
    "            self.vertex_list[v2].remove_edge(v1)\n",
    "\n",
    "    def get_adjacent_vertices(self,v):\n",
    "        if v<0 or v>=self.num_vertices:\n",
    "            raise ValueError(\"Cannot access vertex\",v)\n",
    "        return self.vertex_list[v].get_adjacent_vertices()\n",
    "    def is_adjacent(self,v1,v2):\n",
    "        if v1>= self.num_vertices or v2 >= self.num_vertices or v1 < 0 or v2 < 0:\n",
    "            raise ValueError(\"Vertices {} and {} are out of bounds\".format(v1,v2))\n",
    "        return self.vertex_list[v1].is_adjacent(v2) or self.vertex_list[v2].is_adjacent(v1)\n",
    "    def get_indegree(self,v):\n",
    "        if v<0 or v>=self.num_vertices:\n",
    "            raise ValueError(\"Cannot access vertex\",v)\n",
    "        indegree = 0\n",
    "        for i in range(self.num_vertices):\n",
    "            if i ==v:\n",
    "                continue\n",
    "            if v in self.get_adjacent_vertices(i):\n",
    "                indegree+=1\n",
    "        return indegree\n",
    "    def get_edge_weight(self,v1,v2):\n",
    "        return 1\n",
    "    def show(self):\n",
    "        for i in range(self.num_vertices):\n",
    "            for v in self.get_adjacent_vertices(i):\n",
    "                print(i,\"-->\",v)\n",
    "          "
   ]
  },
  {
   "cell_type": "code",
   "execution_count": 24,
   "id": "02eb7582-7674-4707-ad47-f11ec4d30867",
   "metadata": {},
   "outputs": [],
   "source": [
    "g = AdjacencySetGraph(4)\n",
    "\n",
    "g.add_edge(0,1)\n",
    "g.add_edge(0,3)\n",
    "g.add_edge(1,3)\n",
    "g.add_edge(3,2)"
   ]
  },
  {
   "cell_type": "code",
   "execution_count": 25,
   "id": "f232209a-3c89-433b-9ec6-a00caec28af0",
   "metadata": {},
   "outputs": [
    {
     "name": "stdout",
     "output_type": "stream",
     "text": [
      "0 --> 1\n",
      "0 --> 3\n",
      "1 --> 0\n",
      "1 --> 3\n",
      "2 --> 3\n",
      "3 --> 0\n",
      "3 --> 1\n",
      "3 --> 2\n"
     ]
    }
   ],
   "source": [
    "g.show()"
   ]
  },
  {
   "cell_type": "code",
   "execution_count": 26,
   "id": "09298b31-c18e-47d2-803d-09d6afb5467f",
   "metadata": {},
   "outputs": [
    {
     "name": "stdout",
     "output_type": "stream",
     "text": [
      "Adjacent to :  0 [1, 3]\n",
      "Adjacent to :  1 [0, 3]\n",
      "Adjacent to :  2 [3]\n",
      "Adjacent to :  3 [0, 1, 2]\n"
     ]
    }
   ],
   "source": [
    "for i in range(4):\n",
    "    print(\"Adjacent to : \",i , g.get_adjacent_vertices(i))"
   ]
  },
  {
   "cell_type": "code",
   "execution_count": 27,
   "id": "3935f6db-24ca-490a-8fba-0bae99ad8ee7",
   "metadata": {},
   "outputs": [],
   "source": [
    "g.remove_edge(2,3)"
   ]
  },
  {
   "cell_type": "code",
   "execution_count": 28,
   "id": "790afdeb-2b42-4fb4-80d2-6ab3ac2f5d8d",
   "metadata": {},
   "outputs": [
    {
     "name": "stdout",
     "output_type": "stream",
     "text": [
      "0 --> 1\n",
      "0 --> 3\n",
      "1 --> 0\n",
      "1 --> 3\n",
      "3 --> 0\n",
      "3 --> 1\n"
     ]
    }
   ],
   "source": [
    "g.show()"
   ]
  },
  {
   "cell_type": "code",
   "execution_count": 29,
   "id": "ec1425bc-12af-453d-9908-fe0a42df0188",
   "metadata": {},
   "outputs": [
    {
     "name": "stdout",
     "output_type": "stream",
     "text": [
      "Adjacent to :  0 [1, 3]\n",
      "Adjacent to :  1 [0, 3]\n",
      "Adjacent to :  2 []\n",
      "Adjacent to :  3 [0, 1]\n"
     ]
    }
   ],
   "source": [
    "for i in range(4):\n",
    "    print(\"Adjacent to : \",i , g.get_adjacent_vertices(i))"
   ]
  },
  {
   "cell_type": "code",
   "execution_count": 31,
   "id": "b8945f4d-309f-44ce-bc4c-200ad7847a7a",
   "metadata": {},
   "outputs": [
    {
     "data": {
      "text/plain": [
       "False"
      ]
     },
     "execution_count": 31,
     "metadata": {},
     "output_type": "execute_result"
    }
   ],
   "source": [
    "g.is_adjacent(2,0)"
   ]
  },
  {
   "cell_type": "code",
   "execution_count": 32,
   "id": "8c051384-fb45-44b8-9453-9e85ce98dfee",
   "metadata": {},
   "outputs": [],
   "source": [
    "g = AdjacencySetGraph(4,True)\n",
    "\n",
    "g.add_edge(0,1)\n",
    "g.add_edge(0,3)\n",
    "g.add_edge(1,3)\n",
    "g.add_edge(3,2)"
   ]
  },
  {
   "cell_type": "code",
   "execution_count": 33,
   "id": "8d56bf0b-1907-48a1-ba72-56695c087df3",
   "metadata": {},
   "outputs": [
    {
     "name": "stdout",
     "output_type": "stream",
     "text": [
      "0 --> 1\n",
      "0 --> 3\n",
      "1 --> 3\n",
      "3 --> 2\n"
     ]
    }
   ],
   "source": [
    "g.show()"
   ]
  },
  {
   "cell_type": "code",
   "execution_count": 34,
   "id": "f5f85661-80b3-468a-812a-09911342d29d",
   "metadata": {},
   "outputs": [
    {
     "name": "stdout",
     "output_type": "stream",
     "text": [
      "Adjacent to :  0 [1, 3]\n",
      "Adjacent to :  1 [3]\n",
      "Adjacent to :  2 []\n",
      "Adjacent to :  3 [2]\n"
     ]
    }
   ],
   "source": [
    "for i in range(4):\n",
    "    print(\"Adjacent to : \",i , g.get_adjacent_vertices(i))"
   ]
  },
  {
   "cell_type": "code",
   "execution_count": null,
   "id": "b8e46234-5c86-47fc-b62e-e5ed41dda503",
   "metadata": {},
   "outputs": [],
   "source": []
  },
  {
   "cell_type": "code",
   "execution_count": 36,
   "id": "65ae3bce-0319-48c5-8a41-f940d1550bcb",
   "metadata": {},
   "outputs": [],
   "source": [
    "class AdjacencyMatrixGraph(Graph):\n",
    "    def __init__(self,num_vertices,directed=False):\n",
    "        super(AdjacencyMatrixGraph,self).__init__(num_vertices,directed)\n",
    "        self.matrix = np.zeros((num_vertices,num_vertices))\n",
    "    def add_edge(self,v1,v2,weight=1):\n",
    "        if v1>=self.num_vertices or v2>=self.num_vertices or v1<0 or v2<0:\n",
    "            raise ValueError(\"Vertices {} and {} are out of bounds\".format(v1,v2))\n",
    "        if weight == 0:\n",
    "            raise ValueError(\"Edges cannot have a weight of 0\")\n",
    "        self.matrix[v1][v2] = weight\n",
    "        if self.directed == False:\n",
    "            self.matrix[v2][v1] = weight\n",
    "    def remove_edge(self,v1,v2):\n",
    "        if v1 >= self.num_vertices or v2 >= self.num_vertices or v1 < 0 or v2 < 0 :\n",
    "            raise ValueError(\"Vertices {} and {} are out of bound\".format(v1,v2))\n",
    "        self.matrix[v1][v2] = 0\n",
    "        if self.directed == False:\n",
    "            self.matrix[v2][v1] = 0\n",
    "    def get_adjacent_vertices(self,v):\n",
    "        if v< 0 or v>=self.num_vertices :\n",
    "            raise ValueError(\"Cannot access vertex\",v)\n",
    "        adjacent_vertices = []\n",
    "        for i in range(self.num_vertices):\n",
    "            if self.matrix[v][i]>0:\n",
    "                adjacent_vertices.append(i)\n",
    "        return adjacent_vertices\n",
    "    def is_adjacent(self,v1,v2):\n",
    "        if v1 >=self.num_vertices or v2 >= self.num_vertices or v1 <0 or v2<0:\n",
    "            raise ValueError(\"Vertices {} and {} are out of bounds\".format(v1,v2))\n",
    "        return self.matrix[v1][v2] != 0\n",
    "    def get_indegree(self,v):\n",
    "        if v < 0 or v>= self.num_vertices:\n",
    "            raise ValueError(\"Cannot access vertex\",v)\n",
    "        indegree =0\n",
    "        for i in range(self.num_vertices):\n",
    "            if self.matrix[i][v]>0:\n",
    "                indegree+=1\n",
    "        return indegree\n",
    "    def get_edge_weight(self,v1,v2):\n",
    "        return self.matrix[v1][v2]\n",
    "    def show(self):\n",
    "        for i in range(self.num_vertices):\n",
    "            for v in self.get_adjacent_vertices(i):\n",
    "                print(i,\"-->\",v)"
   ]
  },
  {
   "cell_type": "code",
   "execution_count": 37,
   "id": "861586eb-e2ea-427f-bf27-3c35b46e6d7e",
   "metadata": {},
   "outputs": [],
   "source": [
    "g = AdjacencyMatrixGraph(4)\n",
    "\n",
    "g.add_edge(0,1)\n",
    "g.add_edge(0,3)\n",
    "g.add_edge(1,3)\n",
    "g.add_edge(3,2)"
   ]
  },
  {
   "cell_type": "code",
   "execution_count": 38,
   "id": "afd8a5f7-a2a7-44b2-8bfb-2e0049b9bd97",
   "metadata": {},
   "outputs": [
    {
     "name": "stdout",
     "output_type": "stream",
     "text": [
      "0 --> 1\n",
      "0 --> 3\n",
      "1 --> 0\n",
      "1 --> 3\n",
      "2 --> 3\n",
      "3 --> 0\n",
      "3 --> 1\n",
      "3 --> 2\n"
     ]
    }
   ],
   "source": [
    "g.show()"
   ]
  },
  {
   "cell_type": "code",
   "execution_count": 39,
   "id": "34f27706-d2cf-49ca-9aab-30c5c77cd110",
   "metadata": {},
   "outputs": [
    {
     "name": "stdout",
     "output_type": "stream",
     "text": [
      "Adjacent to :  0 [1, 3]\n",
      "Adjacent to :  1 [0, 3]\n",
      "Adjacent to :  2 [3]\n",
      "Adjacent to :  3 [0, 1, 2]\n"
     ]
    }
   ],
   "source": [
    "for i in range(4):\n",
    "    print(\"Adjacent to : \",i , g.get_adjacent_vertices(i))"
   ]
  },
  {
   "cell_type": "code",
   "execution_count": 40,
   "id": "73fc302c-e9d9-4a36-8216-71a0624a4709",
   "metadata": {},
   "outputs": [],
   "source": [
    "g = AdjacencyMatrixGraph(4,True)\n",
    "\n",
    "g.add_edge(0,1)\n",
    "g.add_edge(0,3)\n",
    "g.add_edge(1,3)\n",
    "g.add_edge(3,2)"
   ]
  },
  {
   "cell_type": "code",
   "execution_count": 41,
   "id": "085d20db-2a75-4ba1-a98d-59cce1be0a4f",
   "metadata": {},
   "outputs": [
    {
     "name": "stdout",
     "output_type": "stream",
     "text": [
      "0 --> 1\n",
      "0 --> 3\n",
      "1 --> 3\n",
      "3 --> 2\n"
     ]
    }
   ],
   "source": [
    "g.show()"
   ]
  },
  {
   "cell_type": "code",
   "execution_count": 42,
   "id": "dc04f67e-6781-4ebc-90de-e8d6a2baab22",
   "metadata": {},
   "outputs": [
    {
     "name": "stdout",
     "output_type": "stream",
     "text": [
      "Adjacent to :  0 [1, 3]\n",
      "Adjacent to :  1 [3]\n",
      "Adjacent to :  2 []\n",
      "Adjacent to :  3 [2]\n"
     ]
    }
   ],
   "source": [
    "for i in range(4):\n",
    "    print(\"Adjacent to : \",i , g.get_adjacent_vertices(i))"
   ]
  },
  {
   "cell_type": "code",
   "execution_count": null,
   "id": "d982bd4e-a1be-4156-8546-92c0c7a6332c",
   "metadata": {},
   "outputs": [],
   "source": []
  }
 ],
 "metadata": {
  "kernelspec": {
   "display_name": "Python 3 (ipykernel)",
   "language": "python",
   "name": "python3"
  },
  "language_info": {
   "codemirror_mode": {
    "name": "ipython",
    "version": 3
   },
   "file_extension": ".py",
   "mimetype": "text/x-python",
   "name": "python",
   "nbconvert_exporter": "python",
   "pygments_lexer": "ipython3",
   "version": "3.12.7"
  }
 },
 "nbformat": 4,
 "nbformat_minor": 5
}
