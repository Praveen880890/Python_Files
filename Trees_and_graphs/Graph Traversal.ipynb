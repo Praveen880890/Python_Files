{
 "cells": [
  {
   "cell_type": "code",
   "execution_count": 1,
   "id": "5c68bac9-674e-4913-813d-d33632a50ad6",
   "metadata": {},
   "outputs": [],
   "source": [
    "from graph import *"
   ]
  },
  {
   "cell_type": "code",
   "execution_count": 2,
   "id": "ce64097c-1d31-4446-abc7-1a0e2293d1f9",
   "metadata": {},
   "outputs": [],
   "source": [
    "from queue import Queue\n",
    "import numpy as np\n"
   ]
  },
  {
   "cell_type": "code",
   "execution_count": 7,
   "id": "84986fa6-f5f1-4edf-b75d-8bafb9cb4d50",
   "metadata": {},
   "outputs": [],
   "source": [
    "def breadth_first(graph,start = 0):\n",
    "    queue = Queue()\n",
    "    queue.put(start)\n",
    "    visited = np.full((graph.num_vertices,),False,dtype = bool)\n",
    "    while not queue.empty():\n",
    "        vertex = queue.get()\n",
    "        if visited[vertex]:\n",
    "            continue\n",
    "        print(\"Visited: \",vertex)\n",
    "        visited[vertex] = True\n",
    "        for v in graph.get_adjacent_vertices(vertex):\n",
    "            if not visited[v]:\n",
    "                queue.put(v)"
   ]
  },
  {
   "cell_type": "code",
   "execution_count": 8,
   "id": "d021e70a-654d-43e2-b305-b6b161d6c9ae",
   "metadata": {},
   "outputs": [
    {
     "name": "stdout",
     "output_type": "stream",
     "text": [
      "0 --> 1\n",
      "0 --> 2\n",
      "1 --> 0\n",
      "1 --> 5\n",
      "2 --> 0\n",
      "2 --> 3\n",
      "2 --> 4\n",
      "2 --> 5\n",
      "3 --> 2\n",
      "3 --> 4\n",
      "3 --> 7\n",
      "4 --> 2\n",
      "4 --> 3\n",
      "5 --> 1\n",
      "5 --> 2\n",
      "5 --> 6\n",
      "6 --> 5\n",
      "7 --> 3\n"
     ]
    }
   ],
   "source": [
    "g = AdjacencyMatrixGraph(9)\n",
    "\n",
    "g.add_edge(0,1)\n",
    "g.add_edge(0,2)\n",
    "g.add_edge(2,5)\n",
    "g.add_edge(2,4)\n",
    "g.add_edge(2,3)\n",
    "g.add_edge(1,5)\n",
    "g.add_edge(5,6)\n",
    "g.add_edge(7,3)\n",
    "g.add_edge(3,4)\n",
    "g.add_edge(2,5)\n",
    "\n",
    "g.show()"
   ]
  },
  {
   "cell_type": "code",
   "execution_count": 9,
   "id": "ef2d34a8-523a-4aa3-89b8-b316fd02e434",
   "metadata": {},
   "outputs": [
    {
     "name": "stdout",
     "output_type": "stream",
     "text": [
      "Visited:  2\n",
      "Visited:  0\n",
      "Visited:  3\n",
      "Visited:  4\n",
      "Visited:  5\n",
      "Visited:  1\n",
      "Visited:  7\n",
      "Visited:  6\n"
     ]
    }
   ],
   "source": [
    "breadth_first(g,2)"
   ]
  },
  {
   "cell_type": "code",
   "execution_count": 13,
   "id": "e3cae406-9325-4728-aaf8-6e5665ca3d8e",
   "metadata": {},
   "outputs": [],
   "source": [
    "def depth_first(graph,visited,current = 0):\n",
    "    if visited[current]:\n",
    "        return \n",
    "    visited[current] = True\n",
    "    print(\"Visited: \",current)\n",
    "    for vertex in graph.get_adjacent_vertices(current):\n",
    "        depth_first(graph,visited,vertex)"
   ]
  },
  {
   "cell_type": "code",
   "execution_count": 15,
   "id": "77c9c610-c6ed-43a2-a718-1eba4283dea7",
   "metadata": {},
   "outputs": [
    {
     "name": "stdout",
     "output_type": "stream",
     "text": [
      "Visited:  0\n",
      "Visited:  1\n",
      "Visited:  5\n",
      "Visited:  2\n",
      "Visited:  3\n",
      "Visited:  4\n",
      "Visited:  7\n",
      "Visited:  6\n"
     ]
    }
   ],
   "source": [
    "visited = np.full((g.num_vertices,),False,dtype = bool)\n",
    "depth_first(g,visited)"
   ]
  },
  {
   "cell_type": "code",
   "execution_count": null,
   "id": "67aa5e3a-4af1-4c1a-952e-73d8141be4e3",
   "metadata": {},
   "outputs": [],
   "source": []
  }
 ],
 "metadata": {
  "kernelspec": {
   "display_name": "Python 3 (ipykernel)",
   "language": "python",
   "name": "python3"
  },
  "language_info": {
   "codemirror_mode": {
    "name": "ipython",
    "version": 3
   },
   "file_extension": ".py",
   "mimetype": "text/x-python",
   "name": "python",
   "nbconvert_exporter": "python",
   "pygments_lexer": "ipython3",
   "version": "3.12.7"
  }
 },
 "nbformat": 4,
 "nbformat_minor": 5
}
