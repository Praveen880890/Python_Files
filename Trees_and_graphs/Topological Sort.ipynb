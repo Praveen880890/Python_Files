{
 "cells": [
  {
   "cell_type": "code",
   "execution_count": 5,
   "id": "550185a3-26d3-44fe-9ae4-be39a79bf435",
   "metadata": {},
   "outputs": [],
   "source": [
    "from queue import Queue\n",
    "from graph import *\n"
   ]
  },
  {
   "cell_type": "code",
   "execution_count": 12,
   "id": "ce63023e-c1c1-4032-ad9d-04678c3ea10f",
   "metadata": {},
   "outputs": [],
   "source": [
    "def topological_sort(graph):\n",
    "    queue = Queue()\n",
    "    indegree_map={}\n",
    "    for i in range(graph.num_vertices):\n",
    "        indegree_map[i] = graph.get_indegree(i)\n",
    "\n",
    "        if indegree_map[i] == 0:\n",
    "            queue.put(i)\n",
    "    sorted_list = []\n",
    "    while not queue.empty():\n",
    "        vertex = queue.get()\n",
    "        sorted_list.append(vertex)\n",
    "\n",
    "        for v in graph.get_adjacent_vertices(vertex):\n",
    "            indegree_map[v] -= 1\n",
    "\n",
    "            if indegree_map[v] == 0:\n",
    "                queue.put(v)\n",
    "    if len(sorted_list) != graph.num_vertices:\n",
    "        raise ValueError(\"Graph is a cylce\")\n",
    "    return sorted_list"
   ]
  },
  {
   "cell_type": "code",
   "execution_count": 17,
   "id": "898d6242-0079-45e2-bd52-b49c237bb361",
   "metadata": {},
   "outputs": [
    {
     "name": "stdout",
     "output_type": "stream",
     "text": [
      "0 --> 1\n",
      "0 --> 2\n",
      "1 --> 5\n",
      "2 --> 3\n",
      "2 --> 4\n",
      "2 --> 5\n",
      "3 --> 4\n",
      "5 --> 6\n",
      "7 --> 3\n",
      "7 --> 8\n"
     ]
    }
   ],
   "source": [
    "g = AdjacencyMatrixGraph(9,True)\n",
    "\n",
    "g.add_edge(0,1)\n",
    "g.add_edge(0,2)\n",
    "g.add_edge(2,5)\n",
    "g.add_edge(2,4)\n",
    "g.add_edge(2,3)\n",
    "g.add_edge(1,5)\n",
    "g.add_edge(5,6)\n",
    "g.add_edge(7,3)\n",
    "g.add_edge(3,4)\n",
    "g.add_edge(7,8)\n",
    "# g.add_edge(5,0)\n",
    "\n",
    "\n",
    "g.show()"
   ]
  },
  {
   "cell_type": "code",
   "execution_count": 18,
   "id": "548145c1-fad8-441d-beaf-99638de5e1bc",
   "metadata": {},
   "outputs": [
    {
     "data": {
      "text/plain": [
       "[0, 7, 1, 2, 8, 3, 5, 4, 6]"
      ]
     },
     "execution_count": 18,
     "metadata": {},
     "output_type": "execute_result"
    }
   ],
   "source": [
    "topological_sort(g)"
   ]
  },
  {
   "cell_type": "code",
   "execution_count": 19,
   "id": "f9c3131e-eab9-4505-a94f-2f159a76b859",
   "metadata": {},
   "outputs": [],
   "source": [
    "#nlr - preOrder\n",
    "#lnr - inOrder\n",
    "#lrn - postOrder"
   ]
  },
  {
   "cell_type": "code",
   "execution_count": null,
   "id": "a477ca2b-5240-440c-be54-435eeecd764f",
   "metadata": {},
   "outputs": [],
   "source": []
  }
 ],
 "metadata": {
  "kernelspec": {
   "display_name": "Python 3 (ipykernel)",
   "language": "python",
   "name": "python3"
  },
  "language_info": {
   "codemirror_mode": {
    "name": "ipython",
    "version": 3
   },
   "file_extension": ".py",
   "mimetype": "text/x-python",
   "name": "python",
   "nbconvert_exporter": "python",
   "pygments_lexer": "ipython3",
   "version": "3.12.7"
  }
 },
 "nbformat": 4,
 "nbformat_minor": 5
}
