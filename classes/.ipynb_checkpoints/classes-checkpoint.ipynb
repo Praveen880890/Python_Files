{
 "cells": [
  {
   "cell_type": "code",
   "execution_count": 1,
   "id": "8b22d01f-073c-4297-add8-278442905bb9",
   "metadata": {},
   "outputs": [],
   "source": [
    "class Student:\n",
    "    pass\n",
    "    "
   ]
  },
  {
   "cell_type": "code",
   "execution_count": 2,
   "id": "5d5643a5-b263-401a-b128-668d2252abb3",
   "metadata": {},
   "outputs": [
    {
     "data": {
      "text/plain": [
       "type"
      ]
     },
     "execution_count": 2,
     "metadata": {},
     "output_type": "execute_result"
    }
   ],
   "source": [
    "type(Student)"
   ]
  },
  {
   "cell_type": "code",
   "execution_count": 3,
   "id": "2e5a2e3c-14ec-4a23-ac5f-ed040c2c10d3",
   "metadata": {},
   "outputs": [],
   "source": [
    "obj = Student()"
   ]
  },
  {
   "cell_type": "code",
   "execution_count": 4,
   "id": "2fb6e2bd-6ac2-430d-8cd0-6efa65cbb086",
   "metadata": {},
   "outputs": [],
   "source": [
    "obj1 = Student()"
   ]
  },
  {
   "cell_type": "code",
   "execution_count": 5,
   "id": "e9eb2a77-df98-435a-a4ae-dde2f19a90f6",
   "metadata": {},
   "outputs": [
    {
     "data": {
      "text/plain": [
       "<__main__.Student at 0x19fa3860d30>"
      ]
     },
     "execution_count": 5,
     "metadata": {},
     "output_type": "execute_result"
    }
   ],
   "source": [
    "obj"
   ]
  },
  {
   "cell_type": "code",
   "execution_count": 9,
   "id": "ebe3337c-dc5e-4c78-b3f5-1ca17def9227",
   "metadata": {},
   "outputs": [],
   "source": [
    "class dept:\n",
    "    pass"
   ]
  },
  {
   "cell_type": "code",
   "execution_count": 6,
   "id": "1f4af939-33fb-4f87-89e0-a3531941622c",
   "metadata": {},
   "outputs": [
    {
     "data": {
      "text/plain": [
       "<__main__.Student at 0x19fa385a490>"
      ]
     },
     "execution_count": 6,
     "metadata": {},
     "output_type": "execute_result"
    }
   ],
   "source": [
    "obj1"
   ]
  },
  {
   "cell_type": "code",
   "execution_count": 10,
   "id": "aac85cb3-7fd5-4843-9812-69adf93396da",
   "metadata": {},
   "outputs": [
    {
     "data": {
      "text/plain": [
       "False"
      ]
     },
     "execution_count": 10,
     "metadata": {},
     "output_type": "execute_result"
    }
   ],
   "source": [
    "isinstance(obj1,dept)"
   ]
  },
  {
   "cell_type": "code",
   "execution_count": 11,
   "id": "4121a780-8814-4d42-88c9-a7db9dd5ffb4",
   "metadata": {},
   "outputs": [],
   "source": [
    "obj2 ={}\n"
   ]
  },
  {
   "cell_type": "code",
   "execution_count": 12,
   "id": "2fcfd84a-7afd-4956-beb4-05b17af921d5",
   "metadata": {},
   "outputs": [
    {
     "data": {
      "text/plain": [
       "False"
      ]
     },
     "execution_count": 12,
     "metadata": {},
     "output_type": "execute_result"
    }
   ],
   "source": [
    "isinstance(obj2,dept)"
   ]
  },
  {
   "cell_type": "code",
   "execution_count": 13,
   "id": "8cd8e9f6-74dd-48d9-b156-6d440235e4c6",
   "metadata": {},
   "outputs": [],
   "source": [
    "obj.name = \"raju\""
   ]
  },
  {
   "cell_type": "code",
   "execution_count": 14,
   "id": "96994383-dd38-4ecd-b790-69004cee3914",
   "metadata": {},
   "outputs": [
    {
     "data": {
      "text/plain": [
       "<__main__.Student at 0x19fa3860d30>"
      ]
     },
     "execution_count": 14,
     "metadata": {},
     "output_type": "execute_result"
    }
   ],
   "source": [
    "obj"
   ]
  },
  {
   "cell_type": "code",
   "execution_count": 15,
   "id": "648fe1eb-3a9b-4015-bd68-eb4f6dfd8339",
   "metadata": {},
   "outputs": [
    {
     "data": {
      "text/plain": [
       "'raju'"
      ]
     },
     "execution_count": 15,
     "metadata": {},
     "output_type": "execute_result"
    }
   ],
   "source": [
    "obj.name"
   ]
  },
  {
   "cell_type": "code",
   "execution_count": 16,
   "id": "9bd679cc-a700-4f08-ad18-fac38eff9145",
   "metadata": {},
   "outputs": [],
   "source": [
    "obj2 = Student()"
   ]
  },
  {
   "cell_type": "code",
   "execution_count": 17,
   "id": "185a3f88-6fc8-466f-88b9-6295d7cf1511",
   "metadata": {},
   "outputs": [],
   "source": [
    "obj2.name= \"kamakshi\""
   ]
  },
  {
   "cell_type": "code",
   "execution_count": 18,
   "id": "3ce78c05-2348-4a08-b5d3-fb8a18ef8609",
   "metadata": {},
   "outputs": [
    {
     "data": {
      "text/plain": [
       "'kamakshi'"
      ]
     },
     "execution_count": 18,
     "metadata": {},
     "output_type": "execute_result"
    }
   ],
   "source": [
    "obj2.name"
   ]
  },
  {
   "cell_type": "code",
   "execution_count": 19,
   "id": "ff786bed-7ea9-450b-9b8d-292b4e13f283",
   "metadata": {},
   "outputs": [],
   "source": [
    "class Student:\n",
    "    name = \"\"\n",
    "    score = 0 \n",
    "    active = True\n",
    "\n"
   ]
  },
  {
   "cell_type": "code",
   "execution_count": 20,
   "id": "3ec00509-c341-4e11-b175-f6a4d04fbc1f",
   "metadata": {},
   "outputs": [],
   "source": [
    "s1 = Student()"
   ]
  },
  {
   "cell_type": "code",
   "execution_count": 21,
   "id": "e8eaec2d-d94f-4f0f-bd5f-fb3761c19f37",
   "metadata": {},
   "outputs": [
    {
     "data": {
      "text/plain": [
       "''"
      ]
     },
     "execution_count": 21,
     "metadata": {},
     "output_type": "execute_result"
    }
   ],
   "source": [
    "s1.name"
   ]
  },
  {
   "cell_type": "code",
   "execution_count": 22,
   "id": "3f1c0766-5e2d-436f-a7d9-6e4d95c1f7e0",
   "metadata": {},
   "outputs": [],
   "source": [
    "s1.name= \"ramesh\""
   ]
  },
  {
   "cell_type": "code",
   "execution_count": 23,
   "id": "17dd00f4-5fd4-45cc-be6b-468f310936c5",
   "metadata": {},
   "outputs": [
    {
     "data": {
      "text/plain": [
       "'ramesh'"
      ]
     },
     "execution_count": 23,
     "metadata": {},
     "output_type": "execute_result"
    }
   ],
   "source": [
    "s1.name"
   ]
  },
  {
   "cell_type": "code",
   "execution_count": 24,
   "id": "363bf18d-083c-4db5-9e88-73091b457fb3",
   "metadata": {},
   "outputs": [],
   "source": [
    "class Student:\n",
    "    def __init__(self):\n",
    "        print(\"Intialize called!\")\n",
    "        "
   ]
  },
  {
   "cell_type": "code",
   "execution_count": 25,
   "id": "3a9e59c2-4837-42ee-a453-20eee371d2ef",
   "metadata": {},
   "outputs": [
    {
     "name": "stdout",
     "output_type": "stream",
     "text": [
      "Intialize called!\n"
     ]
    }
   ],
   "source": [
    "s1 = Student()"
   ]
  },
  {
   "cell_type": "code",
   "execution_count": 26,
   "id": "36031fa7-fa65-4c31-a63f-2ab8380eed4c",
   "metadata": {},
   "outputs": [],
   "source": [
    "class Student:\n",
    "    def __init__(iam):\n",
    "        print(\"nothing happens\")"
   ]
  },
  {
   "cell_type": "code",
   "execution_count": 27,
   "id": "d2f41746-8b43-4989-9722-975d7ebb9e79",
   "metadata": {},
   "outputs": [
    {
     "name": "stdout",
     "output_type": "stream",
     "text": [
      "nothing happens\n"
     ]
    }
   ],
   "source": [
    "s1 = Student()"
   ]
  },
  {
   "cell_type": "code",
   "execution_count": 28,
   "id": "3543ca56-47a9-4bb6-9430-f462959e1374",
   "metadata": {},
   "outputs": [],
   "source": [
    "class Student:\n",
    "    def   __init__(self,name):\n",
    "        self.name = name \n",
    "        self.email = name +\"@xyz.com\"\n",
    "        "
   ]
  },
  {
   "cell_type": "code",
   "execution_count": 29,
   "id": "4a30bc6b-2178-4596-920b-de6b83a16d6b",
   "metadata": {},
   "outputs": [],
   "source": [
    "s1 = Student(\"Ramu\")"
   ]
  },
  {
   "cell_type": "code",
   "execution_count": 30,
   "id": "f0a6bfc1-6a74-4c72-b13a-96fcde6d4617",
   "metadata": {},
   "outputs": [
    {
     "data": {
      "text/plain": [
       "'Ramu@xyz.com'"
      ]
     },
     "execution_count": 30,
     "metadata": {},
     "output_type": "execute_result"
    }
   ],
   "source": [
    "s1.email"
   ]
  },
  {
   "cell_type": "code",
   "execution_count": 31,
   "id": "dfea17bd-e05e-4f3d-94f6-50ed959728a1",
   "metadata": {},
   "outputs": [],
   "source": [
    "s1.name = \"kamakshi\""
   ]
  },
  {
   "cell_type": "code",
   "execution_count": 32,
   "id": "e49badec-d89d-4b02-8dc6-0ddd362aa4eb",
   "metadata": {},
   "outputs": [
    {
     "data": {
      "text/plain": [
       "'Ramu@xyz.com'"
      ]
     },
     "execution_count": 32,
     "metadata": {},
     "output_type": "execute_result"
    }
   ],
   "source": [
    "s1.email"
   ]
  },
  {
   "cell_type": "code",
   "execution_count": 36,
   "id": "d6652f7e-bbf3-4149-90d9-bc244ed4455e",
   "metadata": {},
   "outputs": [],
   "source": [
    "class Student:\n",
    "    def __init__(self,first,last):\n",
    "        self.first = first\n",
    "        self.last = last\n",
    "        self.mail = first + last+\"@xyz.com\"\n",
    "    def fullname(self):\n",
    "        return self.first+\" \"+self.last\n",
    "    "
   ]
  },
  {
   "cell_type": "code",
   "execution_count": 37,
   "id": "71f0d214-e7df-4fa8-bb4b-def65824d3bc",
   "metadata": {},
   "outputs": [],
   "source": [
    "s1 = Student(\"john\",\"hopkins\")"
   ]
  },
  {
   "cell_type": "code",
   "execution_count": 38,
   "id": "6c17b2a8-a3c1-463e-9ec2-a04138eefca0",
   "metadata": {},
   "outputs": [
    {
     "data": {
      "text/plain": [
       "'johnhopkins@xyz.com'"
      ]
     },
     "execution_count": 38,
     "metadata": {},
     "output_type": "execute_result"
    }
   ],
   "source": [
    "s1.mail"
   ]
  },
  {
   "cell_type": "code",
   "execution_count": 39,
   "id": "08ec429d-8cac-4a89-85db-c7ff7e6da33f",
   "metadata": {},
   "outputs": [
    {
     "data": {
      "text/plain": [
       "'john hopkins'"
      ]
     },
     "execution_count": 39,
     "metadata": {},
     "output_type": "execute_result"
    }
   ],
   "source": [
    "s1.fullname()"
   ]
  },
  {
   "cell_type": "code",
   "execution_count": 40,
   "id": "9cc6bf6c-52aa-409e-b820-d62780e6b711",
   "metadata": {},
   "outputs": [
    {
     "data": {
      "text/plain": [
       "'john hopkins'"
      ]
     },
     "execution_count": 40,
     "metadata": {},
     "output_type": "execute_result"
    }
   ],
   "source": [
    "Student.fullname(s1)"
   ]
  },
  {
   "cell_type": "code",
   "execution_count": 41,
   "id": "d49bf6b2-ff8a-4b68-b155-972a1e72a743",
   "metadata": {},
   "outputs": [],
   "source": [
    "class Student:\n",
    "    def __init__(self,first,last):\n",
    "        self.first = first\n",
    "        self.last = last\n",
    "        self.mail = first + last+\"@xyz.com\"\n",
    "    def fullname(self):\n",
    "        return self.first+\" \"+self.last\n",
    "    def uppercase(self):\n",
    "        self.first = self.first.upper()\n",
    "        self.last = self.last.upper()"
   ]
  },
  {
   "cell_type": "code",
   "execution_count": 42,
   "id": "9fdade54-c883-4636-b48b-e898707b1722",
   "metadata": {},
   "outputs": [],
   "source": [
    "s1 = Student(\"john\",\"hopkins\")"
   ]
  },
  {
   "cell_type": "code",
   "execution_count": 43,
   "id": "434476cc-3243-459e-8c84-952a68f08e4a",
   "metadata": {},
   "outputs": [],
   "source": [
    "s1.uppercase()"
   ]
  },
  {
   "cell_type": "code",
   "execution_count": 44,
   "id": "f75f51fd-1821-436f-81d9-b7e4ca57455d",
   "metadata": {},
   "outputs": [
    {
     "data": {
      "text/plain": [
       "'JOHN'"
      ]
     },
     "execution_count": 44,
     "metadata": {},
     "output_type": "execute_result"
    }
   ],
   "source": [
    "s1.first"
   ]
  },
  {
   "cell_type": "code",
   "execution_count": 99,
   "id": "23c8eb6b-8042-4c92-bc65-af897ee75081",
   "metadata": {},
   "outputs": [],
   "source": [
    "class competition:\n",
    "    raise_amount = 1.04\n",
    "    def __init__(self,name,price):\n",
    "        self.name = name\n",
    "        self.price = price\n",
    "    def raise_price(self):\n",
    "        self.price = self.price * competition.raise_amount"
   ]
  },
  {
   "cell_type": "code",
   "execution_count": 100,
   "id": "370e87da-3a0c-4289-87dd-5d188569a856",
   "metadata": {},
   "outputs": [],
   "source": [
    "c1 = competition(\"bugati\",23)"
   ]
  },
  {
   "cell_type": "code",
   "execution_count": 101,
   "id": "e8b5f486-e71e-46b7-bfd9-9b9b59dc6519",
   "metadata": {},
   "outputs": [
    {
     "data": {
      "text/plain": [
       "23"
      ]
     },
     "execution_count": 101,
     "metadata": {},
     "output_type": "execute_result"
    }
   ],
   "source": [
    "c1.price"
   ]
  },
  {
   "cell_type": "code",
   "execution_count": 102,
   "id": "6d252983-60af-4931-87fe-d04d0368b90a",
   "metadata": {},
   "outputs": [],
   "source": [
    "c1.raise_price()"
   ]
  },
  {
   "cell_type": "code",
   "execution_count": 103,
   "id": "10436ff3-c068-4645-a24a-2bdd90cd0924",
   "metadata": {},
   "outputs": [
    {
     "data": {
      "text/plain": [
       "{'name': 'bugati', 'price': 23.92}"
      ]
     },
     "execution_count": 103,
     "metadata": {},
     "output_type": "execute_result"
    }
   ],
   "source": [
    "c1.__dict__"
   ]
  },
  {
   "cell_type": "code",
   "execution_count": 104,
   "id": "f9c6e4b7-7723-4c5f-b11d-09ca5f1baba1",
   "metadata": {},
   "outputs": [
    {
     "data": {
      "text/plain": [
       "mappingproxy({'__module__': '__main__',\n",
       "              'raise_amount': 1.04,\n",
       "              '__init__': <function __main__.competition.__init__(self, name, price)>,\n",
       "              'raise_price': <function __main__.competition.raise_price(self)>,\n",
       "              '__dict__': <attribute '__dict__' of 'competition' objects>,\n",
       "              '__weakref__': <attribute '__weakref__' of 'competition' objects>,\n",
       "              '__doc__': None})"
      ]
     },
     "execution_count": 104,
     "metadata": {},
     "output_type": "execute_result"
    }
   ],
   "source": [
    "competition.__dict__"
   ]
  },
  {
   "cell_type": "code",
   "execution_count": 105,
   "id": "c0e219dc-bb27-4dce-8579-9bd070406cb2",
   "metadata": {},
   "outputs": [],
   "source": [
    "c1.raise_amount =10"
   ]
  },
  {
   "cell_type": "code",
   "execution_count": 108,
   "id": "07732d9a-836a-4457-bb46-f54b9812d90a",
   "metadata": {},
   "outputs": [
    {
     "data": {
      "text/plain": [
       "24.876800000000003"
      ]
     },
     "execution_count": 108,
     "metadata": {},
     "output_type": "execute_result"
    }
   ],
   "source": [
    "c1.price"
   ]
  },
  {
   "cell_type": "code",
   "execution_count": 107,
   "id": "703bcfad-b917-41f6-a9c2-389bb22e7379",
   "metadata": {},
   "outputs": [],
   "source": [
    "c1.raise_price()"
   ]
  },
  {
   "cell_type": "code",
   "execution_count": 109,
   "id": "aecff172-e316-450e-ac8b-06d09b727790",
   "metadata": {},
   "outputs": [
    {
     "data": {
      "text/plain": [
       "{'name': 'bugati', 'price': 24.876800000000003, 'raise_amount': 10}"
      ]
     },
     "execution_count": 109,
     "metadata": {},
     "output_type": "execute_result"
    }
   ],
   "source": [
    "c1.__dict__"
   ]
  },
  {
   "cell_type": "code",
   "execution_count": 111,
   "id": "f4a62246-668e-4e1a-becc-4efb2b52891d",
   "metadata": {},
   "outputs": [],
   "source": [
    "class competition:\n",
    "    participants = []\n",
    "\n",
    "    def __init__(self,name,prize):\n",
    "        self.name = name\n",
    "        self.prize = prize\n",
    "        competition.participants.append(name)\n"
   ]
  },
  {
   "cell_type": "code",
   "execution_count": 112,
   "id": "ec879e33-63b2-4d26-8ce7-73ea018d2790",
   "metadata": {},
   "outputs": [],
   "source": [
    "debate = competition(\"Hojn\",233)"
   ]
  },
  {
   "cell_type": "code",
   "execution_count": 113,
   "id": "68f673cb-a5a9-443c-80af-dc9d1df13ff9",
   "metadata": {},
   "outputs": [
    {
     "data": {
      "text/plain": [
       "['Hojn']"
      ]
     },
     "execution_count": 113,
     "metadata": {},
     "output_type": "execute_result"
    }
   ],
   "source": [
    "debate.participants"
   ]
  },
  {
   "cell_type": "code",
   "execution_count": 114,
   "id": "735bab4f-a1a9-4156-afdd-b672c25fb34e",
   "metadata": {},
   "outputs": [],
   "source": [
    "racing = competition(\"alice\",223)"
   ]
  },
  {
   "cell_type": "code",
   "execution_count": 115,
   "id": "f0d82298-cc61-4319-a72a-e4be7c5130e2",
   "metadata": {},
   "outputs": [
    {
     "data": {
      "text/plain": [
       "['Hojn', 'alice']"
      ]
     },
     "execution_count": 115,
     "metadata": {},
     "output_type": "execute_result"
    }
   ],
   "source": [
    "debate.participants"
   ]
  },
  {
   "cell_type": "code",
   "execution_count": 116,
   "id": "1415b74d-38d0-42c8-807e-ae4b4c9f899a",
   "metadata": {},
   "outputs": [
    {
     "data": {
      "text/plain": [
       "mappingproxy({'__module__': '__main__',\n",
       "              'participants': ['Hojn', 'alice'],\n",
       "              '__init__': <function __main__.competition.__init__(self, name, prize)>,\n",
       "              '__dict__': <attribute '__dict__' of 'competition' objects>,\n",
       "              '__weakref__': <attribute '__weakref__' of 'competition' objects>,\n",
       "              '__doc__': None})"
      ]
     },
     "execution_count": 116,
     "metadata": {},
     "output_type": "execute_result"
    }
   ],
   "source": [
    "competition.__dict__"
   ]
  },
  {
   "cell_type": "code",
   "execution_count": 117,
   "id": "8617c3f9-dcfa-478d-9f07-a4f4d5f1d05f",
   "metadata": {},
   "outputs": [],
   "source": [
    "class competition:\n",
    "    def __init__(self,name, price):\n",
    "        self.name = name\n",
    "        self.price = price\n",
    "        self.participants = []\n"
   ]
  },
  {
   "cell_type": "code",
   "execution_count": 118,
   "id": "a20e3587-8265-4e4e-94b7-bda1b123685e",
   "metadata": {},
   "outputs": [],
   "source": [
    "debate = competition(\"Raju\",2332)"
   ]
  },
  {
   "cell_type": "code",
   "execution_count": 119,
   "id": "53153cad-44f2-4126-a116-e271c2fa094f",
   "metadata": {},
   "outputs": [
    {
     "data": {
      "text/plain": [
       "{'name': 'Raju', 'price': 2332, 'participants': []}"
      ]
     },
     "execution_count": 119,
     "metadata": {},
     "output_type": "execute_result"
    }
   ],
   "source": [
    "debate.__dict__"
   ]
  },
  {
   "cell_type": "code",
   "execution_count": 130,
   "id": "6781c405-eacb-46d1-b0ab-dc5124ece6bf",
   "metadata": {},
   "outputs": [],
   "source": [
    "class dog:\n",
    "    def __init__(self,name,breed):\n",
    "        self.__name = name \n",
    "        self.__breed= breed\n",
    "    def print_details(self):\n",
    "        print(\"my name is\",self.__name,\"and my breed is\",self.__breed)\n",
    "    def change_name(self,name):\n",
    "        sef.__name = name"
   ]
  },
  {
   "cell_type": "code",
   "execution_count": 131,
   "id": "911a6be5-97e8-4c65-844b-2d9d3fee350f",
   "metadata": {},
   "outputs": [],
   "source": [
    "d1 = dog(\"lucy\",\"pomorian\")"
   ]
  },
  {
   "cell_type": "code",
   "execution_count": 132,
   "id": "48d6f5d9-b4da-4047-96ee-40b7c0aa0ea9",
   "metadata": {},
   "outputs": [
    {
     "name": "stdout",
     "output_type": "stream",
     "text": [
      "my name is lucy and my breed is pomorian\n"
     ]
    }
   ],
   "source": [
    "d1.print_details()"
   ]
  },
  {
   "cell_type": "code",
   "execution_count": 133,
   "id": "32fc1bdc-0d57-4384-925c-aa033d82ad11",
   "metadata": {},
   "outputs": [
    {
     "data": {
      "text/plain": [
       "{'_dog__name': 'lucy', '_dog__breed': 'pomorian'}"
      ]
     },
     "execution_count": 133,
     "metadata": {},
     "output_type": "execute_result"
    }
   ],
   "source": [
    "d1.__dict__"
   ]
  },
  {
   "cell_type": "code",
   "execution_count": 138,
   "id": "c6d99081-3c3e-4d5e-aba1-e0dd340b9bf7",
   "metadata": {},
   "outputs": [],
   "source": [
    "class Student:\n",
    "    \"\"\" This class is for student data who is enrolled at the university\"\"\"\n",
    "    __university_name = \"JNTUH\"\n",
    "    def __init__(self,name,gpa):\n",
    "        self.__name = name \n",
    "        self.__gpa = gpa\n",
    "        self.__clubs = set()\n",
    "        self.__active = True\n",
    "    def get_name(self):\n",
    "        return self.__name\n",
    "        \n",
    "    def set_name(self,name):\n",
    "        self.__name = name\n",
    "    \n",
    "    def get_gpa(self):\n",
    "        return self.__gpa\n",
    "    def set_name(self,gpa):\n",
    "        self.__gpa = gpa\n",
    "    \n",
    "    def add_clubs(self,new):\n",
    "        self.__clubs.add(new)\n",
    "    def remove_clubs(self,element):\n",
    "        self.__clubs.remove(element)\n",
    "    def set_active(self):\n",
    "        self.__active = !self.__active\n",
    "\n",
    "    def print_details(self):\n",
    "        print(\"Student name is\",self.__name,\n",
    "              \"\\nStudent's gpa is\",self.__gpa,\n",
    "              \"\\nclubs he is involved in\",self.__clubs,\n",
    "              \"\\nactive right now ?\",self.__active)\n",
    "    "
   ]
  },
  {
   "cell_type": "code",
   "execution_count": 139,
   "id": "61925a0b-ccc4-458b-bced-6ac130a79853",
   "metadata": {},
   "outputs": [],
   "source": [
    "s1 = Student(\"Raju\",9.2)"
   ]
  },
  {
   "cell_type": "code",
   "execution_count": 143,
   "id": "a6004cef-a624-40c4-a2b2-c17218f7c051",
   "metadata": {},
   "outputs": [
    {
     "name": "stdout",
     "output_type": "stream",
     "text": [
      "Student name is Raju \n",
      "Student's gpa is 9.2 \n",
      "clubs he is involved in {'Dance'} \n",
      "active right now ? True\n"
     ]
    }
   ],
   "source": [
    "s1.print_details()"
   ]
  },
  {
   "cell_type": "code",
   "execution_count": 142,
   "id": "3d45cc8c-cbda-479d-9f52-d8f954b53f42",
   "metadata": {},
   "outputs": [],
   "source": [
    "s1.add_clubs(\"Dance\")"
   ]
  },
  {
   "cell_type": "code",
   "execution_count": 144,
   "id": "8e837240-0f14-4970-b15c-670e0efdd964",
   "metadata": {},
   "outputs": [
    {
     "data": {
      "text/plain": [
       "mappingproxy({'__repr__': <slot wrapper '__repr__' of 'int' objects>,\n",
       "              '__hash__': <slot wrapper '__hash__' of 'int' objects>,\n",
       "              '__getattribute__': <slot wrapper '__getattribute__' of 'int' objects>,\n",
       "              '__lt__': <slot wrapper '__lt__' of 'int' objects>,\n",
       "              '__le__': <slot wrapper '__le__' of 'int' objects>,\n",
       "              '__eq__': <slot wrapper '__eq__' of 'int' objects>,\n",
       "              '__ne__': <slot wrapper '__ne__' of 'int' objects>,\n",
       "              '__gt__': <slot wrapper '__gt__' of 'int' objects>,\n",
       "              '__ge__': <slot wrapper '__ge__' of 'int' objects>,\n",
       "              '__add__': <slot wrapper '__add__' of 'int' objects>,\n",
       "              '__radd__': <slot wrapper '__radd__' of 'int' objects>,\n",
       "              '__sub__': <slot wrapper '__sub__' of 'int' objects>,\n",
       "              '__rsub__': <slot wrapper '__rsub__' of 'int' objects>,\n",
       "              '__mul__': <slot wrapper '__mul__' of 'int' objects>,\n",
       "              '__rmul__': <slot wrapper '__rmul__' of 'int' objects>,\n",
       "              '__mod__': <slot wrapper '__mod__' of 'int' objects>,\n",
       "              '__rmod__': <slot wrapper '__rmod__' of 'int' objects>,\n",
       "              '__divmod__': <slot wrapper '__divmod__' of 'int' objects>,\n",
       "              '__rdivmod__': <slot wrapper '__rdivmod__' of 'int' objects>,\n",
       "              '__pow__': <slot wrapper '__pow__' of 'int' objects>,\n",
       "              '__rpow__': <slot wrapper '__rpow__' of 'int' objects>,\n",
       "              '__neg__': <slot wrapper '__neg__' of 'int' objects>,\n",
       "              '__pos__': <slot wrapper '__pos__' of 'int' objects>,\n",
       "              '__abs__': <slot wrapper '__abs__' of 'int' objects>,\n",
       "              '__bool__': <slot wrapper '__bool__' of 'int' objects>,\n",
       "              '__invert__': <slot wrapper '__invert__' of 'int' objects>,\n",
       "              '__lshift__': <slot wrapper '__lshift__' of 'int' objects>,\n",
       "              '__rlshift__': <slot wrapper '__rlshift__' of 'int' objects>,\n",
       "              '__rshift__': <slot wrapper '__rshift__' of 'int' objects>,\n",
       "              '__rrshift__': <slot wrapper '__rrshift__' of 'int' objects>,\n",
       "              '__and__': <slot wrapper '__and__' of 'int' objects>,\n",
       "              '__rand__': <slot wrapper '__rand__' of 'int' objects>,\n",
       "              '__xor__': <slot wrapper '__xor__' of 'int' objects>,\n",
       "              '__rxor__': <slot wrapper '__rxor__' of 'int' objects>,\n",
       "              '__or__': <slot wrapper '__or__' of 'int' objects>,\n",
       "              '__ror__': <slot wrapper '__ror__' of 'int' objects>,\n",
       "              '__int__': <slot wrapper '__int__' of 'int' objects>,\n",
       "              '__float__': <slot wrapper '__float__' of 'int' objects>,\n",
       "              '__floordiv__': <slot wrapper '__floordiv__' of 'int' objects>,\n",
       "              '__rfloordiv__': <slot wrapper '__rfloordiv__' of 'int' objects>,\n",
       "              '__truediv__': <slot wrapper '__truediv__' of 'int' objects>,\n",
       "              '__rtruediv__': <slot wrapper '__rtruediv__' of 'int' objects>,\n",
       "              '__index__': <slot wrapper '__index__' of 'int' objects>,\n",
       "              '__new__': <function int.__new__(*args, **kwargs)>,\n",
       "              'conjugate': <method 'conjugate' of 'int' objects>,\n",
       "              'bit_length': <method 'bit_length' of 'int' objects>,\n",
       "              'to_bytes': <method 'to_bytes' of 'int' objects>,\n",
       "              'from_bytes': <method 'from_bytes' of 'int' objects>,\n",
       "              'as_integer_ratio': <method 'as_integer_ratio' of 'int' objects>,\n",
       "              '__trunc__': <method '__trunc__' of 'int' objects>,\n",
       "              '__floor__': <method '__floor__' of 'int' objects>,\n",
       "              '__ceil__': <method '__ceil__' of 'int' objects>,\n",
       "              '__round__': <method '__round__' of 'int' objects>,\n",
       "              '__getnewargs__': <method '__getnewargs__' of 'int' objects>,\n",
       "              '__format__': <method '__format__' of 'int' objects>,\n",
       "              '__sizeof__': <method '__sizeof__' of 'int' objects>,\n",
       "              'real': <attribute 'real' of 'int' objects>,\n",
       "              'imag': <attribute 'imag' of 'int' objects>,\n",
       "              'numerator': <attribute 'numerator' of 'int' objects>,\n",
       "              'denominator': <attribute 'denominator' of 'int' objects>,\n",
       "              '__doc__': \"int([x]) -> integer\\nint(x, base=10) -> integer\\n\\nConvert a number or string to an integer, or return 0 if no arguments\\nare given.  If x is a number, return x.__int__().  For floating point\\nnumbers, this truncates towards zero.\\n\\nIf x is not a number or if base is given, then x must be a string,\\nbytes, or bytearray instance representing an integer literal in the\\ngiven base.  The literal can be preceded by '+' or '-' and be surrounded\\nby whitespace.  The base defaults to 10.  Valid bases are 0 and 2-36.\\nBase 0 means to interpret the base from the string as an integer literal.\\n>>> int('0b100', base=0)\\n4\"})"
      ]
     },
     "execution_count": 144,
     "metadata": {},
     "output_type": "execute_result"
    }
   ],
   "source": [
    "int.__dict__\n"
   ]
  },
  {
   "cell_type": "code",
   "execution_count": 1,
   "id": "5a9750c9-70bc-4029-80f5-4fd7607eca8e",
   "metadata": {},
   "outputs": [],
   "source": [
    "class grandparent(object):\n",
    "    def __init__(self,city):\n",
    "        self.__city = city\n",
    "    def get_city(self):\n",
    "        return self.__city\n",
    "        "
   ]
  },
  {
   "cell_type": "code",
   "execution_count": 2,
   "id": "5042fe7c-eada-4a5c-b17f-2a95ecf260c5",
   "metadata": {},
   "outputs": [],
   "source": [
    "class parent(grandparent):\n",
    "    def __init__(self,city,lastname):\n",
    "        grandparent.__init__(self,city)\n",
    "    def get_lastname(self):\n",
    "        return self.__lastname\n",
    "        "
   ]
  },
  {
   "cell_type": "code",
   "execution_count": 3,
   "id": "0d8cfcec-38c2-4877-a4be-c285a51e02ec",
   "metadata": {},
   "outputs": [],
   "source": [
    "p = parent(\"hyd\",\"ramesh\")"
   ]
  },
  {
   "cell_type": "code",
   "execution_count": 4,
   "id": "c3ff4839-c6b0-42b9-bb80-37beef3e9304",
   "metadata": {},
   "outputs": [
    {
     "data": {
      "text/plain": [
       "'hyd'"
      ]
     },
     "execution_count": 4,
     "metadata": {},
     "output_type": "execute_result"
    }
   ],
   "source": [
    "p.get_city()\n"
   ]
  },
  {
   "cell_type": "code",
   "execution_count": null,
   "id": "7619746e-6a40-4a1e-b24d-5aae720415f9",
   "metadata": {},
   "outputs": [],
   "source": []
  }
 ],
 "metadata": {
  "kernelspec": {
   "display_name": "Python 3 (ipykernel)",
   "language": "python",
   "name": "python3"
  },
  "language_info": {
   "codemirror_mode": {
    "name": "ipython",
    "version": 3
   },
   "file_extension": ".py",
   "mimetype": "text/x-python",
   "name": "python",
   "nbconvert_exporter": "python",
   "pygments_lexer": "ipython3",
   "version": "3.8.10"
  }
 },
 "nbformat": 4,
 "nbformat_minor": 5
}
