{
 "cells": [
  {
   "cell_type": "code",
   "execution_count": 1,
   "id": "334ce87f-b09b-4dac-ba6f-95dfb820de83",
   "metadata": {},
   "outputs": [],
   "source": [
    "class shape:\n",
    "    pass"
   ]
  },
  {
   "cell_type": "code",
   "execution_count": 2,
   "id": "636d95e7-6f9b-42de-a062-81c08b8a319f",
   "metadata": {},
   "outputs": [],
   "source": [
    "class shape:\n",
    "    def __init__(self,shape_type):\n",
    "        self.__type = shape_type\n",
    "    def get_type(self):\n",
    "        print(self.__type)\n",
    "        "
   ]
  },
  {
   "cell_type": "code",
   "execution_count": 3,
   "id": "d26d7206-92d4-410c-a81c-8915be54ca28",
   "metadata": {},
   "outputs": [],
   "source": [
    "circle = shape(\"Circle\")"
   ]
  },
  {
   "cell_type": "code",
   "execution_count": 4,
   "id": "a0a73661-be93-4de4-bd52-0717b25203e3",
   "metadata": {},
   "outputs": [
    {
     "name": "stdout",
     "output_type": "stream",
     "text": [
      "Circle\n"
     ]
    }
   ],
   "source": [
    "circle.get_type()"
   ]
  },
  {
   "cell_type": "code",
   "execution_count": 5,
   "id": "b2f8e09b-5d38-4f63-b92f-a0a2441b7f99",
   "metadata": {},
   "outputs": [
    {
     "data": {
      "text/plain": [
       "__main__.shape"
      ]
     },
     "execution_count": 5,
     "metadata": {},
     "output_type": "execute_result"
    }
   ],
   "source": [
    "type(circle)"
   ]
  },
  {
   "cell_type": "code",
   "execution_count": 7,
   "id": "3559def9-0ba4-4222-8b38-f053ed124c4b",
   "metadata": {},
   "outputs": [],
   "source": [
    "class shape:\n",
    "    def __init__(self,shape_type,colour = \"Red\"):\n",
    "        self.__type = shape_type\n",
    "        self.__colour = colour\n",
    "    def get_type(self):\n",
    "        print(self.__type)\n",
    "    def get_colour(self):\n",
    "        print(self.__colour)\n",
    "    def get_area(self):\n",
    "        pass\n",
    "    def get_perimeter(self):\n",
    "        pass\n",
    "    "
   ]
  },
  {
   "cell_type": "code",
   "execution_count": 8,
   "id": "60d2eccf-cef2-4fb6-8c86-b2f5dfe6e902",
   "metadata": {},
   "outputs": [],
   "source": [
    "square = shape(\"Square\")"
   ]
  },
  {
   "cell_type": "code",
   "execution_count": 9,
   "id": "e3087d86-aeda-4384-a7be-6c3a28808075",
   "metadata": {},
   "outputs": [
    {
     "name": "stdout",
     "output_type": "stream",
     "text": [
      "Red\n"
     ]
    }
   ],
   "source": [
    "square.get_colour()"
   ]
  },
  {
   "cell_type": "code",
   "execution_count": 30,
   "id": "c984cc3a-caec-4ce5-a721-81e1cf215ea9",
   "metadata": {},
   "outputs": [],
   "source": [
    "class Circle(shape):\n",
    "    def __init__(self):\n",
    "        shape.__init__(self,\"Circle\")"
   ]
  },
  {
   "cell_type": "code",
   "execution_count": 31,
   "id": "75285241-e39c-41ed-8fe3-9a14c538f328",
   "metadata": {},
   "outputs": [],
   "source": [
    "circle = Circle()"
   ]
  },
  {
   "cell_type": "code",
   "execution_count": 32,
   "id": "5583b295-878b-4e3e-af11-8b70f559682c",
   "metadata": {},
   "outputs": [
    {
     "data": {
      "text/plain": [
       "__main__.Circle"
      ]
     },
     "execution_count": 32,
     "metadata": {},
     "output_type": "execute_result"
    }
   ],
   "source": [
    "type(circle)"
   ]
  },
  {
   "cell_type": "code",
   "execution_count": 38,
   "id": "d8ec6154-7e14-424b-95c5-a37aeccdc850",
   "metadata": {},
   "outputs": [],
   "source": [
    "class Square(shape):\n",
    "    def __init__(self,colour):\n",
    "        shape.__init__(self,\"Square\",colour)"
   ]
  },
  {
   "cell_type": "code",
   "execution_count": 39,
   "id": "7f898e12-c8f2-40ad-8c3c-98c18451beb9",
   "metadata": {},
   "outputs": [],
   "source": [
    "square = Square(\"Orange\")"
   ]
  },
  {
   "cell_type": "code",
   "execution_count": 40,
   "id": "08e1176a-fed6-41f2-b58d-3dedb9a971b7",
   "metadata": {},
   "outputs": [
    {
     "name": "stdout",
     "output_type": "stream",
     "text": [
      "Orange\n"
     ]
    }
   ],
   "source": [
    "square.get_colour()"
   ]
  },
  {
   "cell_type": "code",
   "execution_count": 41,
   "id": "5f4d3e49-ebde-4c5a-af79-3b3290906352",
   "metadata": {},
   "outputs": [],
   "source": [
    "import math\n",
    "\n",
    "class Circle(shape):\n",
    "    def __init__(self,radius):\n",
    "        shape.__init__(self,\"Circle\")\n",
    "        self.__radius = radius\n",
    "    def get_area(self):\n",
    "        return math.pi*self.__radius**2\n",
    "    def get_perimeter(self):\n",
    "        return math.pi*2*self.__radius\n",
    "    "
   ]
  },
  {
   "cell_type": "code",
   "execution_count": 42,
   "id": "8c56e316-f2af-4832-8874-9bda659b2c5a",
   "metadata": {},
   "outputs": [],
   "source": [
    "circle = Circle(4)"
   ]
  },
  {
   "cell_type": "code",
   "execution_count": 43,
   "id": "4042fa92-3152-4b62-a753-ac52715f86fa",
   "metadata": {},
   "outputs": [
    {
     "data": {
      "text/plain": [
       "50.26548245743669"
      ]
     },
     "execution_count": 43,
     "metadata": {},
     "output_type": "execute_result"
    }
   ],
   "source": [
    "circle.get_area()"
   ]
  },
  {
   "cell_type": "code",
   "execution_count": 44,
   "id": "d29d6875-322e-4d7e-96db-7b81594899f3",
   "metadata": {},
   "outputs": [],
   "source": [
    "class Square(shape):\n",
    "    def __init__(self,side):\n",
    "        shape.__init__(self,\"Circle\")\n",
    "        self.__side = side\n",
    "    def get_area(self):\n",
    "        return self.__side**2\n",
    "    def get_perimeter(self):\n",
    "        return 4*self.__side\n",
    "    "
   ]
  },
  {
   "cell_type": "code",
   "execution_count": 45,
   "id": "97059875-811a-4e0e-8602-050dcb6d6491",
   "metadata": {},
   "outputs": [],
   "source": [
    "square = Square(10)"
   ]
  },
  {
   "cell_type": "code",
   "execution_count": 46,
   "id": "a6e756f9-abba-454a-9e04-7821e66d172a",
   "metadata": {},
   "outputs": [
    {
     "data": {
      "text/plain": [
       "100"
      ]
     },
     "execution_count": 46,
     "metadata": {},
     "output_type": "execute_result"
    }
   ],
   "source": [
    "square.get_area()"
   ]
  },
  {
   "cell_type": "code",
   "execution_count": 47,
   "id": "e65fed1e-d814-4e24-a765-a5f97018b3d1",
   "metadata": {},
   "outputs": [],
   "source": [
    "class competition:\n",
    "    __raise_amount = 1.10\n",
    "    def __init__(self,name,price):\n",
    "        self.__name = name\n",
    "        self.__price = price\n",
    "    def get_name(self):\n",
    "        return self.__name\n",
    "    def get_price(self):\n",
    "        return self.__price\n",
    "    def raise_price(self):\n",
    "        self.__price = self.__price* self.__raise_amount\n",
    "        "
   ]
  },
  {
   "cell_type": "code",
   "execution_count": 48,
   "id": "f6d40027-e6ea-47db-896a-8c1fb4c70782",
   "metadata": {},
   "outputs": [],
   "source": [
    "race = competition(\"Race\",100)"
   ]
  },
  {
   "cell_type": "code",
   "execution_count": 49,
   "id": "cef3a57f-6f8f-443b-92fd-6182347d0037",
   "metadata": {},
   "outputs": [
    {
     "name": "stdout",
     "output_type": "stream",
     "text": [
      "Help on class competition in module __main__:\n",
      "\n",
      "class competition(builtins.object)\n",
      " |  competition(name, price)\n",
      " |  \n",
      " |  Methods defined here:\n",
      " |  \n",
      " |  __init__(self, name, price)\n",
      " |      Initialize self.  See help(type(self)) for accurate signature.\n",
      " |  \n",
      " |  get_name(self)\n",
      " |  \n",
      " |  get_price(self)\n",
      " |  \n",
      " |  raise_price(self)\n",
      " |  \n",
      " |  ----------------------------------------------------------------------\n",
      " |  Data descriptors defined here:\n",
      " |  \n",
      " |  __dict__\n",
      " |      dictionary for instance variables (if defined)\n",
      " |  \n",
      " |  __weakref__\n",
      " |      list of weak references to the object (if defined)\n",
      "\n"
     ]
    }
   ],
   "source": [
    "help(competition)"
   ]
  },
  {
   "cell_type": "code",
   "execution_count": 50,
   "id": "aff1b9f2-e5bb-4ac7-9a74-86dd50220b8f",
   "metadata": {},
   "outputs": [
    {
     "data": {
      "text/plain": [
       "mappingproxy({'__module__': '__main__',\n",
       "              '_competition__raise_amount': 1.1,\n",
       "              '__init__': <function __main__.competition.__init__(self, name, price)>,\n",
       "              'get_name': <function __main__.competition.get_name(self)>,\n",
       "              'get_price': <function __main__.competition.get_price(self)>,\n",
       "              'raise_price': <function __main__.competition.raise_price(self)>,\n",
       "              '__dict__': <attribute '__dict__' of 'competition' objects>,\n",
       "              '__weakref__': <attribute '__weakref__' of 'competition' objects>,\n",
       "              '__doc__': None})"
      ]
     },
     "execution_count": 50,
     "metadata": {},
     "output_type": "execute_result"
    }
   ],
   "source": [
    "competition.__dict__\n"
   ]
  },
  {
   "cell_type": "code",
   "execution_count": 51,
   "id": "56642fc7-f454-47ed-ac38-009f40ff8cab",
   "metadata": {},
   "outputs": [],
   "source": [
    "class sprint(competition):\n",
    "    pass"
   ]
  },
  {
   "cell_type": "code",
   "execution_count": 52,
   "id": "55a54553-fb4c-4109-87f9-780e1d3ea957",
   "metadata": {},
   "outputs": [
    {
     "name": "stdout",
     "output_type": "stream",
     "text": [
      "Help on class sprint in module __main__:\n",
      "\n",
      "class sprint(competition)\n",
      " |  sprint(name, price)\n",
      " |  \n",
      " |  Method resolution order:\n",
      " |      sprint\n",
      " |      competition\n",
      " |      builtins.object\n",
      " |  \n",
      " |  Methods inherited from competition:\n",
      " |  \n",
      " |  __init__(self, name, price)\n",
      " |      Initialize self.  See help(type(self)) for accurate signature.\n",
      " |  \n",
      " |  get_name(self)\n",
      " |  \n",
      " |  get_price(self)\n",
      " |  \n",
      " |  raise_price(self)\n",
      " |  \n",
      " |  ----------------------------------------------------------------------\n",
      " |  Data descriptors inherited from competition:\n",
      " |  \n",
      " |  __dict__\n",
      " |      dictionary for instance variables (if defined)\n",
      " |  \n",
      " |  __weakref__\n",
      " |      list of weak references to the object (if defined)\n",
      "\n"
     ]
    }
   ],
   "source": [
    "help(sprint)"
   ]
  },
  {
   "cell_type": "code",
   "execution_count": 53,
   "id": "2aababa5-3afe-468b-a81a-cf30b34a1980",
   "metadata": {},
   "outputs": [
    {
     "data": {
      "text/plain": [
       "mappingproxy({'__module__': '__main__', '__doc__': None})"
      ]
     },
     "execution_count": 53,
     "metadata": {},
     "output_type": "execute_result"
    }
   ],
   "source": [
    "sprint.__dict__"
   ]
  },
  {
   "cell_type": "code",
   "execution_count": 54,
   "id": "04a06ba5-c08f-412c-ab82-e602243d5feb",
   "metadata": {},
   "outputs": [],
   "source": [
    "sprint = sprint(\"100m\",300)"
   ]
  },
  {
   "cell_type": "code",
   "execution_count": 55,
   "id": "5fe83459-a385-4500-9408-509ff589427d",
   "metadata": {},
   "outputs": [
    {
     "data": {
      "text/plain": [
       "{'_competition__name': '100m', '_competition__price': 300}"
      ]
     },
     "execution_count": 55,
     "metadata": {},
     "output_type": "execute_result"
    }
   ],
   "source": [
    "sprint.__dict__"
   ]
  },
  {
   "cell_type": "code",
   "execution_count": 56,
   "id": "8f028e6f-3737-48ef-a082-55f75433da7c",
   "metadata": {},
   "outputs": [
    {
     "data": {
      "text/plain": [
       "300"
      ]
     },
     "execution_count": 56,
     "metadata": {},
     "output_type": "execute_result"
    }
   ],
   "source": [
    "sprint.get_price()"
   ]
  },
  {
   "cell_type": "code",
   "execution_count": 57,
   "id": "6f05f252-e716-47cb-8874-a9503502e236",
   "metadata": {},
   "outputs": [],
   "source": [
    "class Cycling(competition):\n",
    "    def __init__(self,name,price,country):\n",
    "        super().__init__(name,price)\n",
    "        self.__country = country\n",
    "    def get_country(self):\n",
    "        return self._country\n",
    "        "
   ]
  },
  {
   "cell_type": "code",
   "execution_count": 63,
   "id": "00f8f55f-972a-4102-8293-4bef19876672",
   "metadata": {},
   "outputs": [
    {
     "data": {
      "text/plain": [
       "True"
      ]
     },
     "execution_count": 63,
     "metadata": {},
     "output_type": "execute_result"
    }
   ],
   "source": [
    "issubclass(Cycling,competition)"
   ]
  },
  {
   "cell_type": "code",
   "execution_count": 61,
   "id": "8f28b19a-32af-4ee6-a303-6c7862a20fd5",
   "metadata": {},
   "outputs": [
    {
     "name": "stdout",
     "output_type": "stream",
     "text": [
      "Help on class Cycling in module __main__:\n",
      "\n",
      "class Cycling(competition)\n",
      " |  Cycling(name, price, country)\n",
      " |  \n",
      " |  Method resolution order:\n",
      " |      Cycling\n",
      " |      competition\n",
      " |      builtins.object\n",
      " |  \n",
      " |  Methods defined here:\n",
      " |  \n",
      " |  __init__(self, name, price, country)\n",
      " |      Initialize self.  See help(type(self)) for accurate signature.\n",
      " |  \n",
      " |  get_country(self)\n",
      " |  \n",
      " |  ----------------------------------------------------------------------\n",
      " |  Methods inherited from competition:\n",
      " |  \n",
      " |  get_name(self)\n",
      " |  \n",
      " |  get_price(self)\n",
      " |  \n",
      " |  raise_price(self)\n",
      " |  \n",
      " |  ----------------------------------------------------------------------\n",
      " |  Data descriptors inherited from competition:\n",
      " |  \n",
      " |  __dict__\n",
      " |      dictionary for instance variables (if defined)\n",
      " |  \n",
      " |  __weakref__\n",
      " |      list of weak references to the object (if defined)\n",
      "\n"
     ]
    }
   ],
   "source": [
    "help(Cycling)"
   ]
  },
  {
   "cell_type": "code",
   "execution_count": 64,
   "id": "2da6bad8-cd38-4192-8a93-57a0bec2e07c",
   "metadata": {},
   "outputs": [],
   "source": [
    "class Father:\n",
    "    pass\n",
    "\n",
    "class Mother:\n",
    "    pass"
   ]
  },
  {
   "cell_type": "code",
   "execution_count": 67,
   "id": "88d2f736-1146-453f-a82d-eaa99dd1412f",
   "metadata": {},
   "outputs": [],
   "source": [
    "class Child(Mother,Father):\n",
    "    pass"
   ]
  },
  {
   "cell_type": "code",
   "execution_count": 68,
   "id": "be7db82d-d860-4a40-8f41-8ade768077ca",
   "metadata": {},
   "outputs": [
    {
     "name": "stdout",
     "output_type": "stream",
     "text": [
      "Help on class Child in module __main__:\n",
      "\n",
      "class Child(Mother, Father)\n",
      " |  Method resolution order:\n",
      " |      Child\n",
      " |      Mother\n",
      " |      Father\n",
      " |      builtins.object\n",
      " |  \n",
      " |  Data descriptors inherited from Mother:\n",
      " |  \n",
      " |  __dict__\n",
      " |      dictionary for instance variables (if defined)\n",
      " |  \n",
      " |  __weakref__\n",
      " |      list of weak references to the object (if defined)\n",
      "\n"
     ]
    }
   ],
   "source": [
    "help(Child)"
   ]
  },
  {
   "cell_type": "code",
   "execution_count": 69,
   "id": "7258f899-e20c-4c49-a307-1bfb47b0f155",
   "metadata": {},
   "outputs": [],
   "source": [
    "class Father :\n",
    "    def height(self):\n",
    "        print(\"hegjtti\")\n",
    "class Mother:\n",
    "    def intellect(self):\n",
    "        print(\"intellect got from mother\")\n"
   ]
  },
  {
   "cell_type": "code",
   "execution_count": 70,
   "id": "80b3afa4-f849-4096-9334-83f2b199429f",
   "metadata": {},
   "outputs": [],
   "source": [
    "class Child (Father,Mother):\n",
    "    def experience(self):\n",
    "        print(\"My experience is my own \")\n",
    "        "
   ]
  },
  {
   "cell_type": "code",
   "execution_count": 71,
   "id": "155ee51f-27d4-4576-a93b-5a5993f6bc00",
   "metadata": {},
   "outputs": [],
   "source": [
    "child= Child()"
   ]
  },
  {
   "cell_type": "code",
   "execution_count": 72,
   "id": "bc2d2fa4-1bc3-4eb0-8194-355e81ff8b3e",
   "metadata": {},
   "outputs": [
    {
     "name": "stdout",
     "output_type": "stream",
     "text": [
      "hegjtti\n"
     ]
    }
   ],
   "source": [
    "child.height()"
   ]
  },
  {
   "cell_type": "code",
   "execution_count": 73,
   "id": "00495342-b75c-41a3-9cc3-dfeac41aabe8",
   "metadata": {},
   "outputs": [
    {
     "name": "stdout",
     "output_type": "stream",
     "text": [
      "intellect got from mother\n"
     ]
    }
   ],
   "source": [
    "child.intellect()"
   ]
  },
  {
   "cell_type": "code",
   "execution_count": 74,
   "id": "5d2525c7-40d5-4f5a-85b2-f748a8c0ca3d",
   "metadata": {},
   "outputs": [
    {
     "name": "stdout",
     "output_type": "stream",
     "text": [
      "My experience is my own \n"
     ]
    }
   ],
   "source": [
    "child.experience()"
   ]
  },
  {
   "cell_type": "code",
   "execution_count": 75,
   "id": "7dec0e51-93e0-4620-b1d9-2f865140fa85",
   "metadata": {},
   "outputs": [],
   "source": [
    "class Employee:\n",
    "    def __init__(self,name,age):\n",
    "        self.__name = name\n",
    "        self.__age = age\n",
    "    def show_name(self):\n",
    "        print(self.__name)\n",
    "    def show_age(self):\n",
    "        print(self.__age)\n",
    "    "
   ]
  },
  {
   "cell_type": "code",
   "execution_count": 76,
   "id": "e12df5dc-59eb-4e2d-a21c-f7a14962508f",
   "metadata": {},
   "outputs": [],
   "source": [
    "class Salary:\n",
    "    def __init__(self,salary):\n",
    "        self.__salary = salary\n",
    "    def get_salary(self):\n",
    "        return self.__salary"
   ]
  },
  {
   "cell_type": "code",
   "execution_count": 77,
   "id": "e11e1fd9-6826-448b-a05f-1910a44ff238",
   "metadata": {},
   "outputs": [],
   "source": [
    "class Database(Employee,Salary):\n",
    "    def __init__(self,name,age,salary):\n",
    "        Employee.__init__(self,name,age)\n",
    "        Salary.__init__(self,salary)\n",
    "        "
   ]
  },
  {
   "cell_type": "code",
   "execution_count": 78,
   "id": "73beabf6-51c0-404c-a90d-2438ef47ae20",
   "metadata": {},
   "outputs": [],
   "source": [
    "emp1 = Database(\"robin\",23,3900)\n"
   ]
  },
  {
   "cell_type": "code",
   "execution_count": 79,
   "id": "6a1326aa-f504-482f-800c-af73bb285f7e",
   "metadata": {},
   "outputs": [
    {
     "data": {
      "text/plain": [
       "3900"
      ]
     },
     "execution_count": 79,
     "metadata": {},
     "output_type": "execute_result"
    }
   ],
   "source": [
    "emp1.get_salary()"
   ]
  },
  {
   "cell_type": "code",
   "execution_count": 80,
   "id": "cbebe98b-c73f-4a36-b0d2-2baa88a392bd",
   "metadata": {},
   "outputs": [
    {
     "name": "stdout",
     "output_type": "stream",
     "text": [
      "Help on class Database in module __main__:\n",
      "\n",
      "class Database(Employee, Salary)\n",
      " |  Database(name, age, salary)\n",
      " |  \n",
      " |  Method resolution order:\n",
      " |      Database\n",
      " |      Employee\n",
      " |      Salary\n",
      " |      builtins.object\n",
      " |  \n",
      " |  Methods defined here:\n",
      " |  \n",
      " |  __init__(self, name, age, salary)\n",
      " |      Initialize self.  See help(type(self)) for accurate signature.\n",
      " |  \n",
      " |  ----------------------------------------------------------------------\n",
      " |  Methods inherited from Employee:\n",
      " |  \n",
      " |  show_age(self)\n",
      " |  \n",
      " |  show_name(self)\n",
      " |  \n",
      " |  ----------------------------------------------------------------------\n",
      " |  Data descriptors inherited from Employee:\n",
      " |  \n",
      " |  __dict__\n",
      " |      dictionary for instance variables (if defined)\n",
      " |  \n",
      " |  __weakref__\n",
      " |      list of weak references to the object (if defined)\n",
      " |  \n",
      " |  ----------------------------------------------------------------------\n",
      " |  Methods inherited from Salary:\n",
      " |  \n",
      " |  get_salary(self)\n",
      "\n"
     ]
    }
   ],
   "source": [
    "help(Database)"
   ]
  },
  {
   "cell_type": "code",
   "execution_count": 81,
   "id": "660a09b4-007d-464f-aa76-aa6edcd220db",
   "metadata": {},
   "outputs": [],
   "source": [
    "class grandparent:\n",
    "    def height(self):\n",
    "        print(\"i inherited my height from my grandparent\")\n",
    "class parent(grandparent):\n",
    "    def intellect(self):\n",
    "        print(\"i inherited my intellect from my parent\")\n",
    "class child(parent):\n",
    "    def experience(self):\n",
    "        print(\"i have my own experience\")\n",
    "        "
   ]
  },
  {
   "cell_type": "code",
   "execution_count": 82,
   "id": "d1f788ac-3596-415b-a307-4fe9ce098cda",
   "metadata": {},
   "outputs": [],
   "source": [
    "child = child()\n"
   ]
  },
  {
   "cell_type": "code",
   "execution_count": 83,
   "id": "ac341a39-1245-44be-a2a9-2c903147d861",
   "metadata": {},
   "outputs": [
    {
     "name": "stdout",
     "output_type": "stream",
     "text": [
      "i inherited my height from my grandparent\n"
     ]
    }
   ],
   "source": [
    "child.height()"
   ]
  },
  {
   "cell_type": "code",
   "execution_count": null,
   "id": "8d87004b-cd74-4af2-8ebe-5888450bad6e",
   "metadata": {},
   "outputs": [],
   "source": [
    "class"
   ]
  }
 ],
 "metadata": {
  "kernelspec": {
   "display_name": "Python 3 (ipykernel)",
   "language": "python",
   "name": "python3"
  },
  "language_info": {
   "codemirror_mode": {
    "name": "ipython",
    "version": 3
   },
   "file_extension": ".py",
   "mimetype": "text/x-python",
   "name": "python",
   "nbconvert_exporter": "python",
   "pygments_lexer": "ipython3",
   "version": "3.8.10"
  }
 },
 "nbformat": 4,
 "nbformat_minor": 5
}
