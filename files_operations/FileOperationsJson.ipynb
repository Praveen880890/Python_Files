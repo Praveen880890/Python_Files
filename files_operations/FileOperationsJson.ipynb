{
 "cells": [
  {
   "cell_type": "code",
   "execution_count": 1,
   "id": "6facef7b-90da-4ea0-8fc0-38eb15cb5661",
   "metadata": {},
   "outputs": [],
   "source": [
    "import json\n"
   ]
  },
  {
   "cell_type": "code",
   "execution_count": 2,
   "id": "1aa76a62-8694-4c65-92ac-13defdde0b92",
   "metadata": {},
   "outputs": [],
   "source": [
    "car = \"\"\"{\"model\":\"civic\",\n",
    "\"make\":\"honda\",\n",
    "\"variants\":[\"Sedan\",\"Coupe\"]}\"\"\""
   ]
  },
  {
   "cell_type": "code",
   "execution_count": 3,
   "id": "1ba90128-8181-4c07-84d4-06151e3b729d",
   "metadata": {},
   "outputs": [
    {
     "data": {
      "text/plain": [
       "'{\"model\":\"civic\",\\n\"make\":\"honda\",\\n\"variants\":[\"Sedan\",\"Coupe\"]}'"
      ]
     },
     "execution_count": 3,
     "metadata": {},
     "output_type": "execute_result"
    }
   ],
   "source": [
    "car"
   ]
  },
  {
   "cell_type": "code",
   "execution_count": 4,
   "id": "0cbec53f-e9b6-4e14-b65e-ff95c72c36ea",
   "metadata": {},
   "outputs": [],
   "source": [
    "car_dict = json.loads(car)"
   ]
  },
  {
   "cell_type": "code",
   "execution_count": 5,
   "id": "c3b77c46-3c78-447c-8b00-25f2ca7fc289",
   "metadata": {},
   "outputs": [
    {
     "data": {
      "text/plain": [
       "dict"
      ]
     },
     "execution_count": 5,
     "metadata": {},
     "output_type": "execute_result"
    }
   ],
   "source": [
    "type(car_dict)"
   ]
  },
  {
   "cell_type": "code",
   "execution_count": 6,
   "id": "2d1cd324-f87d-4ea1-8578-03e700ee30df",
   "metadata": {},
   "outputs": [
    {
     "data": {
      "text/plain": [
       "{'model': 'civic', 'make': 'honda', 'variants': ['Sedan', 'Coupe']}"
      ]
     },
     "execution_count": 6,
     "metadata": {},
     "output_type": "execute_result"
    }
   ],
   "source": [
    "car_dict"
   ]
  },
  {
   "cell_type": "code",
   "execution_count": 7,
   "id": "a2ef9036-40d7-4a41-a2df-ddb124719099",
   "metadata": {},
   "outputs": [
    {
     "name": "stdout",
     "output_type": "stream",
     "text": [
      "{\"Country\":\"USA\",\"Currency\":\"USA Dollars\"}\n"
     ]
    }
   ],
   "source": [
    "!cat currency.json"
   ]
  },
  {
   "cell_type": "code",
   "execution_count": 9,
   "id": "c1aae40b-6f56-472d-b462-33b2582843ab",
   "metadata": {},
   "outputs": [
    {
     "name": "stdout",
     "output_type": "stream",
     "text": [
      "{'Country': 'USA', 'Currency': 'USA Dollars'}\n"
     ]
    }
   ],
   "source": [
    "with open(\"currency.json\") as f :\n",
    "    data = json.load(f)\n",
    "    print(data)"
   ]
  },
  {
   "cell_type": "code",
   "execution_count": 10,
   "id": "f7d49421-4155-4152-93b0-4e954688e581",
   "metadata": {},
   "outputs": [],
   "source": [
    "currency = {\"Country\":\"USA\",\"Currency\":\"USA Dollars\"}\n"
   ]
  },
  {
   "cell_type": "code",
   "execution_count": 12,
   "id": "20a90212-27ed-4672-911c-f7a374c185d9",
   "metadata": {},
   "outputs": [],
   "source": [
    "j_dump = json.dumps(currency)"
   ]
  },
  {
   "cell_type": "code",
   "execution_count": 13,
   "id": "87b11805-93c6-4daa-a0d6-7c3d60a9c0a4",
   "metadata": {},
   "outputs": [
    {
     "data": {
      "text/plain": [
       "'{\"Country\": \"USA\", \"Currency\": \"USA Dollars\"}'"
      ]
     },
     "execution_count": 13,
     "metadata": {},
     "output_type": "execute_result"
    }
   ],
   "source": [
    "j_dump"
   ]
  },
  {
   "cell_type": "code",
   "execution_count": 14,
   "id": "ba95e637-8378-42bd-8697-2fbe3af826b2",
   "metadata": {},
   "outputs": [],
   "source": [
    "with open(\"currency.json\",\"a+\") as f:\n",
    "    f.write(j_dump)"
   ]
  },
  {
   "cell_type": "code",
   "execution_count": 15,
   "id": "d19415b0-74ac-48ce-996d-eb09d4027239",
   "metadata": {},
   "outputs": [
    {
     "name": "stdout",
     "output_type": "stream",
     "text": [
      "{\"Country\":\"USA\",\"Currency\":\"USA Dollars\"}\n",
      "{\"Country\": \"USA\", \"Currency\": \"USA Dollars\"}\n"
     ]
    }
   ],
   "source": [
    "!cat currency.json"
   ]
  },
  {
   "cell_type": "code",
   "execution_count": null,
   "id": "0492ada3-478b-4c95-a469-f94bd3326480",
   "metadata": {},
   "outputs": [],
   "source": []
  }
 ],
 "metadata": {
  "kernelspec": {
   "display_name": "Python 3 (ipykernel)",
   "language": "python",
   "name": "python3"
  },
  "language_info": {
   "codemirror_mode": {
    "name": "ipython",
    "version": 3
   },
   "file_extension": ".py",
   "mimetype": "text/x-python",
   "name": "python",
   "nbconvert_exporter": "python",
   "pygments_lexer": "ipython3",
   "version": "3.8.10"
  }
 },
 "nbformat": 4,
 "nbformat_minor": 5
}
