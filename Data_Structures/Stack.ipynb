{
 "cells": [
  {
   "cell_type": "code",
   "execution_count": 1,
   "id": "398df1aa-e456-439e-a7a0-0445f2a42402",
   "metadata": {},
   "outputs": [],
   "source": [
    "stack = []\n"
   ]
  },
  {
   "cell_type": "code",
   "execution_count": 2,
   "id": "4b15f343-0067-4842-86d3-3ebcab37121a",
   "metadata": {},
   "outputs": [],
   "source": [
    "stack.extend([\"India\",\"USA\",\"China\"])"
   ]
  },
  {
   "cell_type": "code",
   "execution_count": 3,
   "id": "1750266e-d068-4494-a329-391487af6488",
   "metadata": {},
   "outputs": [
    {
     "data": {
      "text/plain": [
       "['India', 'USA', 'China']"
      ]
     },
     "execution_count": 3,
     "metadata": {},
     "output_type": "execute_result"
    }
   ],
   "source": [
    "stack"
   ]
  },
  {
   "cell_type": "code",
   "execution_count": 11,
   "id": "a3a22bdd-bff3-4843-a351-c52458559108",
   "metadata": {},
   "outputs": [],
   "source": [
    "class stack:\n",
    "    def __init__(self):\n",
    "        self.stack = []\n",
    "    def is_empty(self):\n",
    "        return len(self.stack)==0\n",
    "    def push(self,data):\n",
    "        self.stack.append(data)\n",
    "    def pop_out(self):\n",
    "        if self.is_empty():\n",
    "            raise Exception(\"Nothing to pop here !\")\n",
    "        return self.stack.pop()\n",
    "    def size(self):\n",
    "        return len(self.stack)\n",
    "    def peek(self):\n",
    "        if self.is_empty():\n",
    "            raise Exception(\"Nothing to peek here!\")\n",
    "        return self.stack[self.size()-1]\n",
    "    "
   ]
  },
  {
   "cell_type": "code",
   "execution_count": 12,
   "id": "10f31765-356d-4abb-ada8-29bc04b484e6",
   "metadata": {},
   "outputs": [],
   "source": [
    "olympics = stack()"
   ]
  },
  {
   "cell_type": "code",
   "execution_count": 13,
   "id": "78f363bd-50c5-41df-adbd-ba951238b3ff",
   "metadata": {},
   "outputs": [],
   "source": [
    "olympics.push(\"India\")"
   ]
  },
  {
   "cell_type": "code",
   "execution_count": 14,
   "id": "f2de3e1b-b54d-4649-ae6d-a60d37488898",
   "metadata": {},
   "outputs": [],
   "source": [
    "olympics.push(\"USA\")"
   ]
  },
  {
   "cell_type": "code",
   "execution_count": 15,
   "id": "aec712d1-2411-423a-a93e-9042186ca5f8",
   "metadata": {},
   "outputs": [],
   "source": [
    "olympics.push(\"China\")"
   ]
  },
  {
   "cell_type": "code",
   "execution_count": 9,
   "id": "f55aadde-198b-4568-8bc1-51f458829f34",
   "metadata": {},
   "outputs": [
    {
     "data": {
      "text/plain": [
       "['India', 'USA', 'China']"
      ]
     },
     "execution_count": 9,
     "metadata": {},
     "output_type": "execute_result"
    }
   ],
   "source": [
    "olympics.stack"
   ]
  },
  {
   "cell_type": "code",
   "execution_count": 16,
   "id": "2009f256-3397-46af-b3c2-5b068e9aa3aa",
   "metadata": {},
   "outputs": [
    {
     "data": {
      "text/plain": [
       "'China'"
      ]
     },
     "execution_count": 16,
     "metadata": {},
     "output_type": "execute_result"
    }
   ],
   "source": [
    "olympics.peek()"
   ]
  },
  {
   "cell_type": "code",
   "execution_count": null,
   "id": "cc0b284e-2958-4c34-9b03-81e4f44fe73c",
   "metadata": {},
   "outputs": [],
   "source": []
  }
 ],
 "metadata": {
  "kernelspec": {
   "display_name": "Python 3 (ipykernel)",
   "language": "python",
   "name": "python3"
  },
  "language_info": {
   "codemirror_mode": {
    "name": "ipython",
    "version": 3
   },
   "file_extension": ".py",
   "mimetype": "text/x-python",
   "name": "python",
   "nbconvert_exporter": "python",
   "pygments_lexer": "ipython3",
   "version": "3.8.10"
  }
 },
 "nbformat": 4,
 "nbformat_minor": 5
}
