{
 "cells": [
  {
   "cell_type": "code",
   "execution_count": 3,
   "id": "f31614cb-d41e-4c82-9ac9-cdb224fb7af5",
   "metadata": {},
   "outputs": [],
   "source": [
    "def add(a,b):\n",
    "    num_iterations = 0 \n",
    "    tot = a+b\n",
    "    num_iterations +=1\n",
    "    print(tot,num_iterations)"
   ]
  },
  {
   "cell_type": "code",
   "execution_count": 4,
   "id": "6099923f-8178-47f0-9983-f80fe7ec1f6f",
   "metadata": {},
   "outputs": [
    {
     "name": "stdout",
     "output_type": "stream",
     "text": [
      "4 1\n"
     ]
    }
   ],
   "source": [
    "add(1,3)"
   ]
  },
  {
   "cell_type": "code",
   "execution_count": 9,
   "id": "7223a38b-6a5c-4e20-9fef-711e618a6280",
   "metadata": {},
   "outputs": [],
   "source": [
    "def check_prime(n):\n",
    "    num_iterations = 0 \n",
    "    mid = n//2\n",
    "    for i in range(2,mid):\n",
    "        num_iterations+=1\n",
    "        if n%i==0:\n",
    "            print(\"{} is not a prime number\\nThe number of iterations are {}\".format(n,num_iterations))\n",
    "            return \n",
    "    print(\"{} is a prime number\\nThe number of iterations are {}\".format(n,num_iterations))    "
   ]
  },
  {
   "cell_type": "code",
   "execution_count": 17,
   "id": "baaf86cc-b088-42ea-8bc8-f6c3da54887a",
   "metadata": {},
   "outputs": [
    {
     "name": "stdout",
     "output_type": "stream",
     "text": [
      "1849 is not a prime number\n",
      "The number of iterations are 42\n"
     ]
    }
   ],
   "source": [
    "check_prime(1849)"
   ]
  },
  {
   "cell_type": "code",
   "execution_count": 18,
   "id": "cc25c831-4d8d-45ee-8c32-db192d570fc5",
   "metadata": {},
   "outputs": [],
   "source": [
    "def find_maxval(num_list):\n",
    "    maxval = num_list[0]\n",
    "    num_iterations = 0 \n",
    "    for i in range(len(num_list)):\n",
    "        num_iterations +=1\n",
    "        if maxval < num_list[i]:\n",
    "            maxval = num_list[i] \n",
    "    print(\"Maximum value of the list  = {}\\nTotal number of iterations = {}\".format(maxval,num_iterations))\n",
    "    "
   ]
  },
  {
   "cell_type": "code",
   "execution_count": 20,
   "id": "0d0e1b03-b073-4068-ab91-0fc1bd8e1f62",
   "metadata": {},
   "outputs": [
    {
     "name": "stdout",
     "output_type": "stream",
     "text": [
      "Maximum value of the list  = 11\n",
      "Total number of iterations = 9\n"
     ]
    }
   ],
   "source": [
    "find_maxval([11,2,3,4,5,6,7,8,9])"
   ]
  },
  {
   "cell_type": "code",
   "execution_count": null,
   "id": "6eb1c2ea-269e-491e-9813-9597b9323417",
   "metadata": {},
   "outputs": [],
   "source": [
    "def find_factorial"
   ]
  }
 ],
 "metadata": {
  "kernelspec": {
   "display_name": "Python 3 (ipykernel)",
   "language": "python",
   "name": "python3"
  },
  "language_info": {
   "codemirror_mode": {
    "name": "ipython",
    "version": 3
   },
   "file_extension": ".py",
   "mimetype": "text/x-python",
   "name": "python",
   "nbconvert_exporter": "python",
   "pygments_lexer": "ipython3",
   "version": "3.8.10"
  }
 },
 "nbformat": 4,
 "nbformat_minor": 5
}
