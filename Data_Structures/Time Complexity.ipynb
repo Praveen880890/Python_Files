{
 "cells": [
  {
   "cell_type": "code",
   "execution_count": 3,
   "id": "f31614cb-d41e-4c82-9ac9-cdb224fb7af5",
   "metadata": {},
   "outputs": [],
   "source": [
    "def add(a,b):\n",
    "    num_iterations = 0 \n",
    "    tot = a+b\n",
    "    num_iterations +=1\n",
    "    print(tot,num_iterations)"
   ]
  },
  {
   "cell_type": "code",
   "execution_count": 4,
   "id": "6099923f-8178-47f0-9983-f80fe7ec1f6f",
   "metadata": {},
   "outputs": [
    {
     "name": "stdout",
     "output_type": "stream",
     "text": [
      "4 1\n"
     ]
    }
   ],
   "source": [
    "add(1,3)"
   ]
  },
  {
   "cell_type": "code",
   "execution_count": 9,
   "id": "7223a38b-6a5c-4e20-9fef-711e618a6280",
   "metadata": {},
   "outputs": [],
   "source": [
    "def check_prime(n):\n",
    "    num_iterations = 0 \n",
    "    mid = n//2\n",
    "    for i in range(2,mid):\n",
    "        num_iterations+=1\n",
    "        if n%i==0:\n",
    "            print(\"{} is not a prime number\\nThe number of iterations are {}\".format(n,num_iterations))\n",
    "            return \n",
    "    print(\"{} is a prime number\\nThe number of iterations are {}\".format(n,num_iterations))    "
   ]
  },
  {
   "cell_type": "code",
   "execution_count": 17,
   "id": "baaf86cc-b088-42ea-8bc8-f6c3da54887a",
   "metadata": {},
   "outputs": [
    {
     "name": "stdout",
     "output_type": "stream",
     "text": [
      "1849 is not a prime number\n",
      "The number of iterations are 42\n"
     ]
    }
   ],
   "source": [
    "check_prime(1849)"
   ]
  },
  {
   "cell_type": "code",
   "execution_count": 18,
   "id": "cc25c831-4d8d-45ee-8c32-db192d570fc5",
   "metadata": {},
   "outputs": [],
   "source": [
    "def find_maxval(num_list):\n",
    "    maxval = num_list[0]\n",
    "    num_iterations = 0 \n",
    "    for i in range(len(num_list)):\n",
    "        num_iterations +=1\n",
    "        if maxval < num_list[i]:\n",
    "            maxval = num_list[i] \n",
    "    print(\"Maximum value of the list  = {}\\nTotal number of iterations = {}\".format(maxval,num_iterations))\n",
    "    "
   ]
  },
  {
   "cell_type": "code",
   "execution_count": 20,
   "id": "0d0e1b03-b073-4068-ab91-0fc1bd8e1f62",
   "metadata": {},
   "outputs": [
    {
     "name": "stdout",
     "output_type": "stream",
     "text": [
      "Maximum value of the list  = 11\n",
      "Total number of iterations = 9\n"
     ]
    }
   ],
   "source": [
    "find_maxval([11,2,3,4,5,6,7,8,9])"
   ]
  },
  {
   "cell_type": "code",
   "execution_count": 21,
   "id": "6eb1c2ea-269e-491e-9813-9597b9323417",
   "metadata": {},
   "outputs": [],
   "source": [
    "def find_factorial(number:int):\n",
    "    fact = 1 \n",
    "    num_iterations = 0 \n",
    "    if (number<0 or type(number)!=int):\n",
    "        print(\"Invalid Number!\")\n",
    "        return \n",
    "    for i in range(1,number+1):\n",
    "        fact *=i\n",
    "        num_iterations+=1\n",
    "    print(\"The factorial of {} is {}\\nThe number of iterations is {}\".format(number,fact,num_iterations))\n",
    "    "
   ]
  },
  {
   "cell_type": "code",
   "execution_count": 23,
   "id": "6ba91f73-fdfc-40b8-8b54-a805773ed349",
   "metadata": {},
   "outputs": [
    {
     "name": "stdout",
     "output_type": "stream",
     "text": [
      "The factorial of 10 is 3628800\n",
      "The number of iterations is 10\n"
     ]
    }
   ],
   "source": [
    "find_factorial(10)"
   ]
  },
  {
   "cell_type": "code",
   "execution_count": 24,
   "id": "2d919100-f536-484e-8081-cebebad8f7d9",
   "metadata": {},
   "outputs": [],
   "source": [
    "def two_for_loops(number):\n",
    "    tot = 0\n",
    "    num_iterations = 0\n",
    "    for i in range(number):\n",
    "        num_iterations +=1\n",
    "        tot +=i\n",
    "    for i in range(100):\n",
    "        num_iterations +=1\n",
    "        tot +=i\n",
    "    print(\"Total iterations are \",num_iterations)"
   ]
  },
  {
   "cell_type": "code",
   "execution_count": 25,
   "id": "162af4e2-8bb0-4987-a21f-f5c88cfd2a02",
   "metadata": {},
   "outputs": [
    {
     "name": "stdout",
     "output_type": "stream",
     "text": [
      "Total iterations are  222\n"
     ]
    }
   ],
   "source": [
    "two_for_loops(122)"
   ]
  },
  {
   "cell_type": "code",
   "execution_count": 37,
   "id": "6b97296e-ffc1-4e9d-a9c9-3c0a1c4bc34b",
   "metadata": {},
   "outputs": [],
   "source": [
    "def find_factorial(number:int):\n",
    "    if number ==0:\n",
    "        return 1\n",
    "    else:\n",
    "        return find_factorial(number-1)*number"
   ]
  },
  {
   "cell_type": "code",
   "execution_count": 38,
   "id": "afb080f6-1dcc-41ea-8f42-c977aea1e383",
   "metadata": {},
   "outputs": [
    {
     "data": {
      "text/plain": [
       "3628800"
      ]
     },
     "execution_count": 38,
     "metadata": {},
     "output_type": "execute_result"
    }
   ],
   "source": [
    "find_factorial(10)"
   ]
  },
  {
   "cell_type": "code",
   "execution_count": null,
   "id": "ffdc105a-c348-405b-b6c4-94f085f45458",
   "metadata": {},
   "outputs": [],
   "source": []
  },
  {
   "cell_type": "code",
   "execution_count": 40,
   "id": "eedf32fc-1e26-464e-9808-d18ae6ff7838",
   "metadata": {},
   "outputs": [],
   "source": [
    "def print_pairs(number_list):\n",
    "    num_iterations = 0\n",
    "    n = len(number_list)\n",
    "    for i in range(n):\n",
    "        for j in range(n):\n",
    "            print(number_list[i],number_list[j])\n",
    "            num_iterations +=1\n",
    "    print(\"Total iterations are {}\".format(num_iterations))"
   ]
  },
  {
   "cell_type": "code",
   "execution_count": 41,
   "id": "3e69dac3-688d-4301-ba56-36fef6549114",
   "metadata": {},
   "outputs": [
    {
     "name": "stdout",
     "output_type": "stream",
     "text": [
      "1 1\n",
      "1 2\n",
      "1 3\n",
      "1 4\n",
      "1 5\n",
      "1 6\n",
      "2 1\n",
      "2 2\n",
      "2 3\n",
      "2 4\n",
      "2 5\n",
      "2 6\n",
      "3 1\n",
      "3 2\n",
      "3 3\n",
      "3 4\n",
      "3 5\n",
      "3 6\n",
      "4 1\n",
      "4 2\n",
      "4 3\n",
      "4 4\n",
      "4 5\n",
      "4 6\n",
      "5 1\n",
      "5 2\n",
      "5 3\n",
      "5 4\n",
      "5 5\n",
      "5 6\n",
      "6 1\n",
      "6 2\n",
      "6 3\n",
      "6 4\n",
      "6 5\n",
      "6 6\n",
      "Total iterations are 36\n"
     ]
    }
   ],
   "source": [
    "print_pairs([1,2,3,4,5,6])"
   ]
  },
  {
   "cell_type": "code",
   "execution_count": 49,
   "id": "b3b80242-1530-4939-adbf-5cfa42064e89",
   "metadata": {},
   "outputs": [],
   "source": [
    "def find_prime(lower,upper):\n",
    "    no_of_primes = 0\n",
    "    num_iterations = 0\n",
    "    for num in range(lower,upper):\n",
    "        if num == 4:\n",
    "            continue\n",
    "        for i in range(2,int(num/2)):\n",
    "            num_iterations +=1\n",
    "            if (num%i==0):\n",
    "                break\n",
    "        else:\n",
    "            no_of_primes +=1\n",
    "            print(num)\n",
    "    print(\"Total no of prime numbers in the given range is\",no_of_primes)\n",
    "    print(\"total iterations are {}\".format(num_iterations))"
   ]
  },
  {
   "cell_type": "code",
   "execution_count": 50,
   "id": "c1549044-27cf-436b-9820-499aad05c469",
   "metadata": {},
   "outputs": [
    {
     "name": "stdout",
     "output_type": "stream",
     "text": [
      "2\n",
      "3\n",
      "5\n",
      "7\n",
      "11\n",
      "13\n",
      "17\n",
      "19\n",
      "23\n",
      "29\n",
      "31\n",
      "37\n",
      "41\n",
      "43\n",
      "47\n",
      "53\n",
      "59\n",
      "61\n",
      "67\n",
      "71\n",
      "73\n",
      "79\n",
      "83\n",
      "89\n",
      "97\n",
      "Total no of prime numbers in the given range is 25\n",
      "total iterations are 591\n"
     ]
    }
   ],
   "source": [
    "find_prime(2,100)"
   ]
  },
  {
   "cell_type": "code",
   "execution_count": 51,
   "id": "5365073f-6103-4ae8-8450-f61853c93e3d",
   "metadata": {},
   "outputs": [],
   "source": [
    "def print_combinations(m,n):\n",
    "    num_iterations = 0\n",
    "    for i in range(n):\n",
    "        for j in range(m):\n",
    "            print(i,j)\n",
    "            num_iterations +=1\n",
    "    print(\"Total iterations are\",num_iterations)"
   ]
  },
  {
   "cell_type": "code",
   "execution_count": 53,
   "id": "3727616f-04ad-466b-a77d-410147b246b9",
   "metadata": {},
   "outputs": [
    {
     "name": "stdout",
     "output_type": "stream",
     "text": [
      "0 0\n",
      "0 1\n",
      "0 2\n",
      "0 3\n",
      "0 4\n",
      "0 5\n",
      "0 6\n",
      "0 7\n",
      "0 8\n",
      "0 9\n",
      "1 0\n",
      "1 1\n",
      "1 2\n",
      "1 3\n",
      "1 4\n",
      "1 5\n",
      "1 6\n",
      "1 7\n",
      "1 8\n",
      "1 9\n",
      "2 0\n",
      "2 1\n",
      "2 2\n",
      "2 3\n",
      "2 4\n",
      "2 5\n",
      "2 6\n",
      "2 7\n",
      "2 8\n",
      "2 9\n",
      "3 0\n",
      "3 1\n",
      "3 2\n",
      "3 3\n",
      "3 4\n",
      "3 5\n",
      "3 6\n",
      "3 7\n",
      "3 8\n",
      "3 9\n",
      "4 0\n",
      "4 1\n",
      "4 2\n",
      "4 3\n",
      "4 4\n",
      "4 5\n",
      "4 6\n",
      "4 7\n",
      "4 8\n",
      "4 9\n",
      "5 0\n",
      "5 1\n",
      "5 2\n",
      "5 3\n",
      "5 4\n",
      "5 5\n",
      "5 6\n",
      "5 7\n",
      "5 8\n",
      "5 9\n",
      "6 0\n",
      "6 1\n",
      "6 2\n",
      "6 3\n",
      "6 4\n",
      "6 5\n",
      "6 6\n",
      "6 7\n",
      "6 8\n",
      "6 9\n",
      "7 0\n",
      "7 1\n",
      "7 2\n",
      "7 3\n",
      "7 4\n",
      "7 5\n",
      "7 6\n",
      "7 7\n",
      "7 8\n",
      "7 9\n",
      "8 0\n",
      "8 1\n",
      "8 2\n",
      "8 3\n",
      "8 4\n",
      "8 5\n",
      "8 6\n",
      "8 7\n",
      "8 8\n",
      "8 9\n",
      "9 0\n",
      "9 1\n",
      "9 2\n",
      "9 3\n",
      "9 4\n",
      "9 5\n",
      "9 6\n",
      "9 7\n",
      "9 8\n",
      "9 9\n",
      "Total iterations are 100\n"
     ]
    }
   ],
   "source": [
    "print_combinations(10,10)"
   ]
  },
  {
   "cell_type": "code",
   "execution_count": null,
   "id": "f9b77eb9-dce6-4c50-8216-c9406944d243",
   "metadata": {},
   "outputs": [],
   "source": []
  }
 ],
 "metadata": {
  "kernelspec": {
   "display_name": "Python 3 (ipykernel)",
   "language": "python",
   "name": "python3"
  },
  "language_info": {
   "codemirror_mode": {
    "name": "ipython",
    "version": 3
   },
   "file_extension": ".py",
   "mimetype": "text/x-python",
   "name": "python",
   "nbconvert_exporter": "python",
   "pygments_lexer": "ipython3",
   "version": "3.8.10"
  }
 },
 "nbformat": 4,
 "nbformat_minor": 5
}
