{
 "cells": [
  {
   "cell_type": "code",
   "execution_count": 1,
   "id": "5b6d534f-19e3-44db-b955-5b2c950f7da2",
   "metadata": {},
   "outputs": [],
   "source": [
    "class Node:\n",
    "    def __init__(self,dataval = None,nextval=None):\n",
    "        self.dataval = dataval\n",
    "        self.nextval = nextval\n",
    "    def __repr__(self):\n",
    "        return repr(self.dataval)"
   ]
  },
  {
   "cell_type": "code",
   "execution_count": 44,
   "id": "6f6beaf1-a3be-44cd-bcb8-bdfde9e18e57",
   "metadata": {},
   "outputs": [],
   "source": [
    "class LinkedList:\n",
    "    def __init__(self):\n",
    "        self.head = None\n",
    "    def __repr__(self):\n",
    "        nodes = []\n",
    "        curr = self.head\n",
    "        while curr:\n",
    "            nodes.append(repr(curr))\n",
    "            curr = curr.nextval\n",
    "        return \"[\"+\"->\".join(nodes)+\"]\"\n",
    "    def prepend(self,dataval):\n",
    "        self.head = Node(dataval,nextval=self.head)\n",
    "    def append(self,dataval):\n",
    "        if not self.head:\n",
    "            self.head = Node(dataval)\n",
    "            return\n",
    "        curr = self.head\n",
    "        while curr.nextval:\n",
    "            curr = curr.nextval\n",
    "        curr.nextval = Node(dataval)\n",
    "    def add_after(self,middle_dataval,dataval):\n",
    "        if middle_dataval is None:\n",
    "            print(\"Data to insert after is not specified\")\n",
    "            return\n",
    "        curr = self.head\n",
    "        while curr and curr.dataval != middle_dataval:\n",
    "            curr = curr.nextval\n",
    "        new_node = Node(dataval)\n",
    "        new_node.nextval = curr.nextval\n",
    "        curr.nextval = new_node\n",
    "    def find(self,data):\n",
    "        curr = self.head\n",
    "        while curr and curr.dataval != data:\n",
    "            curr = curr.nextval\n",
    "        return curr\n",
    "    def remove(self,data):\n",
    "        curr = self.head\n",
    "        prev = None\n",
    "        while curr and curr.dataval != data:\n",
    "            prev = curr\n",
    "            curr = curr.nextval\n",
    "        if prev is None:\n",
    "            self.head = curr.nextval\n",
    "        elif curr:\n",
    "            prev.nextval = curr.nextval\n",
    "            curr.nextval = None\n",
    "        \n",
    "    def reverse(self):\n",
    "        curr = self.head\n",
    "        prev_node = None\n",
    "        next_node = None\n",
    "        while curr:\n",
    "            nextval = curr.nextval\n",
    "            curr.nextval = prev_node\n",
    "            prev_node = curr\n",
    "            curr = nextval\n",
    "        self.head = prev_node\n",
    "    def reverse_recursive(self):\n",
    "        def recursion(curr,prev):\n",
    "            if not curr:\n",
    "                return prev\n",
    "            nextval = curr.nextval\n",
    "            curr.nextval= prev\n",
    "            prev = curr\n",
    "            curr = nextval\n",
    "            return recursion(curr,prev)\n",
    "        self.head = recursion(self.head,None)\n",
    "    def count_nodes(self):\n",
    "        if self.head ==None:\n",
    "            return 0\n",
    "        else:\n",
    "            curr = self.head\n",
    "            count =0\n",
    "            while curr:\n",
    "                curr = curr.nextval\n",
    "                count+=1\n",
    "            return count\n",
    "        "
   ]
  },
  {
   "cell_type": "code",
   "execution_count": 45,
   "id": "ba4ece0e-5d9d-43e5-bdf5-83663d44cae9",
   "metadata": {},
   "outputs": [],
   "source": [
    "numbers = LinkedList()"
   ]
  },
  {
   "cell_type": "code",
   "execution_count": 46,
   "id": "99a3ad48-1501-4f66-abd9-89c82f872904",
   "metadata": {},
   "outputs": [
    {
     "data": {
      "text/plain": [
       "[]"
      ]
     },
     "execution_count": 46,
     "metadata": {},
     "output_type": "execute_result"
    }
   ],
   "source": [
    "numbers"
   ]
  },
  {
   "cell_type": "code",
   "execution_count": 47,
   "id": "77ad977f-4428-426c-9514-de99f088fdc0",
   "metadata": {},
   "outputs": [
    {
     "data": {
      "text/plain": [
       "['two'->'three']"
      ]
     },
     "execution_count": 47,
     "metadata": {},
     "output_type": "execute_result"
    }
   ],
   "source": [
    "numbers.append(\"two\")\n",
    "numbers.append(\"three\")\n",
    "numbers"
   ]
  },
  {
   "cell_type": "code",
   "execution_count": 48,
   "id": "ba5e035f-e0b4-4287-a3bb-b378e6b7e32d",
   "metadata": {},
   "outputs": [],
   "source": [
    "numbers.prepend(\"One\")\n",
    "numbers.append(\"Four\")\n",
    "numbers.append(\"Five\")\n",
    "numbers.append(\"Six\")"
   ]
  },
  {
   "cell_type": "code",
   "execution_count": 49,
   "id": "2b884cbd-80a1-4e6a-aa61-88ab487c7ca4",
   "metadata": {},
   "outputs": [
    {
     "data": {
      "text/plain": [
       "['One'->'two'->'three'->'Four'->'Five'->'Six']"
      ]
     },
     "execution_count": 49,
     "metadata": {},
     "output_type": "execute_result"
    }
   ],
   "source": [
    "numbers\n"
   ]
  },
  {
   "cell_type": "code",
   "execution_count": 50,
   "id": "9f804b95-da03-4150-a99e-e65bb6dca92f",
   "metadata": {},
   "outputs": [],
   "source": [
    "numbers.add_after(\"Six\",\"Seven\")"
   ]
  },
  {
   "cell_type": "code",
   "execution_count": 51,
   "id": "fe7cf79f-f514-4c20-86ef-103ae6fd4090",
   "metadata": {},
   "outputs": [
    {
     "data": {
      "text/plain": [
       "['One'->'two'->'three'->'Four'->'Five'->'Six'->'Seven']"
      ]
     },
     "execution_count": 51,
     "metadata": {},
     "output_type": "execute_result"
    }
   ],
   "source": [
    "numbers"
   ]
  },
  {
   "cell_type": "code",
   "execution_count": 52,
   "id": "a8c70f75-ccb3-433e-bbe0-9b119ca9fdf0",
   "metadata": {},
   "outputs": [],
   "source": [
    "numbers.reverse()"
   ]
  },
  {
   "cell_type": "code",
   "execution_count": 53,
   "id": "657479b5-88eb-4541-a9cb-8a3006e76359",
   "metadata": {},
   "outputs": [
    {
     "data": {
      "text/plain": [
       "['Seven'->'Six'->'Five'->'Four'->'three'->'two'->'One']"
      ]
     },
     "execution_count": 53,
     "metadata": {},
     "output_type": "execute_result"
    }
   ],
   "source": [
    "numbers"
   ]
  },
  {
   "cell_type": "code",
   "execution_count": 54,
   "id": "ea8307f6-8990-4ac8-b722-9bb907751664",
   "metadata": {},
   "outputs": [],
   "source": [
    "numbers.reverse_recursive()"
   ]
  },
  {
   "cell_type": "code",
   "execution_count": 55,
   "id": "f1818ad2-32b5-4fea-96b7-9ccc9073c511",
   "metadata": {},
   "outputs": [
    {
     "data": {
      "text/plain": [
       "['One'->'two'->'three'->'Four'->'Five'->'Six'->'Seven']"
      ]
     },
     "execution_count": 55,
     "metadata": {},
     "output_type": "execute_result"
    }
   ],
   "source": [
    "numbers"
   ]
  },
  {
   "cell_type": "code",
   "execution_count": 56,
   "id": "a11d2f24-2c33-468d-aee8-3b34a2e89c77",
   "metadata": {},
   "outputs": [],
   "source": [
    "numbers.remove(\"two\")"
   ]
  },
  {
   "cell_type": "code",
   "execution_count": 57,
   "id": "3920f63b-37c3-4428-8e37-3532bae6cb4d",
   "metadata": {},
   "outputs": [
    {
     "data": {
      "text/plain": [
       "['One'->'three'->'Four'->'Five'->'Six'->'Seven']"
      ]
     },
     "execution_count": 57,
     "metadata": {},
     "output_type": "execute_result"
    }
   ],
   "source": [
    "numbers"
   ]
  },
  {
   "cell_type": "code",
   "execution_count": 58,
   "id": "5ec75211-a254-4e66-a1fe-ad9ca2a1bd6e",
   "metadata": {},
   "outputs": [],
   "source": [
    "numbers.remove(\"three\")"
   ]
  },
  {
   "cell_type": "code",
   "execution_count": 59,
   "id": "0bb0e1f9-a358-4e1b-bb40-f6e91e4a8ff6",
   "metadata": {},
   "outputs": [],
   "source": [
    "numbers.add_after(\"One\",\"Two\")"
   ]
  },
  {
   "cell_type": "code",
   "execution_count": 60,
   "id": "ab839e0f-ce14-498d-bc89-7e348b5559eb",
   "metadata": {},
   "outputs": [],
   "source": [
    "numbers.add_after(\"Two\",\"Threee\")"
   ]
  },
  {
   "cell_type": "code",
   "execution_count": 61,
   "id": "f8141508-4efe-4df9-80b3-273fa9203953",
   "metadata": {},
   "outputs": [
    {
     "data": {
      "text/plain": [
       "['One'->'Two'->'Threee'->'Four'->'Five'->'Six'->'Seven']"
      ]
     },
     "execution_count": 61,
     "metadata": {},
     "output_type": "execute_result"
    }
   ],
   "source": [
    "numbers"
   ]
  },
  {
   "cell_type": "code",
   "execution_count": null,
   "id": "8ad558dc-eff7-49cc-a121-bfc19a1584fb",
   "metadata": {},
   "outputs": [],
   "source": []
  }
 ],
 "metadata": {
  "kernelspec": {
   "display_name": "Python 3 (ipykernel)",
   "language": "python",
   "name": "python3"
  },
  "language_info": {
   "codemirror_mode": {
    "name": "ipython",
    "version": 3
   },
   "file_extension": ".py",
   "mimetype": "text/x-python",
   "name": "python",
   "nbconvert_exporter": "python",
   "pygments_lexer": "ipython3",
   "version": "3.8.10"
  }
 },
 "nbformat": 4,
 "nbformat_minor": 5
}
