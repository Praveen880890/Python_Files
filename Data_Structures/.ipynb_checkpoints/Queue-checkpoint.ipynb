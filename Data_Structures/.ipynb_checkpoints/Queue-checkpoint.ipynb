{
 "cells": [
  {
   "cell_type": "code",
   "execution_count": 2,
   "id": "3303ed19-7c15-441c-b57a-d40a2ee1d353",
   "metadata": {},
   "outputs": [],
   "source": [
    "from queue import Queue"
   ]
  },
  {
   "cell_type": "code",
   "execution_count": 3,
   "id": "183e0bc9-417b-473c-aceb-c25d5a2b308d",
   "metadata": {},
   "outputs": [],
   "source": [
    "olympics = Queue(5)\n"
   ]
  },
  {
   "cell_type": "code",
   "execution_count": 4,
   "id": "e70a5130-b385-4b61-a08f-8a795333d1de",
   "metadata": {},
   "outputs": [],
   "source": [
    "olympics.put(\"India\")"
   ]
  },
  {
   "cell_type": "code",
   "execution_count": 5,
   "id": "ce8178d2-84cc-4e53-9381-15d43e98d92b",
   "metadata": {},
   "outputs": [
    {
     "data": {
      "text/plain": [
       "False"
      ]
     },
     "execution_count": 5,
     "metadata": {},
     "output_type": "execute_result"
    }
   ],
   "source": [
    "olympics.full()"
   ]
  },
  {
   "cell_type": "code",
   "execution_count": 6,
   "id": "f681eaad-b77d-40d2-8afd-8e8736557b6a",
   "metadata": {},
   "outputs": [
    {
     "data": {
      "text/plain": [
       "1"
      ]
     },
     "execution_count": 6,
     "metadata": {},
     "output_type": "execute_result"
    }
   ],
   "source": [
    "olympics.qsize()"
   ]
  },
  {
   "cell_type": "code",
   "execution_count": 7,
   "id": "f6585c08-73a6-4982-a85b-eeda95288c23",
   "metadata": {},
   "outputs": [
    {
     "data": {
      "text/plain": [
       "False"
      ]
     },
     "execution_count": 7,
     "metadata": {},
     "output_type": "execute_result"
    }
   ],
   "source": [
    "olympics.empty()"
   ]
  },
  {
   "cell_type": "code",
   "execution_count": 8,
   "id": "b8f6b58b-089a-464a-bc76-7ed0f45d4f0b",
   "metadata": {},
   "outputs": [],
   "source": [
    "olympics.put(\"Australia\")"
   ]
  },
  {
   "cell_type": "code",
   "execution_count": 9,
   "id": "f0842ae3-1205-4520-a713-ebfc99b22b83",
   "metadata": {},
   "outputs": [],
   "source": [
    "olympics.put(\"USA\")"
   ]
  },
  {
   "cell_type": "code",
   "execution_count": 10,
   "id": "0678781d-54b5-4b51-a5cc-13cacb07f12e",
   "metadata": {},
   "outputs": [],
   "source": [
    "olympics.put(\"china\")"
   ]
  },
  {
   "cell_type": "code",
   "execution_count": 11,
   "id": "deb2af1f-0bc1-4b87-8c6f-563b1f4106aa",
   "metadata": {},
   "outputs": [],
   "source": [
    "olympics.put(\"England\")"
   ]
  },
  {
   "cell_type": "code",
   "execution_count": 12,
   "id": "7a7abc76-08c7-4a8d-aaba-222fe3b1532d",
   "metadata": {},
   "outputs": [
    {
     "data": {
      "text/plain": [
       "'India'"
      ]
     },
     "execution_count": 12,
     "metadata": {},
     "output_type": "execute_result"
    }
   ],
   "source": [
    "olympics.get()"
   ]
  },
  {
   "cell_type": "code",
   "execution_count": 13,
   "id": "cb5c683b-4f6b-4b48-8f46-3d1f696b841f",
   "metadata": {},
   "outputs": [
    {
     "data": {
      "text/plain": [
       "'Australia'"
      ]
     },
     "execution_count": 13,
     "metadata": {},
     "output_type": "execute_result"
    }
   ],
   "source": [
    "olympics.get()"
   ]
  },
  {
   "cell_type": "code",
   "execution_count": 14,
   "id": "be8fd27f-4cdf-4385-abf2-c7baf475ab84",
   "metadata": {},
   "outputs": [
    {
     "data": {
      "text/plain": [
       "'USA'"
      ]
     },
     "execution_count": 14,
     "metadata": {},
     "output_type": "execute_result"
    }
   ],
   "source": [
    "olympics.get()"
   ]
  },
  {
   "cell_type": "code",
   "execution_count": 15,
   "id": "b7001bd4-7057-4297-b645-d69c33279206",
   "metadata": {},
   "outputs": [
    {
     "data": {
      "text/plain": [
       "'china'"
      ]
     },
     "execution_count": 15,
     "metadata": {},
     "output_type": "execute_result"
    }
   ],
   "source": [
    "olympics.get()"
   ]
  },
  {
   "cell_type": "code",
   "execution_count": 16,
   "id": "19520705-fbcc-4bb5-ae47-e91e5ff09708",
   "metadata": {},
   "outputs": [
    {
     "data": {
      "text/plain": [
       "'England'"
      ]
     },
     "execution_count": 16,
     "metadata": {},
     "output_type": "execute_result"
    }
   ],
   "source": [
    "olympics.get()"
   ]
  },
  {
   "cell_type": "code",
   "execution_count": null,
   "id": "3767e467-2953-4584-a6c4-de29c5ba37f4",
   "metadata": {},
   "outputs": [],
   "source": []
  },
  {
   "cell_type": "code",
   "execution_count": 17,
   "id": "dbb7b9ff-d033-4aef-bb40-401156a2f86e",
   "metadata": {},
   "outputs": [],
   "source": [
    "class MyQueue:\n",
    "    def __init__(self):\n",
    "        self.items = []\n",
    "    def is_empty(self):\n",
    "        return len(self.items) == 0\n",
    "    def enqueue(self,element):\n",
    "        self.items.append(element)\n",
    "    def dequeue(self):\n",
    "        return self.items.pop(0)\n",
    "    def size(self):\n",
    "        return len(self.items)\n",
    "    def peek(self):\n",
    "        if self.is_empty():\n",
    "            raise Exception(\"Nothing to peek here\")\n",
    "        return self.items[0]\n",
    "        "
   ]
  },
  {
   "cell_type": "code",
   "execution_count": 18,
   "id": "95fa0385-e6eb-4873-89a6-98958a30c312",
   "metadata": {},
   "outputs": [],
   "source": [
    "olympics = MyQueue()\n"
   ]
  },
  {
   "cell_type": "code",
   "execution_count": 19,
   "id": "7ad8b7d9-6192-4fce-a3d5-2ce8869b839c",
   "metadata": {},
   "outputs": [],
   "source": [
    "olympics.enqueue(\"India\")"
   ]
  },
  {
   "cell_type": "code",
   "execution_count": 20,
   "id": "846f7580-ec89-4db6-907a-e61028507806",
   "metadata": {},
   "outputs": [],
   "source": [
    "olympics.enqueue(\"USA\")"
   ]
  },
  {
   "cell_type": "code",
   "execution_count": 21,
   "id": "028ae482-b658-4741-8e4c-f36063668fd6",
   "metadata": {},
   "outputs": [],
   "source": [
    "olympics.enqueue(\"CHINA\")"
   ]
  },
  {
   "cell_type": "code",
   "execution_count": 22,
   "id": "e8039678-6279-4a30-bdb5-353d018eb9ce",
   "metadata": {},
   "outputs": [
    {
     "data": {
      "text/plain": [
       "'India'"
      ]
     },
     "execution_count": 22,
     "metadata": {},
     "output_type": "execute_result"
    }
   ],
   "source": [
    "olympics.peek()"
   ]
  },
  {
   "cell_type": "code",
   "execution_count": 23,
   "id": "5ad4d703-9e2e-4243-8647-7d5dd1b26212",
   "metadata": {},
   "outputs": [
    {
     "data": {
      "text/plain": [
       "'India'"
      ]
     },
     "execution_count": 23,
     "metadata": {},
     "output_type": "execute_result"
    }
   ],
   "source": [
    "olympics.dequeue()"
   ]
  },
  {
   "cell_type": "code",
   "execution_count": 24,
   "id": "5c436d27-bef7-49ba-90e7-06d0cb78c62d",
   "metadata": {},
   "outputs": [
    {
     "data": {
      "text/plain": [
       "'USA'"
      ]
     },
     "execution_count": 24,
     "metadata": {},
     "output_type": "execute_result"
    }
   ],
   "source": [
    "olympics.peek()"
   ]
  },
  {
   "cell_type": "code",
   "execution_count": null,
   "id": "8a7c19d0-2d45-4dd0-ba44-4ff53771d4c1",
   "metadata": {},
   "outputs": [],
   "source": []
  }
 ],
 "metadata": {
  "kernelspec": {
   "display_name": "Python 3 (ipykernel)",
   "language": "python",
   "name": "python3"
  },
  "language_info": {
   "codemirror_mode": {
    "name": "ipython",
    "version": 3
   },
   "file_extension": ".py",
   "mimetype": "text/x-python",
   "name": "python",
   "nbconvert_exporter": "python",
   "pygments_lexer": "ipython3",
   "version": "3.8.10"
  }
 },
 "nbformat": 4,
 "nbformat_minor": 5
}
