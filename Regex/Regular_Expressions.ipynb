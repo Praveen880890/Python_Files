{
 "cells": [
  {
   "cell_type": "code",
   "execution_count": 1,
   "id": "bd6ad4bd-3f98-4b55-ac9f-30357369c8b7",
   "metadata": {},
   "outputs": [
    {
     "data": {
      "text/plain": [
       "['Python ', ' simple and it ', ' easy']"
      ]
     },
     "execution_count": 1,
     "metadata": {},
     "output_type": "execute_result"
    }
   ],
   "source": [
    "my_str = \"Python is simple and it is easy\"\n",
    "my_str.split(\"is\")"
   ]
  },
  {
   "cell_type": "code",
   "execution_count": 2,
   "id": "3f246d27-c368-4108-bc9f-1f220c8227d3",
   "metadata": {},
   "outputs": [
    {
     "data": {
      "text/plain": [
       "['Python ', ' simple and ', ' ', ' easy']"
      ]
     },
     "execution_count": 2,
     "metadata": {},
     "output_type": "execute_result"
    }
   ],
   "source": [
    "import re\n",
    "re.split(\"i[st]\",my_str)"
   ]
  },
  {
   "cell_type": "code",
   "execution_count": 6,
   "id": "77a23be7-82e6-4b2c-80b5-6163c2c748bc",
   "metadata": {},
   "outputs": [
    {
     "name": "stdin",
     "output_type": "stream",
     "text": [
      "What's your email? fraj@fds.com\n"
     ]
    },
    {
     "name": "stdout",
     "output_type": "stream",
     "text": [
      "Valid\n"
     ]
    }
   ],
   "source": [
    "email = input(\"What's your email?\").strip() \n",
    "\n",
    "username, domain =email.split(\"@\")\n",
    "if username and \".\" in domain:\n",
    "    print(\"Valid\")\n",
    "else:\n",
    "    print(\"Invalid\")\n"
   ]
  },
  {
   "cell_type": "code",
   "execution_count": null,
   "id": "53dc611b-b226-4eed-a2b4-3ab366f16c14",
   "metadata": {},
   "outputs": [],
   "source": [
    "if re.search(\"@\",email):\n",
    "    print(\"valid\")\n",
    "else :\n",
    "    print(\"Invalid\")"
   ]
  }
 ],
 "metadata": {
  "kernelspec": {
   "display_name": "Python 3 (ipykernel)",
   "language": "python",
   "name": "python3"
  },
  "language_info": {
   "codemirror_mode": {
    "name": "ipython",
    "version": 3
   },
   "file_extension": ".py",
   "mimetype": "text/x-python",
   "name": "python",
   "nbconvert_exporter": "python",
   "pygments_lexer": "ipython3",
   "version": "3.8.10"
  }
 },
 "nbformat": 4,
 "nbformat_minor": 5
}
