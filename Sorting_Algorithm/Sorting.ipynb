{
 "cells": [
  {
   "cell_type": "code",
   "execution_count": 1,
   "id": "c7d44002-66a0-4382-b0c6-2ce449dad8f2",
   "metadata": {},
   "outputs": [],
   "source": [
    "## Selection Sort"
   ]
  },
  {
   "cell_type": "code",
   "execution_count": 2,
   "id": "ebb62f5e-a931-435b-83d2-de182af76f84",
   "metadata": {},
   "outputs": [],
   "source": [
    "def print_list(num_list):\n",
    "    print(num_list)"
   ]
  },
  {
   "cell_type": "code",
   "execution_count": 3,
   "id": "747527ec-aa7a-4e0c-9efc-4561f5586632",
   "metadata": {},
   "outputs": [],
   "source": [
    "def selection_sort(original_list):\n",
    "    length = len(original_list)\n",
    "    for i in range(length):\n",
    "        min_value = i\n",
    "        for j in range(i+1,length):\n",
    "            if original_list[min_value]>original_list[j]:\n",
    "                min_value = j\n",
    "        original_list[i],original_list[min_value] = original_list[min_value],original_list[i]\n",
    "        print(\"Sorted till index\", i)\n",
    "        print_list(original_list)\n",
    "    print(\"Sorted list:\")\n",
    "    print_list(original_list)"
   ]
  },
  {
   "cell_type": "code",
   "execution_count": 20,
   "id": "13cc8fff-6c65-4f26-b67d-1b2714b1f87a",
   "metadata": {},
   "outputs": [],
   "source": [
    "num_list = [10,12,2,5,6,3,8,11,1,89]"
   ]
  },
  {
   "cell_type": "code",
   "execution_count": 7,
   "id": "905f4e5a-7c27-4e2d-845f-1da46ed8b7a2",
   "metadata": {},
   "outputs": [
    {
     "name": "stdout",
     "output_type": "stream",
     "text": [
      "Sorted till index 0\n",
      "[1, 12, 2, 5, 6, 3, 8, 11, 10, 89]\n",
      "Sorted till index 1\n",
      "[1, 2, 12, 5, 6, 3, 8, 11, 10, 89]\n",
      "Sorted till index 2\n",
      "[1, 2, 3, 5, 6, 12, 8, 11, 10, 89]\n",
      "Sorted till index 3\n",
      "[1, 2, 3, 5, 6, 12, 8, 11, 10, 89]\n",
      "Sorted till index 4\n",
      "[1, 2, 3, 5, 6, 12, 8, 11, 10, 89]\n",
      "Sorted till index 5\n",
      "[1, 2, 3, 5, 6, 8, 12, 11, 10, 89]\n",
      "Sorted till index 6\n",
      "[1, 2, 3, 5, 6, 8, 10, 11, 12, 89]\n",
      "Sorted till index 7\n",
      "[1, 2, 3, 5, 6, 8, 10, 11, 12, 89]\n",
      "Sorted till index 8\n",
      "[1, 2, 3, 5, 6, 8, 10, 11, 12, 89]\n",
      "Sorted till index 9\n",
      "[1, 2, 3, 5, 6, 8, 10, 11, 12, 89]\n",
      "Sorted list:\n",
      "[1, 2, 3, 5, 6, 8, 10, 11, 12, 89]\n"
     ]
    }
   ],
   "source": [
    "selection_sort(num_list)\n"
   ]
  },
  {
   "cell_type": "code",
   "execution_count": 8,
   "id": "cb990f24-e793-482a-8964-1d557deb0123",
   "metadata": {},
   "outputs": [
    {
     "name": "stdout",
     "output_type": "stream",
     "text": [
      "Sorted till index 0\n",
      "['elephant', 'giraffe', 'loin', 'tiger']\n",
      "Sorted till index 1\n",
      "['elephant', 'giraffe', 'loin', 'tiger']\n",
      "Sorted till index 2\n",
      "['elephant', 'giraffe', 'loin', 'tiger']\n",
      "Sorted till index 3\n",
      "['elephant', 'giraffe', 'loin', 'tiger']\n",
      "Sorted list:\n",
      "['elephant', 'giraffe', 'loin', 'tiger']\n"
     ]
    }
   ],
   "source": [
    "animals_list = ['loin','giraffe','elephant','tiger']\n",
    "selection_sort(animals_list)"
   ]
  },
  {
   "cell_type": "code",
   "execution_count": 15,
   "id": "d929a174-a876-47ff-803e-0de502280432",
   "metadata": {},
   "outputs": [],
   "source": [
    "def bubble_sort(org_list):\n",
    "    length = len(org_list)\n",
    "    \n",
    "    for i in range(length - 1,0,-1):\n",
    "        swap = False\n",
    "        for index in range(i):\n",
    "            if org_list[index]>org_list[index+1]:\n",
    "                org_list[index+1],org_list[index] = \\\n",
    "                org_list[index],org_list[index+1]\n",
    "                swap = True\n",
    "        print(\"Unsorted till index: \",i-1)\n",
    "        print_list(org_list)\n",
    "        if swap==False:\n",
    "            break"
   ]
  },
  {
   "cell_type": "code",
   "execution_count": 18,
   "id": "0f7023fc-3bed-4c2e-a5f3-e32540baa3e3",
   "metadata": {},
   "outputs": [
    {
     "name": "stdout",
     "output_type": "stream",
     "text": [
      "Unsorted till index:  8\n",
      "[1, 2, 3, 5, 6, 8, 10, 11, 12, 89]\n"
     ]
    }
   ],
   "source": [
    "bubble_sort(num_list)"
   ]
  },
  {
   "cell_type": "code",
   "execution_count": 19,
   "id": "a5694834-dbb0-43fb-855c-4d80c880903c",
   "metadata": {},
   "outputs": [],
   "source": [
    "def insertion_sort(org_list):\n",
    "    length = len(org_list)\n",
    "    for i in range(0,length -1):\n",
    "        for j in range(i+1,0,-1):\n",
    "            if org_list[j] < org_list[j-1]:\n",
    "                org_list[j] , org_list[j-1]= org_list[j-1] , org_list[j]\n",
    "        print(\"Sorted till index:\",i)\n",
    "        print_list(org_list)"
   ]
  },
  {
   "cell_type": "code",
   "execution_count": 22,
   "id": "9c901b20-a875-4e5f-adb0-75fdccf1928a",
   "metadata": {},
   "outputs": [
    {
     "name": "stdout",
     "output_type": "stream",
     "text": [
      "Sorted till index: 0\n",
      "[10, 12, 2, 5, 6, 3, 8, 11, 1, 89]\n",
      "Sorted till index: 1\n",
      "[2, 10, 12, 5, 6, 3, 8, 11, 1, 89]\n",
      "Sorted till index: 2\n",
      "[2, 5, 10, 12, 6, 3, 8, 11, 1, 89]\n",
      "Sorted till index: 3\n",
      "[2, 5, 6, 10, 12, 3, 8, 11, 1, 89]\n",
      "Sorted till index: 4\n",
      "[2, 3, 5, 6, 10, 12, 8, 11, 1, 89]\n",
      "Sorted till index: 5\n",
      "[2, 3, 5, 6, 8, 10, 12, 11, 1, 89]\n",
      "Sorted till index: 6\n",
      "[2, 3, 5, 6, 8, 10, 11, 12, 1, 89]\n",
      "Sorted till index: 7\n",
      "[1, 2, 3, 5, 6, 8, 10, 11, 12, 89]\n",
      "Sorted till index: 8\n",
      "[1, 2, 3, 5, 6, 8, 10, 11, 12, 89]\n"
     ]
    }
   ],
   "source": [
    "insertion_sort(num_list)"
   ]
  },
  {
   "cell_type": "code",
   "execution_count": 26,
   "id": "8d217c54-801f-48b0-bda3-5d6bd9f7bb70",
   "metadata": {},
   "outputs": [],
   "source": [
    "def shell_sort(org_list):\n",
    "    length = len(org_list)\n",
    "    gap = length//2\n",
    "    while gap>0:\n",
    "        for i in range(gap,length):\n",
    "            temp = org_list[i]\n",
    "            j = i\n",
    "            while j>=gap and org_list[j-gap]>temp:\n",
    "                org_list[j] = org_list[j-gap]\n",
    "                j -=gap\n",
    "            org_list[j] = temp \n",
    "            print(\"Gap :\",gap)\n",
    "            print_list(org_list)\n",
    "        gap //=2"
   ]
  },
  {
   "cell_type": "code",
   "execution_count": 27,
   "id": "72eccf3a-f4b8-4189-ac07-27fe9ba35e5c",
   "metadata": {},
   "outputs": [],
   "source": [
    "num_list = [10,12,2,5,6,3,8,11,1,89]"
   ]
  },
  {
   "cell_type": "code",
   "execution_count": 28,
   "id": "6860edc9-02ed-4bc2-aa83-88c24eb3ea4a",
   "metadata": {},
   "outputs": [
    {
     "name": "stdout",
     "output_type": "stream",
     "text": [
      "Gap : 5\n",
      "[3, 12, 2, 5, 6, 10, 8, 11, 1, 89]\n",
      "Gap : 5\n",
      "[3, 8, 2, 5, 6, 10, 12, 11, 1, 89]\n",
      "Gap : 5\n",
      "[3, 8, 2, 5, 6, 10, 12, 11, 1, 89]\n",
      "Gap : 5\n",
      "[3, 8, 2, 1, 6, 10, 12, 11, 5, 89]\n",
      "Gap : 5\n",
      "[3, 8, 2, 1, 6, 10, 12, 11, 5, 89]\n",
      "Gap : 2\n",
      "[2, 8, 3, 1, 6, 10, 12, 11, 5, 89]\n",
      "Gap : 2\n",
      "[2, 1, 3, 8, 6, 10, 12, 11, 5, 89]\n",
      "Gap : 2\n",
      "[2, 1, 3, 8, 6, 10, 12, 11, 5, 89]\n",
      "Gap : 2\n",
      "[2, 1, 3, 8, 6, 10, 12, 11, 5, 89]\n",
      "Gap : 2\n",
      "[2, 1, 3, 8, 6, 10, 12, 11, 5, 89]\n",
      "Gap : 2\n",
      "[2, 1, 3, 8, 6, 10, 12, 11, 5, 89]\n",
      "Gap : 2\n",
      "[2, 1, 3, 8, 5, 10, 6, 11, 12, 89]\n",
      "Gap : 2\n",
      "[2, 1, 3, 8, 5, 10, 6, 11, 12, 89]\n",
      "Gap : 1\n",
      "[1, 2, 3, 8, 5, 10, 6, 11, 12, 89]\n",
      "Gap : 1\n",
      "[1, 2, 3, 8, 5, 10, 6, 11, 12, 89]\n",
      "Gap : 1\n",
      "[1, 2, 3, 8, 5, 10, 6, 11, 12, 89]\n",
      "Gap : 1\n",
      "[1, 2, 3, 5, 8, 10, 6, 11, 12, 89]\n",
      "Gap : 1\n",
      "[1, 2, 3, 5, 8, 10, 6, 11, 12, 89]\n",
      "Gap : 1\n",
      "[1, 2, 3, 5, 6, 8, 10, 11, 12, 89]\n",
      "Gap : 1\n",
      "[1, 2, 3, 5, 6, 8, 10, 11, 12, 89]\n",
      "Gap : 1\n",
      "[1, 2, 3, 5, 6, 8, 10, 11, 12, 89]\n",
      "Gap : 1\n",
      "[1, 2, 3, 5, 6, 8, 10, 11, 12, 89]\n"
     ]
    }
   ],
   "source": [
    "shell_sort(num_list)"
   ]
  },
  {
   "cell_type": "code",
   "execution_count": 46,
   "id": "8a5fbc4a-8749-4141-8e6c-451e33196e93",
   "metadata": {},
   "outputs": [],
   "source": [
    "def shell_sortt(arr):\n",
    "    gap =len(arr)//2\n",
    "    size = len(arr)\n",
    "    while gap>0:    \n",
    "        for i in range(gap,size):\n",
    "            anchor = arr[i]\n",
    "            j=i\n",
    "            while j>=gap and arr[j-gap]>anchor:\n",
    "                print(arr,gap,anchor)\n",
    "                arr[j]=arr[j-gap]\n",
    "                j-=gap\n",
    "            arr[j] = anchor\n",
    "        gap//=2\n",
    "        print(gap)\n",
    "            "
   ]
  },
  {
   "cell_type": "code",
   "execution_count": 49,
   "id": "17c0db4b-8a7c-4bc2-a65a-c2c3354b36e2",
   "metadata": {},
   "outputs": [],
   "source": [
    "num = [21,38,29,17,4,25,11,32,9]\n",
    "# shell_sortt(num)\n",
    "# num"
   ]
  },
  {
   "cell_type": "code",
   "execution_count": 48,
   "id": "2cf813a5-7c03-473e-bb5e-6b09e241f2bd",
   "metadata": {},
   "outputs": [],
   "source": [
    "def merge_sort(org_list):\n",
    "    if len(org_list)<=1:\n",
    "        return\n",
    "    mid = len(org_list)//2\n",
    "    lefthalf = org_list[:mid]\n",
    "    righthalf = org_list[mid:]\n",
    "    merge_sort(lefthalf)\n",
    "    print_list(lefthalf)\n",
    "\n",
    "    merge_sort(righthalf)\n",
    "    print_list(righthalf)\n",
    "\n",
    "    i,j,k = 0,0,0\n",
    "\n",
    "    while i<len(lefthalf) and j<len(righthalf):\n",
    "        if lefthalf[i]<righthalf[j]:\n",
    "            org_list[k] = lefthalf[i]\n",
    "            i+=1\n",
    "        else:\n",
    "            org_list[k] = righthalf[j]\n",
    "            j+=1\n",
    "        k+=1\n",
    "    while i<len(lefthalf):\n",
    "        org_list[k] = lefthalf[i]\n",
    "        i+=1\n",
    "        k+=1\n",
    "    while j<len(righthalf):\n",
    "        org_list[k] = righthalf[j]\n",
    "        j+=1\n",
    "        k+=1\n",
    "    "
   ]
  },
  {
   "cell_type": "code",
   "execution_count": 50,
   "id": "095d6f4d-0d49-4670-936a-772d04306ead",
   "metadata": {},
   "outputs": [
    {
     "name": "stdout",
     "output_type": "stream",
     "text": [
      "[21]\n",
      "[38]\n",
      "[21, 38]\n",
      "[29]\n",
      "[17]\n",
      "[17, 29]\n",
      "[17, 21, 29, 38]\n",
      "[4]\n",
      "[25]\n",
      "[4, 25]\n",
      "[11]\n",
      "[32]\n",
      "[9]\n",
      "[9, 32]\n",
      "[9, 11, 32]\n",
      "[4, 9, 11, 25, 32]\n"
     ]
    }
   ],
   "source": [
    "merge_sort(num)"
   ]
  },
  {
   "cell_type": "code",
   "execution_count": 51,
   "id": "8a2eac88-7007-4979-bf23-d1e49d56688c",
   "metadata": {},
   "outputs": [
    {
     "data": {
      "text/plain": [
       "[4, 9, 11, 17, 21, 25, 29, 32, 38]"
      ]
     },
     "execution_count": 51,
     "metadata": {},
     "output_type": "execute_result"
    }
   ],
   "source": [
    "num"
   ]
  },
  {
   "cell_type": "code",
   "execution_count": 56,
   "id": "eb1e585b-a843-4e0d-b246-32c4004b112a",
   "metadata": {},
   "outputs": [],
   "source": [
    "def partition(org_list,start_index,end_index):\n",
    "    curr_index = start_index\n",
    "    pivot = org_list[end_index]\n",
    "    for i in range(start_index,end_index):\n",
    "        if org_list[i] <= pivot:\n",
    "            org_list[curr_index],org_list[i]=\\\n",
    "            org_list[i],org_list[curr_index]\n",
    "            curr_index +=1\n",
    "    org_list[curr_index],org_list[end_index]=\\\n",
    "    org_list[end_index],org_list[curr_index]\n",
    "    return curr_index"
   ]
  },
  {
   "cell_type": "code",
   "execution_count": 60,
   "id": "9ef1b245-292a-4766-8f07-e7028254af2d",
   "metadata": {},
   "outputs": [],
   "source": [
    "def quick_sort(org_list,start_index,end_index):\n",
    "    if start_index >=end_index:\n",
    "        return\n",
    "    pi = partition(org_list,start_index,end_index)\n",
    "    print(\"Element in the right place: \",org_list[pi],pi)\n",
    "    print_list(org_list)\n",
    "    quick_sort(org_list,start_index,pi-1)\n",
    "    quick_sort(org_list,pi+1,end_index)"
   ]
  },
  {
   "cell_type": "code",
   "execution_count": 61,
   "id": "46e76b74-8caa-4d51-ba3b-b062fc17d3f1",
   "metadata": {},
   "outputs": [
    {
     "name": "stdout",
     "output_type": "stream",
     "text": [
      "Element in the right place:  9 1\n",
      "[4, 9, 29, 17, 21, 25, 11, 32, 38]\n",
      "Element in the right place:  38 8\n",
      "[4, 9, 29, 17, 21, 25, 11, 32, 38]\n",
      "Element in the right place:  32 7\n",
      "[4, 9, 29, 17, 21, 25, 11, 32, 38]\n",
      "Element in the right place:  11 2\n",
      "[4, 9, 11, 17, 21, 25, 29, 32, 38]\n",
      "Element in the right place:  29 6\n",
      "[4, 9, 11, 17, 21, 25, 29, 32, 38]\n",
      "Element in the right place:  25 5\n",
      "[4, 9, 11, 17, 21, 25, 29, 32, 38]\n",
      "Element in the right place:  21 4\n",
      "[4, 9, 11, 17, 21, 25, 29, 32, 38]\n"
     ]
    }
   ],
   "source": [
    "num = [21,38,29,17,4,25,11,32,9]\n",
    "quick_sort(num,0,len(num)-1)"
   ]
  },
  {
   "cell_type": "code",
   "execution_count": null,
   "id": "f251482b-2e97-4a2d-889b-f702e48a83fb",
   "metadata": {},
   "outputs": [],
   "source": []
  }
 ],
 "metadata": {
  "kernelspec": {
   "display_name": "Python 3 (ipykernel)",
   "language": "python",
   "name": "python3"
  },
  "language_info": {
   "codemirror_mode": {
    "name": "ipython",
    "version": 3
   },
   "file_extension": ".py",
   "mimetype": "text/x-python",
   "name": "python",
   "nbconvert_exporter": "python",
   "pygments_lexer": "ipython3",
   "version": "3.8.10"
  }
 },
 "nbformat": 4,
 "nbformat_minor": 5
}
